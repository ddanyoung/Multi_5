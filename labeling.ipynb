{
 "cells": [
  {
   "cell_type": "code",
   "execution_count": 9,
   "metadata": {},
   "outputs": [
    {
     "data": {
      "text/html": [
       "<div>\n",
       "<style scoped>\n",
       "    .dataframe tbody tr th:only-of-type {\n",
       "        vertical-align: middle;\n",
       "    }\n",
       "\n",
       "    .dataframe tbody tr th {\n",
       "        vertical-align: top;\n",
       "    }\n",
       "\n",
       "    .dataframe thead th {\n",
       "        text-align: right;\n",
       "    }\n",
       "</style>\n",
       "<table border=\"1\" class=\"dataframe\">\n",
       "  <thead>\n",
       "    <tr style=\"text-align: right;\">\n",
       "      <th></th>\n",
       "      <th>0</th>\n",
       "    </tr>\n",
       "  </thead>\n",
       "  <tbody>\n",
       "    <tr>\n",
       "      <th>0</th>\n",
       "      <td>우리에게 북한은 꼭 없애야 할 적일뿐\\n</td>\n",
       "    </tr>\n",
       "    <tr>\n",
       "      <th>1</th>\n",
       "      <td>문재앙 탄핵 원하면 추천 눌러주세요!! 여론의 힘을 보여줍시다\\n</td>\n",
       "    </tr>\n",
       "    <tr>\n",
       "      <th>2</th>\n",
       "      <td>김정은이 트럼프를 개호구 문재인으로 착각했나봄ㅋㅋ\\n</td>\n",
       "    </tr>\n",
       "    <tr>\n",
       "      <th>3</th>\n",
       "      <td>부칸이 밑장빼기하다가 딱 걸렸군\\n</td>\n",
       "    </tr>\n",
       "    <tr>\n",
       "      <th>4</th>\n",
       "      <td>북한 욕하면 친일이란 그딴 사고방식은 김일성 종합대학에서 배웠니? ㅋㅋ\\n</td>\n",
       "    </tr>\n",
       "  </tbody>\n",
       "</table>\n",
       "</div>"
      ],
      "text/plain": [
       "                                           0\n",
       "0                     우리에게 북한은 꼭 없애야 할 적일뿐\\n\n",
       "1       문재앙 탄핵 원하면 추천 눌러주세요!! 여론의 힘을 보여줍시다\\n\n",
       "2              김정은이 트럼프를 개호구 문재인으로 착각했나봄ㅋㅋ\\n\n",
       "3                        부칸이 밑장빼기하다가 딱 걸렸군\\n\n",
       "4  북한 욕하면 친일이란 그딴 사고방식은 김일성 종합대학에서 배웠니? ㅋㅋ\\n"
      ]
     },
     "execution_count": 9,
     "metadata": {},
     "output_type": "execute_result"
    }
   ],
   "source": [
    "import pandas as pd\n",
    "\n",
    "file = open('data/KCbert_dataset.txt', 'r')\n",
    "df= pd.DataFrame(file)\n",
    "df.head()"
   ]
  },
  {
   "cell_type": "code",
   "execution_count": 65,
   "metadata": {},
   "outputs": [],
   "source": [
    "woman_family = ['김치년', '보지', '보슬', '걸레', '꼴페미', '김여사', '된장녀', '느금', '니애미', '창녀', '삼일한', '엠창', '앰창', '맘충', '성괴', '웜퇘지', '메갈', '페미', '상폐', '혜지', '피싸개', '보적보', '김치', '쿵쾅', '메퇘지', '한녀충']\n",
    "man = ['한남충', '씹치', '재기', '군무새', '6.9', '웅앵웅', '독박육아', '조팔', '고기방패', '한남', '자적자', '한남유충', '창놈', '힘조', '69', '보빨', '즈개비', '애비충', '군쾅', '소추', '냄져', '느개비', '냄저']\n",
    "lgbt = ['게이', '레즈', '퀴어', '똥꼬충', '트젠', '돈고충', '동성애', '에이즈']\n",
    "human = ['양키', '짱깨', '쪽빠리', '흑형', '니그로', '갓슬람', '아우슈비츠', '좆본', '똥남아', '헬조선', '헬조센', '조센징', '인종청소', '똥송', '짱', '짱꼴라', '개슬람', '백마']\n",
    "age = ['급식', '틀딱', '586', '486', '아재', '노친네', '틀딱', '태극기']\n",
    "region = ['홍어', '전라', '신안', '염전', '라도', '개쌍도', '쌍도', '멍청도', '우덜', '통구이', '절라도', '광광']\n",
    "religion = ['개독', '개슬람', '알라', '예수쟁이', '땡중']\n",
    "etc = ['기균충', '지균충', '토착왜구', '빨갱이', '문재앙', '재앙', '자라니', '지잡', '멸공', '정공', '던공', '슼갈', '좌빨', '기레기', '폰팔이', '용팔이', '국평오', '윤짜장', '대머리', '폭동', '민주화', '문빠', '파오후', '쿰척', '반일', '친일', '박사모', '좆문대', '좆소', '문죄인', '부칸', '종북']\n",
    "abuse = ['씨발', '개같은', '새끼', '좆', '염병', '옘병', '정신병자', '개소리', '미친', '패버', '버러지', '개돼지', '씹', '좆창', '듣보', '지롤', '지랄', '아가리', '똥내', '년놈', '일베', '병자', '미개', '정신병', '호구', '년', '놈']"
   ]
  },
  {
   "cell_type": "code",
   "execution_count": 17,
   "metadata": {},
   "outputs": [
    {
     "data": {
      "text/plain": [
       "3700227"
      ]
     },
     "execution_count": 17,
     "metadata": {},
     "output_type": "execute_result"
    }
   ],
   "source": [
    "df['문장'].str.count('문재인').sum()"
   ]
  },
  {
   "cell_type": "code",
   "execution_count": 18,
   "metadata": {},
   "outputs": [
    {
     "data": {
      "text/plain": [
       "1658000"
      ]
     },
     "execution_count": 18,
     "metadata": {},
     "output_type": "execute_result"
    }
   ],
   "source": [
    "df['문장'].str.count('문재앙').sum()"
   ]
  },
  {
   "cell_type": "code",
   "execution_count": 21,
   "metadata": {},
   "outputs": [
    {
     "data": {
      "text/plain": [
       "78716"
      ]
     },
     "execution_count": 21,
     "metadata": {},
     "output_type": "execute_result"
    }
   ],
   "source": [
    "df['문장'].str.count('김치').sum()"
   ]
  },
  {
   "cell_type": "code",
   "execution_count": 20,
   "metadata": {},
   "outputs": [
    {
     "data": {
      "text/plain": [
       "5420570"
      ]
     },
     "execution_count": 20,
     "metadata": {},
     "output_type": "execute_result"
    }
   ],
   "source": [
    "df[0].str.count('문재').sum()"
   ]
  },
  {
   "cell_type": "code",
   "execution_count": 22,
   "metadata": {},
   "outputs": [
    {
     "data": {
      "text/plain": [
       "122618"
      ]
     },
     "execution_count": 22,
     "metadata": {},
     "output_type": "execute_result"
    }
   ],
   "source": [
    "df['문장'].str.count('한남').sum()"
   ]
  },
  {
   "cell_type": "code",
   "execution_count": 23,
   "metadata": {},
   "outputs": [
    {
     "data": {
      "text/plain": [
       "756282"
      ]
     },
     "execution_count": 23,
     "metadata": {},
     "output_type": "execute_result"
    }
   ],
   "source": [
    "df['문장'].str.count('전라').sum()"
   ]
  },
  {
   "cell_type": "code",
   "execution_count": 24,
   "metadata": {},
   "outputs": [
    {
     "data": {
      "text/plain": [
       "436702"
      ]
     },
     "execution_count": 24,
     "metadata": {},
     "output_type": "execute_result"
    }
   ],
   "source": [
    "df['문장'].str.count('반일').sum()"
   ]
  },
  {
   "cell_type": "code",
   "execution_count": 25,
   "metadata": {},
   "outputs": [
    {
     "data": {
      "text/plain": [
       "4783"
      ]
     },
     "execution_count": 25,
     "metadata": {},
     "output_type": "execute_result"
    }
   ],
   "source": [
    "df['문장'].str.count('똥꼬충').sum()"
   ]
  },
  {
   "cell_type": "code",
   "execution_count": 37,
   "metadata": {},
   "outputs": [
    {
     "ename": "KeyError",
     "evalue": "0",
     "output_type": "error",
     "traceback": [
      "\u001b[0;31m---------------------------------------------------------------------------\u001b[0m",
      "\u001b[0;31mKeyError\u001b[0m                                  Traceback (most recent call last)",
      "File \u001b[0;32m~/opt/anaconda3/envs/kdig/lib/python3.9/site-packages/pandas/core/indexes/base.py:3621\u001b[0m, in \u001b[0;36mIndex.get_loc\u001b[0;34m(self, key, method, tolerance)\u001b[0m\n\u001b[1;32m   <a href='file:///Users/wondongchan/opt/anaconda3/envs/kdig/lib/python3.9/site-packages/pandas/core/indexes/base.py?line=3619'>3620</a>\u001b[0m \u001b[39mtry\u001b[39;00m:\n\u001b[0;32m-> <a href='file:///Users/wondongchan/opt/anaconda3/envs/kdig/lib/python3.9/site-packages/pandas/core/indexes/base.py?line=3620'>3621</a>\u001b[0m     \u001b[39mreturn\u001b[39;00m \u001b[39mself\u001b[39;49m\u001b[39m.\u001b[39;49m_engine\u001b[39m.\u001b[39;49mget_loc(casted_key)\n\u001b[1;32m   <a href='file:///Users/wondongchan/opt/anaconda3/envs/kdig/lib/python3.9/site-packages/pandas/core/indexes/base.py?line=3621'>3622</a>\u001b[0m \u001b[39mexcept\u001b[39;00m \u001b[39mKeyError\u001b[39;00m \u001b[39mas\u001b[39;00m err:\n",
      "File \u001b[0;32m~/opt/anaconda3/envs/kdig/lib/python3.9/site-packages/pandas/_libs/index.pyx:136\u001b[0m, in \u001b[0;36mpandas._libs.index.IndexEngine.get_loc\u001b[0;34m()\u001b[0m\n",
      "File \u001b[0;32m~/opt/anaconda3/envs/kdig/lib/python3.9/site-packages/pandas/_libs/index.pyx:163\u001b[0m, in \u001b[0;36mpandas._libs.index.IndexEngine.get_loc\u001b[0;34m()\u001b[0m\n",
      "File \u001b[0;32mpandas/_libs/hashtable_class_helper.pxi:5198\u001b[0m, in \u001b[0;36mpandas._libs.hashtable.PyObjectHashTable.get_item\u001b[0;34m()\u001b[0m\n",
      "File \u001b[0;32mpandas/_libs/hashtable_class_helper.pxi:5206\u001b[0m, in \u001b[0;36mpandas._libs.hashtable.PyObjectHashTable.get_item\u001b[0;34m()\u001b[0m\n",
      "\u001b[0;31mKeyError\u001b[0m: 0",
      "\nThe above exception was the direct cause of the following exception:\n",
      "\u001b[0;31mKeyError\u001b[0m                                  Traceback (most recent call last)",
      "\u001b[1;32m/Users/wondongchan/Desktop/multi/Multi_5/labeling.ipynb Cell 11'\u001b[0m in \u001b[0;36m<cell line: 1>\u001b[0;34m()\u001b[0m\n\u001b[0;32m----> <a href='vscode-notebook-cell:/Users/wondongchan/Desktop/multi/Multi_5/labeling.ipynb#ch0000010?line=0'>1</a>\u001b[0m df[\u001b[39m0\u001b[39;49m]\u001b[39m.\u001b[39mstr\u001b[39m.\u001b[39mcount(\u001b[39m'\u001b[39m\u001b[39m삼일한\u001b[39m\u001b[39m'\u001b[39m)\u001b[39m.\u001b[39msum()\n",
      "File \u001b[0;32m~/opt/anaconda3/envs/kdig/lib/python3.9/site-packages/pandas/core/frame.py:3505\u001b[0m, in \u001b[0;36mDataFrame.__getitem__\u001b[0;34m(self, key)\u001b[0m\n\u001b[1;32m   <a href='file:///Users/wondongchan/opt/anaconda3/envs/kdig/lib/python3.9/site-packages/pandas/core/frame.py?line=3502'>3503</a>\u001b[0m \u001b[39mif\u001b[39;00m \u001b[39mself\u001b[39m\u001b[39m.\u001b[39mcolumns\u001b[39m.\u001b[39mnlevels \u001b[39m>\u001b[39m \u001b[39m1\u001b[39m:\n\u001b[1;32m   <a href='file:///Users/wondongchan/opt/anaconda3/envs/kdig/lib/python3.9/site-packages/pandas/core/frame.py?line=3503'>3504</a>\u001b[0m     \u001b[39mreturn\u001b[39;00m \u001b[39mself\u001b[39m\u001b[39m.\u001b[39m_getitem_multilevel(key)\n\u001b[0;32m-> <a href='file:///Users/wondongchan/opt/anaconda3/envs/kdig/lib/python3.9/site-packages/pandas/core/frame.py?line=3504'>3505</a>\u001b[0m indexer \u001b[39m=\u001b[39m \u001b[39mself\u001b[39;49m\u001b[39m.\u001b[39;49mcolumns\u001b[39m.\u001b[39;49mget_loc(key)\n\u001b[1;32m   <a href='file:///Users/wondongchan/opt/anaconda3/envs/kdig/lib/python3.9/site-packages/pandas/core/frame.py?line=3505'>3506</a>\u001b[0m \u001b[39mif\u001b[39;00m is_integer(indexer):\n\u001b[1;32m   <a href='file:///Users/wondongchan/opt/anaconda3/envs/kdig/lib/python3.9/site-packages/pandas/core/frame.py?line=3506'>3507</a>\u001b[0m     indexer \u001b[39m=\u001b[39m [indexer]\n",
      "File \u001b[0;32m~/opt/anaconda3/envs/kdig/lib/python3.9/site-packages/pandas/core/indexes/base.py:3623\u001b[0m, in \u001b[0;36mIndex.get_loc\u001b[0;34m(self, key, method, tolerance)\u001b[0m\n\u001b[1;32m   <a href='file:///Users/wondongchan/opt/anaconda3/envs/kdig/lib/python3.9/site-packages/pandas/core/indexes/base.py?line=3620'>3621</a>\u001b[0m     \u001b[39mreturn\u001b[39;00m \u001b[39mself\u001b[39m\u001b[39m.\u001b[39m_engine\u001b[39m.\u001b[39mget_loc(casted_key)\n\u001b[1;32m   <a href='file:///Users/wondongchan/opt/anaconda3/envs/kdig/lib/python3.9/site-packages/pandas/core/indexes/base.py?line=3621'>3622</a>\u001b[0m \u001b[39mexcept\u001b[39;00m \u001b[39mKeyError\u001b[39;00m \u001b[39mas\u001b[39;00m err:\n\u001b[0;32m-> <a href='file:///Users/wondongchan/opt/anaconda3/envs/kdig/lib/python3.9/site-packages/pandas/core/indexes/base.py?line=3622'>3623</a>\u001b[0m     \u001b[39mraise\u001b[39;00m \u001b[39mKeyError\u001b[39;00m(key) \u001b[39mfrom\u001b[39;00m \u001b[39merr\u001b[39;00m\n\u001b[1;32m   <a href='file:///Users/wondongchan/opt/anaconda3/envs/kdig/lib/python3.9/site-packages/pandas/core/indexes/base.py?line=3623'>3624</a>\u001b[0m \u001b[39mexcept\u001b[39;00m \u001b[39mTypeError\u001b[39;00m:\n\u001b[1;32m   <a href='file:///Users/wondongchan/opt/anaconda3/envs/kdig/lib/python3.9/site-packages/pandas/core/indexes/base.py?line=3624'>3625</a>\u001b[0m     \u001b[39m# If we have a listlike key, _check_indexing_error will raise\u001b[39;00m\n\u001b[1;32m   <a href='file:///Users/wondongchan/opt/anaconda3/envs/kdig/lib/python3.9/site-packages/pandas/core/indexes/base.py?line=3625'>3626</a>\u001b[0m     \u001b[39m#  InvalidIndexError. Otherwise we fall through and re-raise\u001b[39;00m\n\u001b[1;32m   <a href='file:///Users/wondongchan/opt/anaconda3/envs/kdig/lib/python3.9/site-packages/pandas/core/indexes/base.py?line=3626'>3627</a>\u001b[0m     \u001b[39m#  the TypeError.\u001b[39;00m\n\u001b[1;32m   <a href='file:///Users/wondongchan/opt/anaconda3/envs/kdig/lib/python3.9/site-packages/pandas/core/indexes/base.py?line=3627'>3628</a>\u001b[0m     \u001b[39mself\u001b[39m\u001b[39m.\u001b[39m_check_indexing_error(key)\n",
      "\u001b[0;31mKeyError\u001b[0m: 0"
     ]
    }
   ],
   "source": [
    "df['문장'].str.count('삼일한').sum()"
   ]
  },
  {
   "cell_type": "code",
   "execution_count": 27,
   "metadata": {},
   "outputs": [],
   "source": [
    "df.columns = ['문장']"
   ]
  },
  {
   "cell_type": "code",
   "execution_count": 28,
   "metadata": {},
   "outputs": [
    {
     "data": {
      "text/html": [
       "<div>\n",
       "<style scoped>\n",
       "    .dataframe tbody tr th:only-of-type {\n",
       "        vertical-align: middle;\n",
       "    }\n",
       "\n",
       "    .dataframe tbody tr th {\n",
       "        vertical-align: top;\n",
       "    }\n",
       "\n",
       "    .dataframe thead th {\n",
       "        text-align: right;\n",
       "    }\n",
       "</style>\n",
       "<table border=\"1\" class=\"dataframe\">\n",
       "  <thead>\n",
       "    <tr style=\"text-align: right;\">\n",
       "      <th></th>\n",
       "      <th>문장</th>\n",
       "    </tr>\n",
       "  </thead>\n",
       "  <tbody>\n",
       "    <tr>\n",
       "      <th>0</th>\n",
       "      <td>우리에게 북한은 꼭 없애야 할 적일뿐\\n</td>\n",
       "    </tr>\n",
       "    <tr>\n",
       "      <th>1</th>\n",
       "      <td>문재앙 탄핵 원하면 추천 눌러주세요!! 여론의 힘을 보여줍시다\\n</td>\n",
       "    </tr>\n",
       "    <tr>\n",
       "      <th>2</th>\n",
       "      <td>김정은이 트럼프를 개호구 문재인으로 착각했나봄ㅋㅋ\\n</td>\n",
       "    </tr>\n",
       "    <tr>\n",
       "      <th>3</th>\n",
       "      <td>부칸이 밑장빼기하다가 딱 걸렸군\\n</td>\n",
       "    </tr>\n",
       "    <tr>\n",
       "      <th>4</th>\n",
       "      <td>북한 욕하면 친일이란 그딴 사고방식은 김일성 종합대학에서 배웠니? ㅋㅋ\\n</td>\n",
       "    </tr>\n",
       "  </tbody>\n",
       "</table>\n",
       "</div>"
      ],
      "text/plain": [
       "                                          문장\n",
       "0                     우리에게 북한은 꼭 없애야 할 적일뿐\\n\n",
       "1       문재앙 탄핵 원하면 추천 눌러주세요!! 여론의 힘을 보여줍시다\\n\n",
       "2              김정은이 트럼프를 개호구 문재인으로 착각했나봄ㅋㅋ\\n\n",
       "3                        부칸이 밑장빼기하다가 딱 걸렸군\\n\n",
       "4  북한 욕하면 친일이란 그딴 사고방식은 김일성 종합대학에서 배웠니? ㅋㅋ\\n"
      ]
     },
     "execution_count": 28,
     "metadata": {},
     "output_type": "execute_result"
    }
   ],
   "source": [
    "df.head()"
   ]
  },
  {
   "cell_type": "code",
   "execution_count": null,
   "metadata": {},
   "outputs": [],
   "source": [
    "from tqdm import tqdm\n",
    "for words in tqdm(woman_family):\n",
    "    if df['문장'] == True:\n",
    "        continue\n",
    "    else:\n",
    "        df['여성/가족'] = df['문장'].str.contains(f'{words}')\n",
    "    \n",
    "    "
   ]
  },
  {
   "cell_type": "code",
   "execution_count": 63,
   "metadata": {},
   "outputs": [],
   "source": [
    "df2 = df\n"
   ]
  },
  {
   "cell_type": "code",
   "execution_count": 69,
   "metadata": {},
   "outputs": [
    {
     "name": "stdout",
     "output_type": "stream",
     "text": [
      "김치년\n"
     ]
    },
    {
     "name": "stderr",
     "output_type": "stream",
     "text": [
      "100%|██████████| 86246285/86246285 [09:42<00:00, 148148.83it/s]\n"
     ]
    },
    {
     "name": "stdout",
     "output_type": "stream",
     "text": [
      "보지\n"
     ]
    },
    {
     "name": "stderr",
     "output_type": "stream",
     "text": [
      "100%|██████████| 86246285/86246285 [10:22<00:00, 138454.76it/s]\n"
     ]
    },
    {
     "name": "stdout",
     "output_type": "stream",
     "text": [
      "보슬\n"
     ]
    },
    {
     "name": "stderr",
     "output_type": "stream",
     "text": [
      "100%|██████████| 86246285/86246285 [09:31<00:00, 150897.64it/s]\n"
     ]
    },
    {
     "name": "stdout",
     "output_type": "stream",
     "text": [
      "걸레\n"
     ]
    },
    {
     "name": "stderr",
     "output_type": "stream",
     "text": [
      "100%|██████████| 86246285/86246285 [09:19<00:00, 154163.76it/s]\n"
     ]
    },
    {
     "name": "stdout",
     "output_type": "stream",
     "text": [
      "꼴페미\n"
     ]
    },
    {
     "name": "stderr",
     "output_type": "stream",
     "text": [
      "100%|██████████| 86246285/86246285 [09:21<00:00, 153516.23it/s]\n"
     ]
    },
    {
     "name": "stdout",
     "output_type": "stream",
     "text": [
      "김여사\n"
     ]
    },
    {
     "name": "stderr",
     "output_type": "stream",
     "text": [
      "100%|██████████| 86246285/86246285 [09:14<00:00, 155645.67it/s]\n"
     ]
    },
    {
     "name": "stdout",
     "output_type": "stream",
     "text": [
      "된장녀\n"
     ]
    },
    {
     "name": "stderr",
     "output_type": "stream",
     "text": [
      " 22%|██▏       | 19035778/86246285 [02:02<07:14, 154763.21it/s]\n"
     ]
    },
    {
     "ename": "KeyboardInterrupt",
     "evalue": "",
     "output_type": "error",
     "traceback": [
      "\u001b[0;31m---------------------------------------------------------------------------\u001b[0m",
      "\u001b[0;31mKeyboardInterrupt\u001b[0m                         Traceback (most recent call last)",
      "\u001b[1;32m/Users/wondongchan/Desktop/multi/Multi_5/labeling.ipynb Cell 16'\u001b[0m in \u001b[0;36m<cell line: 3>\u001b[0;34m()\u001b[0m\n\u001b[1;32m      <a href='vscode-notebook-cell:/Users/wondongchan/Desktop/multi/Multi_5/labeling.ipynb#ch0000016?line=3'>4</a>\u001b[0m \u001b[39mprint\u001b[39m(words)\n\u001b[1;32m      <a href='vscode-notebook-cell:/Users/wondongchan/Desktop/multi/Multi_5/labeling.ipynb#ch0000016?line=4'>5</a>\u001b[0m \u001b[39mfor\u001b[39;00m i \u001b[39min\u001b[39;00m tqdm(\u001b[39mrange\u001b[39m(\u001b[39mlen\u001b[39m(df2))):\n\u001b[0;32m----> <a href='vscode-notebook-cell:/Users/wondongchan/Desktop/multi/Multi_5/labeling.ipynb#ch0000016?line=5'>6</a>\u001b[0m     \u001b[39mif\u001b[39;00m df2[\u001b[39m'\u001b[39;49m\u001b[39m문장\u001b[39;49m\u001b[39m'\u001b[39;49m][i] \u001b[39m==\u001b[39m  math\u001b[39m.\u001b[39mnan:\n\u001b[1;32m      <a href='vscode-notebook-cell:/Users/wondongchan/Desktop/multi/Multi_5/labeling.ipynb#ch0000016?line=6'>7</a>\u001b[0m         df2[\u001b[39m'\u001b[39m\u001b[39m여성/가족\u001b[39m\u001b[39m'\u001b[39m][i] \u001b[39m=\u001b[39m df2[\u001b[39m'\u001b[39m\u001b[39m문장\u001b[39m\u001b[39m'\u001b[39m][i]\u001b[39m.\u001b[39mcount(\u001b[39mf\u001b[39m\u001b[39m'\u001b[39m\u001b[39m{\u001b[39;00mwords\u001b[39m}\u001b[39;00m\u001b[39m'\u001b[39m)\n\u001b[1;32m      <a href='vscode-notebook-cell:/Users/wondongchan/Desktop/multi/Multi_5/labeling.ipynb#ch0000016?line=7'>8</a>\u001b[0m         \u001b[39mif\u001b[39;00m df2[\u001b[39m'\u001b[39m\u001b[39m여성/가족\u001b[39m\u001b[39m'\u001b[39m][i] \u001b[39m>\u001b[39m\u001b[39m=\u001b[39m \u001b[39m1\u001b[39m:\n",
      "File \u001b[0;32m~/opt/anaconda3/envs/kdig/lib/python3.9/site-packages/pandas/core/frame.py:3464\u001b[0m, in \u001b[0;36mDataFrame.__getitem__\u001b[0;34m(self, key)\u001b[0m\n\u001b[1;32m   <a href='file:///Users/wondongchan/opt/anaconda3/envs/kdig/lib/python3.9/site-packages/pandas/core/frame.py?line=3462'>3463</a>\u001b[0m \u001b[39mdef\u001b[39;00m \u001b[39m__getitem__\u001b[39m(\u001b[39mself\u001b[39m, key):\n\u001b[0;32m-> <a href='file:///Users/wondongchan/opt/anaconda3/envs/kdig/lib/python3.9/site-packages/pandas/core/frame.py?line=3463'>3464</a>\u001b[0m     check_deprecated_indexers(key)\n\u001b[1;32m   <a href='file:///Users/wondongchan/opt/anaconda3/envs/kdig/lib/python3.9/site-packages/pandas/core/frame.py?line=3464'>3465</a>\u001b[0m     key \u001b[39m=\u001b[39m lib\u001b[39m.\u001b[39mitem_from_zerodim(key)\n\u001b[1;32m   <a href='file:///Users/wondongchan/opt/anaconda3/envs/kdig/lib/python3.9/site-packages/pandas/core/frame.py?line=3465'>3466</a>\u001b[0m     key \u001b[39m=\u001b[39m com\u001b[39m.\u001b[39mapply_if_callable(key, \u001b[39mself\u001b[39m)\n",
      "\u001b[0;31mKeyboardInterrupt\u001b[0m: "
     ]
    }
   ],
   "source": [
    "from tqdm import tqdm\n",
    "import math\n",
    "for words in woman_family:\n",
    "    print(words)\n",
    "    for i in tqdm(range(len(df2))):\n",
    "        if df2['문장'][i] ==  math.nan:\n",
    "            df2['여성/가족'][i] = df2['문장'][i].count(f'{words}')\n",
    "            if df2['여성/가족'][i] >= 1:\n",
    "                df2['여성/가족'][i] == 1\n",
    "        else:\n",
    "            continue\n",
    "    \n",
    "df2.head()\n",
    "    \n",
    "    "
   ]
  },
  {
   "cell_type": "code",
   "execution_count": 60,
   "metadata": {},
   "outputs": [
    {
     "data": {
      "text/plain": [
       "2"
      ]
     },
     "execution_count": 60,
     "metadata": {},
     "output_type": "execute_result"
    }
   ],
   "source": []
  },
  {
   "cell_type": "code",
   "execution_count": null,
   "metadata": {},
   "outputs": [],
   "source": []
  }
 ],
 "metadata": {
  "interpreter": {
   "hash": "c30a374dc3544837fc911f7c0b3ae456a317ea7f3e663f35a3dd2f13c77dd4db"
  },
  "kernelspec": {
   "display_name": "Python 3.9.7 ('kdig')",
   "language": "python",
   "name": "python3"
  },
  "language_info": {
   "codemirror_mode": {
    "name": "ipython",
    "version": 3
   },
   "file_extension": ".py",
   "mimetype": "text/x-python",
   "name": "python",
   "nbconvert_exporter": "python",
   "pygments_lexer": "ipython3",
   "version": "3.9.7"
  },
  "orig_nbformat": 4
 },
 "nbformat": 4,
 "nbformat_minor": 2
}
