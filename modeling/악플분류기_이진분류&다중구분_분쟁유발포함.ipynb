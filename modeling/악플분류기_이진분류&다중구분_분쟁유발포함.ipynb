{
  "nbformat": 4,
  "nbformat_minor": 0,
  "metadata": {
    "colab": {
      "name": "악플분류기_이진분류&다중구분_분쟁유발포함.ipynb",
      "provenance": [],
      "collapsed_sections": [
        "ZPsokopDxBvd"
      ]
    },
    "kernelspec": {
      "name": "python3",
      "display_name": "Python 3"
    },
    "language_info": {
      "name": "python"
    },
    "widgets": {
      "application/vnd.jupyter.widget-state+json": {
        "d5b231bcc5a7479f88792ed8e4ccc4bc": {
          "model_module": "@jupyter-widgets/controls",
          "model_name": "HBoxModel",
          "model_module_version": "1.5.0",
          "state": {
            "_dom_classes": [],
            "_model_module": "@jupyter-widgets/controls",
            "_model_module_version": "1.5.0",
            "_model_name": "HBoxModel",
            "_view_count": null,
            "_view_module": "@jupyter-widgets/controls",
            "_view_module_version": "1.5.0",
            "_view_name": "HBoxView",
            "box_style": "",
            "children": [
              "IPY_MODEL_2b08892cdd6140b6a68ce507ad496cee",
              "IPY_MODEL_ffdb7840ca394ac0833194be5ecf3528",
              "IPY_MODEL_d6ed873b6f59418ab3929856d42c32e5"
            ],
            "layout": "IPY_MODEL_44c6dbd4e92249dab9bb0b98383baa46"
          }
        },
        "2b08892cdd6140b6a68ce507ad496cee": {
          "model_module": "@jupyter-widgets/controls",
          "model_name": "HTMLModel",
          "model_module_version": "1.5.0",
          "state": {
            "_dom_classes": [],
            "_model_module": "@jupyter-widgets/controls",
            "_model_module_version": "1.5.0",
            "_model_name": "HTMLModel",
            "_view_count": null,
            "_view_module": "@jupyter-widgets/controls",
            "_view_module_version": "1.5.0",
            "_view_name": "HTMLView",
            "description": "",
            "description_tooltip": null,
            "layout": "IPY_MODEL_76c5d625d8684ec9a2b35c8fe3502f8b",
            "placeholder": "​",
            "style": "IPY_MODEL_2c71386a0d194b6ea709560780f7c07d",
            "value": "100%"
          }
        },
        "ffdb7840ca394ac0833194be5ecf3528": {
          "model_module": "@jupyter-widgets/controls",
          "model_name": "FloatProgressModel",
          "model_module_version": "1.5.0",
          "state": {
            "_dom_classes": [],
            "_model_module": "@jupyter-widgets/controls",
            "_model_module_version": "1.5.0",
            "_model_name": "FloatProgressModel",
            "_view_count": null,
            "_view_module": "@jupyter-widgets/controls",
            "_view_module_version": "1.5.0",
            "_view_name": "ProgressView",
            "bar_style": "success",
            "description": "",
            "description_tooltip": null,
            "layout": "IPY_MODEL_f1e5ca0616b54923b1ad4387a68bd1e9",
            "max": 22524,
            "min": 0,
            "orientation": "horizontal",
            "style": "IPY_MODEL_7e17ad0380d1478e80b67ff20159e76a",
            "value": 22524
          }
        },
        "d6ed873b6f59418ab3929856d42c32e5": {
          "model_module": "@jupyter-widgets/controls",
          "model_name": "HTMLModel",
          "model_module_version": "1.5.0",
          "state": {
            "_dom_classes": [],
            "_model_module": "@jupyter-widgets/controls",
            "_model_module_version": "1.5.0",
            "_model_name": "HTMLModel",
            "_view_count": null,
            "_view_module": "@jupyter-widgets/controls",
            "_view_module_version": "1.5.0",
            "_view_name": "HTMLView",
            "description": "",
            "description_tooltip": null,
            "layout": "IPY_MODEL_d6ace7e623a7405380869438fea662a9",
            "placeholder": "​",
            "style": "IPY_MODEL_37c39e0d852442c38a9d729fd7693df6",
            "value": " 22524/22524 [01:05&lt;00:00, 719.44it/s]"
          }
        },
        "44c6dbd4e92249dab9bb0b98383baa46": {
          "model_module": "@jupyter-widgets/base",
          "model_name": "LayoutModel",
          "model_module_version": "1.2.0",
          "state": {
            "_model_module": "@jupyter-widgets/base",
            "_model_module_version": "1.2.0",
            "_model_name": "LayoutModel",
            "_view_count": null,
            "_view_module": "@jupyter-widgets/base",
            "_view_module_version": "1.2.0",
            "_view_name": "LayoutView",
            "align_content": null,
            "align_items": null,
            "align_self": null,
            "border": null,
            "bottom": null,
            "display": null,
            "flex": null,
            "flex_flow": null,
            "grid_area": null,
            "grid_auto_columns": null,
            "grid_auto_flow": null,
            "grid_auto_rows": null,
            "grid_column": null,
            "grid_gap": null,
            "grid_row": null,
            "grid_template_areas": null,
            "grid_template_columns": null,
            "grid_template_rows": null,
            "height": null,
            "justify_content": null,
            "justify_items": null,
            "left": null,
            "margin": null,
            "max_height": null,
            "max_width": null,
            "min_height": null,
            "min_width": null,
            "object_fit": null,
            "object_position": null,
            "order": null,
            "overflow": null,
            "overflow_x": null,
            "overflow_y": null,
            "padding": null,
            "right": null,
            "top": null,
            "visibility": null,
            "width": null
          }
        },
        "76c5d625d8684ec9a2b35c8fe3502f8b": {
          "model_module": "@jupyter-widgets/base",
          "model_name": "LayoutModel",
          "model_module_version": "1.2.0",
          "state": {
            "_model_module": "@jupyter-widgets/base",
            "_model_module_version": "1.2.0",
            "_model_name": "LayoutModel",
            "_view_count": null,
            "_view_module": "@jupyter-widgets/base",
            "_view_module_version": "1.2.0",
            "_view_name": "LayoutView",
            "align_content": null,
            "align_items": null,
            "align_self": null,
            "border": null,
            "bottom": null,
            "display": null,
            "flex": null,
            "flex_flow": null,
            "grid_area": null,
            "grid_auto_columns": null,
            "grid_auto_flow": null,
            "grid_auto_rows": null,
            "grid_column": null,
            "grid_gap": null,
            "grid_row": null,
            "grid_template_areas": null,
            "grid_template_columns": null,
            "grid_template_rows": null,
            "height": null,
            "justify_content": null,
            "justify_items": null,
            "left": null,
            "margin": null,
            "max_height": null,
            "max_width": null,
            "min_height": null,
            "min_width": null,
            "object_fit": null,
            "object_position": null,
            "order": null,
            "overflow": null,
            "overflow_x": null,
            "overflow_y": null,
            "padding": null,
            "right": null,
            "top": null,
            "visibility": null,
            "width": null
          }
        },
        "2c71386a0d194b6ea709560780f7c07d": {
          "model_module": "@jupyter-widgets/controls",
          "model_name": "DescriptionStyleModel",
          "model_module_version": "1.5.0",
          "state": {
            "_model_module": "@jupyter-widgets/controls",
            "_model_module_version": "1.5.0",
            "_model_name": "DescriptionStyleModel",
            "_view_count": null,
            "_view_module": "@jupyter-widgets/base",
            "_view_module_version": "1.2.0",
            "_view_name": "StyleView",
            "description_width": ""
          }
        },
        "f1e5ca0616b54923b1ad4387a68bd1e9": {
          "model_module": "@jupyter-widgets/base",
          "model_name": "LayoutModel",
          "model_module_version": "1.2.0",
          "state": {
            "_model_module": "@jupyter-widgets/base",
            "_model_module_version": "1.2.0",
            "_model_name": "LayoutModel",
            "_view_count": null,
            "_view_module": "@jupyter-widgets/base",
            "_view_module_version": "1.2.0",
            "_view_name": "LayoutView",
            "align_content": null,
            "align_items": null,
            "align_self": null,
            "border": null,
            "bottom": null,
            "display": null,
            "flex": null,
            "flex_flow": null,
            "grid_area": null,
            "grid_auto_columns": null,
            "grid_auto_flow": null,
            "grid_auto_rows": null,
            "grid_column": null,
            "grid_gap": null,
            "grid_row": null,
            "grid_template_areas": null,
            "grid_template_columns": null,
            "grid_template_rows": null,
            "height": null,
            "justify_content": null,
            "justify_items": null,
            "left": null,
            "margin": null,
            "max_height": null,
            "max_width": null,
            "min_height": null,
            "min_width": null,
            "object_fit": null,
            "object_position": null,
            "order": null,
            "overflow": null,
            "overflow_x": null,
            "overflow_y": null,
            "padding": null,
            "right": null,
            "top": null,
            "visibility": null,
            "width": null
          }
        },
        "7e17ad0380d1478e80b67ff20159e76a": {
          "model_module": "@jupyter-widgets/controls",
          "model_name": "ProgressStyleModel",
          "model_module_version": "1.5.0",
          "state": {
            "_model_module": "@jupyter-widgets/controls",
            "_model_module_version": "1.5.0",
            "_model_name": "ProgressStyleModel",
            "_view_count": null,
            "_view_module": "@jupyter-widgets/base",
            "_view_module_version": "1.2.0",
            "_view_name": "StyleView",
            "bar_color": null,
            "description_width": ""
          }
        },
        "d6ace7e623a7405380869438fea662a9": {
          "model_module": "@jupyter-widgets/base",
          "model_name": "LayoutModel",
          "model_module_version": "1.2.0",
          "state": {
            "_model_module": "@jupyter-widgets/base",
            "_model_module_version": "1.2.0",
            "_model_name": "LayoutModel",
            "_view_count": null,
            "_view_module": "@jupyter-widgets/base",
            "_view_module_version": "1.2.0",
            "_view_name": "LayoutView",
            "align_content": null,
            "align_items": null,
            "align_self": null,
            "border": null,
            "bottom": null,
            "display": null,
            "flex": null,
            "flex_flow": null,
            "grid_area": null,
            "grid_auto_columns": null,
            "grid_auto_flow": null,
            "grid_auto_rows": null,
            "grid_column": null,
            "grid_gap": null,
            "grid_row": null,
            "grid_template_areas": null,
            "grid_template_columns": null,
            "grid_template_rows": null,
            "height": null,
            "justify_content": null,
            "justify_items": null,
            "left": null,
            "margin": null,
            "max_height": null,
            "max_width": null,
            "min_height": null,
            "min_width": null,
            "object_fit": null,
            "object_position": null,
            "order": null,
            "overflow": null,
            "overflow_x": null,
            "overflow_y": null,
            "padding": null,
            "right": null,
            "top": null,
            "visibility": null,
            "width": null
          }
        },
        "37c39e0d852442c38a9d729fd7693df6": {
          "model_module": "@jupyter-widgets/controls",
          "model_name": "DescriptionStyleModel",
          "model_module_version": "1.5.0",
          "state": {
            "_model_module": "@jupyter-widgets/controls",
            "_model_module_version": "1.5.0",
            "_model_name": "DescriptionStyleModel",
            "_view_count": null,
            "_view_module": "@jupyter-widgets/base",
            "_view_module_version": "1.2.0",
            "_view_name": "StyleView",
            "description_width": ""
          }
        },
        "8f8627d8ff714164bca1cf71112b7fa3": {
          "model_module": "@jupyter-widgets/controls",
          "model_name": "HBoxModel",
          "model_module_version": "1.5.0",
          "state": {
            "_dom_classes": [],
            "_model_module": "@jupyter-widgets/controls",
            "_model_module_version": "1.5.0",
            "_model_name": "HBoxModel",
            "_view_count": null,
            "_view_module": "@jupyter-widgets/controls",
            "_view_module_version": "1.5.0",
            "_view_name": "HBoxView",
            "box_style": "",
            "children": [
              "IPY_MODEL_facb4a6a113f4220a000df402671ebf4",
              "IPY_MODEL_5d058d95b1444fa684ee53c786920c18",
              "IPY_MODEL_e215523fbc51480ebd843a8638a52368"
            ],
            "layout": "IPY_MODEL_907545d0fed54356a2fec9d5358e506b"
          }
        },
        "facb4a6a113f4220a000df402671ebf4": {
          "model_module": "@jupyter-widgets/controls",
          "model_name": "HTMLModel",
          "model_module_version": "1.5.0",
          "state": {
            "_dom_classes": [],
            "_model_module": "@jupyter-widgets/controls",
            "_model_module_version": "1.5.0",
            "_model_name": "HTMLModel",
            "_view_count": null,
            "_view_module": "@jupyter-widgets/controls",
            "_view_module_version": "1.5.0",
            "_view_name": "HTMLView",
            "description": "",
            "description_tooltip": null,
            "layout": "IPY_MODEL_5c9274cca6124b89b3d8f9895ae49c3b",
            "placeholder": "​",
            "style": "IPY_MODEL_a3d36c47243a487fbac88123bbe28aad",
            "value": "100%"
          }
        },
        "5d058d95b1444fa684ee53c786920c18": {
          "model_module": "@jupyter-widgets/controls",
          "model_name": "FloatProgressModel",
          "model_module_version": "1.5.0",
          "state": {
            "_dom_classes": [],
            "_model_module": "@jupyter-widgets/controls",
            "_model_module_version": "1.5.0",
            "_model_name": "FloatProgressModel",
            "_view_count": null,
            "_view_module": "@jupyter-widgets/controls",
            "_view_module_version": "1.5.0",
            "_view_name": "ProgressView",
            "bar_style": "success",
            "description": "",
            "description_tooltip": null,
            "layout": "IPY_MODEL_a94efee4070743e8bf42a93565b2de88",
            "max": 3730,
            "min": 0,
            "orientation": "horizontal",
            "style": "IPY_MODEL_c1e575a40276491cbf155a5c3cf327b9",
            "value": 3730
          }
        },
        "e215523fbc51480ebd843a8638a52368": {
          "model_module": "@jupyter-widgets/controls",
          "model_name": "HTMLModel",
          "model_module_version": "1.5.0",
          "state": {
            "_dom_classes": [],
            "_model_module": "@jupyter-widgets/controls",
            "_model_module_version": "1.5.0",
            "_model_name": "HTMLModel",
            "_view_count": null,
            "_view_module": "@jupyter-widgets/controls",
            "_view_module_version": "1.5.0",
            "_view_name": "HTMLView",
            "description": "",
            "description_tooltip": null,
            "layout": "IPY_MODEL_29f1369771c94e3898346347cb407a6d",
            "placeholder": "​",
            "style": "IPY_MODEL_16a0507e1b8a4c43a3cd4fade34c87e0",
            "value": " 3730/3730 [00:07&lt;00:00, 536.15it/s]"
          }
        },
        "907545d0fed54356a2fec9d5358e506b": {
          "model_module": "@jupyter-widgets/base",
          "model_name": "LayoutModel",
          "model_module_version": "1.2.0",
          "state": {
            "_model_module": "@jupyter-widgets/base",
            "_model_module_version": "1.2.0",
            "_model_name": "LayoutModel",
            "_view_count": null,
            "_view_module": "@jupyter-widgets/base",
            "_view_module_version": "1.2.0",
            "_view_name": "LayoutView",
            "align_content": null,
            "align_items": null,
            "align_self": null,
            "border": null,
            "bottom": null,
            "display": null,
            "flex": null,
            "flex_flow": null,
            "grid_area": null,
            "grid_auto_columns": null,
            "grid_auto_flow": null,
            "grid_auto_rows": null,
            "grid_column": null,
            "grid_gap": null,
            "grid_row": null,
            "grid_template_areas": null,
            "grid_template_columns": null,
            "grid_template_rows": null,
            "height": null,
            "justify_content": null,
            "justify_items": null,
            "left": null,
            "margin": null,
            "max_height": null,
            "max_width": null,
            "min_height": null,
            "min_width": null,
            "object_fit": null,
            "object_position": null,
            "order": null,
            "overflow": null,
            "overflow_x": null,
            "overflow_y": null,
            "padding": null,
            "right": null,
            "top": null,
            "visibility": null,
            "width": null
          }
        },
        "5c9274cca6124b89b3d8f9895ae49c3b": {
          "model_module": "@jupyter-widgets/base",
          "model_name": "LayoutModel",
          "model_module_version": "1.2.0",
          "state": {
            "_model_module": "@jupyter-widgets/base",
            "_model_module_version": "1.2.0",
            "_model_name": "LayoutModel",
            "_view_count": null,
            "_view_module": "@jupyter-widgets/base",
            "_view_module_version": "1.2.0",
            "_view_name": "LayoutView",
            "align_content": null,
            "align_items": null,
            "align_self": null,
            "border": null,
            "bottom": null,
            "display": null,
            "flex": null,
            "flex_flow": null,
            "grid_area": null,
            "grid_auto_columns": null,
            "grid_auto_flow": null,
            "grid_auto_rows": null,
            "grid_column": null,
            "grid_gap": null,
            "grid_row": null,
            "grid_template_areas": null,
            "grid_template_columns": null,
            "grid_template_rows": null,
            "height": null,
            "justify_content": null,
            "justify_items": null,
            "left": null,
            "margin": null,
            "max_height": null,
            "max_width": null,
            "min_height": null,
            "min_width": null,
            "object_fit": null,
            "object_position": null,
            "order": null,
            "overflow": null,
            "overflow_x": null,
            "overflow_y": null,
            "padding": null,
            "right": null,
            "top": null,
            "visibility": null,
            "width": null
          }
        },
        "a3d36c47243a487fbac88123bbe28aad": {
          "model_module": "@jupyter-widgets/controls",
          "model_name": "DescriptionStyleModel",
          "model_module_version": "1.5.0",
          "state": {
            "_model_module": "@jupyter-widgets/controls",
            "_model_module_version": "1.5.0",
            "_model_name": "DescriptionStyleModel",
            "_view_count": null,
            "_view_module": "@jupyter-widgets/base",
            "_view_module_version": "1.2.0",
            "_view_name": "StyleView",
            "description_width": ""
          }
        },
        "a94efee4070743e8bf42a93565b2de88": {
          "model_module": "@jupyter-widgets/base",
          "model_name": "LayoutModel",
          "model_module_version": "1.2.0",
          "state": {
            "_model_module": "@jupyter-widgets/base",
            "_model_module_version": "1.2.0",
            "_model_name": "LayoutModel",
            "_view_count": null,
            "_view_module": "@jupyter-widgets/base",
            "_view_module_version": "1.2.0",
            "_view_name": "LayoutView",
            "align_content": null,
            "align_items": null,
            "align_self": null,
            "border": null,
            "bottom": null,
            "display": null,
            "flex": null,
            "flex_flow": null,
            "grid_area": null,
            "grid_auto_columns": null,
            "grid_auto_flow": null,
            "grid_auto_rows": null,
            "grid_column": null,
            "grid_gap": null,
            "grid_row": null,
            "grid_template_areas": null,
            "grid_template_columns": null,
            "grid_template_rows": null,
            "height": null,
            "justify_content": null,
            "justify_items": null,
            "left": null,
            "margin": null,
            "max_height": null,
            "max_width": null,
            "min_height": null,
            "min_width": null,
            "object_fit": null,
            "object_position": null,
            "order": null,
            "overflow": null,
            "overflow_x": null,
            "overflow_y": null,
            "padding": null,
            "right": null,
            "top": null,
            "visibility": null,
            "width": null
          }
        },
        "c1e575a40276491cbf155a5c3cf327b9": {
          "model_module": "@jupyter-widgets/controls",
          "model_name": "ProgressStyleModel",
          "model_module_version": "1.5.0",
          "state": {
            "_model_module": "@jupyter-widgets/controls",
            "_model_module_version": "1.5.0",
            "_model_name": "ProgressStyleModel",
            "_view_count": null,
            "_view_module": "@jupyter-widgets/base",
            "_view_module_version": "1.2.0",
            "_view_name": "StyleView",
            "bar_color": null,
            "description_width": ""
          }
        },
        "29f1369771c94e3898346347cb407a6d": {
          "model_module": "@jupyter-widgets/base",
          "model_name": "LayoutModel",
          "model_module_version": "1.2.0",
          "state": {
            "_model_module": "@jupyter-widgets/base",
            "_model_module_version": "1.2.0",
            "_model_name": "LayoutModel",
            "_view_count": null,
            "_view_module": "@jupyter-widgets/base",
            "_view_module_version": "1.2.0",
            "_view_name": "LayoutView",
            "align_content": null,
            "align_items": null,
            "align_self": null,
            "border": null,
            "bottom": null,
            "display": null,
            "flex": null,
            "flex_flow": null,
            "grid_area": null,
            "grid_auto_columns": null,
            "grid_auto_flow": null,
            "grid_auto_rows": null,
            "grid_column": null,
            "grid_gap": null,
            "grid_row": null,
            "grid_template_areas": null,
            "grid_template_columns": null,
            "grid_template_rows": null,
            "height": null,
            "justify_content": null,
            "justify_items": null,
            "left": null,
            "margin": null,
            "max_height": null,
            "max_width": null,
            "min_height": null,
            "min_width": null,
            "object_fit": null,
            "object_position": null,
            "order": null,
            "overflow": null,
            "overflow_x": null,
            "overflow_y": null,
            "padding": null,
            "right": null,
            "top": null,
            "visibility": null,
            "width": null
          }
        },
        "16a0507e1b8a4c43a3cd4fade34c87e0": {
          "model_module": "@jupyter-widgets/controls",
          "model_name": "DescriptionStyleModel",
          "model_module_version": "1.5.0",
          "state": {
            "_model_module": "@jupyter-widgets/controls",
            "_model_module_version": "1.5.0",
            "_model_name": "DescriptionStyleModel",
            "_view_count": null,
            "_view_module": "@jupyter-widgets/base",
            "_view_module_version": "1.2.0",
            "_view_name": "StyleView",
            "description_width": ""
          }
        },
        "991913d7adeb4bca865ff812500b242b": {
          "model_module": "@jupyter-widgets/controls",
          "model_name": "HBoxModel",
          "model_module_version": "1.5.0",
          "state": {
            "_dom_classes": [],
            "_model_module": "@jupyter-widgets/controls",
            "_model_module_version": "1.5.0",
            "_model_name": "HBoxModel",
            "_view_count": null,
            "_view_module": "@jupyter-widgets/controls",
            "_view_module_version": "1.5.0",
            "_view_name": "HBoxView",
            "box_style": "",
            "children": [
              "IPY_MODEL_ef64b397c7f64697b413845b51dc34a2",
              "IPY_MODEL_efbd428d2f8b49e8bf6b47e9e96980ac",
              "IPY_MODEL_ee653aa87645480bb52f2c4809981f00"
            ],
            "layout": "IPY_MODEL_38c27eac389244f0a13905297fcae32d"
          }
        },
        "ef64b397c7f64697b413845b51dc34a2": {
          "model_module": "@jupyter-widgets/controls",
          "model_name": "HTMLModel",
          "model_module_version": "1.5.0",
          "state": {
            "_dom_classes": [],
            "_model_module": "@jupyter-widgets/controls",
            "_model_module_version": "1.5.0",
            "_model_name": "HTMLModel",
            "_view_count": null,
            "_view_module": "@jupyter-widgets/controls",
            "_view_module_version": "1.5.0",
            "_view_name": "HTMLView",
            "description": "",
            "description_tooltip": null,
            "layout": "IPY_MODEL_f8349e75cc5b4510a6a4dc60551dd116",
            "placeholder": "​",
            "style": "IPY_MODEL_2665e6ebf1c34464bb31fcd40f651eca",
            "value": "100%"
          }
        },
        "efbd428d2f8b49e8bf6b47e9e96980ac": {
          "model_module": "@jupyter-widgets/controls",
          "model_name": "FloatProgressModel",
          "model_module_version": "1.5.0",
          "state": {
            "_dom_classes": [],
            "_model_module": "@jupyter-widgets/controls",
            "_model_module_version": "1.5.0",
            "_model_name": "FloatProgressModel",
            "_view_count": null,
            "_view_module": "@jupyter-widgets/controls",
            "_view_module_version": "1.5.0",
            "_view_name": "ProgressView",
            "bar_style": "success",
            "description": "",
            "description_tooltip": null,
            "layout": "IPY_MODEL_20e0bddb798649718173957a05c6d164",
            "max": 2324,
            "min": 0,
            "orientation": "horizontal",
            "style": "IPY_MODEL_050678cb1dda4cc2b0e312ddd275f93d",
            "value": 2324
          }
        },
        "ee653aa87645480bb52f2c4809981f00": {
          "model_module": "@jupyter-widgets/controls",
          "model_name": "HTMLModel",
          "model_module_version": "1.5.0",
          "state": {
            "_dom_classes": [],
            "_model_module": "@jupyter-widgets/controls",
            "_model_module_version": "1.5.0",
            "_model_name": "HTMLModel",
            "_view_count": null,
            "_view_module": "@jupyter-widgets/controls",
            "_view_module_version": "1.5.0",
            "_view_name": "HTMLView",
            "description": "",
            "description_tooltip": null,
            "layout": "IPY_MODEL_d317c9ad75a74dfab8b020b7adf33930",
            "placeholder": "​",
            "style": "IPY_MODEL_9610efba72204558bdca28638bbb6bab",
            "value": " 2324/2324 [00:06&lt;00:00, 370.54it/s]"
          }
        },
        "38c27eac389244f0a13905297fcae32d": {
          "model_module": "@jupyter-widgets/base",
          "model_name": "LayoutModel",
          "model_module_version": "1.2.0",
          "state": {
            "_model_module": "@jupyter-widgets/base",
            "_model_module_version": "1.2.0",
            "_model_name": "LayoutModel",
            "_view_count": null,
            "_view_module": "@jupyter-widgets/base",
            "_view_module_version": "1.2.0",
            "_view_name": "LayoutView",
            "align_content": null,
            "align_items": null,
            "align_self": null,
            "border": null,
            "bottom": null,
            "display": null,
            "flex": null,
            "flex_flow": null,
            "grid_area": null,
            "grid_auto_columns": null,
            "grid_auto_flow": null,
            "grid_auto_rows": null,
            "grid_column": null,
            "grid_gap": null,
            "grid_row": null,
            "grid_template_areas": null,
            "grid_template_columns": null,
            "grid_template_rows": null,
            "height": null,
            "justify_content": null,
            "justify_items": null,
            "left": null,
            "margin": null,
            "max_height": null,
            "max_width": null,
            "min_height": null,
            "min_width": null,
            "object_fit": null,
            "object_position": null,
            "order": null,
            "overflow": null,
            "overflow_x": null,
            "overflow_y": null,
            "padding": null,
            "right": null,
            "top": null,
            "visibility": null,
            "width": null
          }
        },
        "f8349e75cc5b4510a6a4dc60551dd116": {
          "model_module": "@jupyter-widgets/base",
          "model_name": "LayoutModel",
          "model_module_version": "1.2.0",
          "state": {
            "_model_module": "@jupyter-widgets/base",
            "_model_module_version": "1.2.0",
            "_model_name": "LayoutModel",
            "_view_count": null,
            "_view_module": "@jupyter-widgets/base",
            "_view_module_version": "1.2.0",
            "_view_name": "LayoutView",
            "align_content": null,
            "align_items": null,
            "align_self": null,
            "border": null,
            "bottom": null,
            "display": null,
            "flex": null,
            "flex_flow": null,
            "grid_area": null,
            "grid_auto_columns": null,
            "grid_auto_flow": null,
            "grid_auto_rows": null,
            "grid_column": null,
            "grid_gap": null,
            "grid_row": null,
            "grid_template_areas": null,
            "grid_template_columns": null,
            "grid_template_rows": null,
            "height": null,
            "justify_content": null,
            "justify_items": null,
            "left": null,
            "margin": null,
            "max_height": null,
            "max_width": null,
            "min_height": null,
            "min_width": null,
            "object_fit": null,
            "object_position": null,
            "order": null,
            "overflow": null,
            "overflow_x": null,
            "overflow_y": null,
            "padding": null,
            "right": null,
            "top": null,
            "visibility": null,
            "width": null
          }
        },
        "2665e6ebf1c34464bb31fcd40f651eca": {
          "model_module": "@jupyter-widgets/controls",
          "model_name": "DescriptionStyleModel",
          "model_module_version": "1.5.0",
          "state": {
            "_model_module": "@jupyter-widgets/controls",
            "_model_module_version": "1.5.0",
            "_model_name": "DescriptionStyleModel",
            "_view_count": null,
            "_view_module": "@jupyter-widgets/base",
            "_view_module_version": "1.2.0",
            "_view_name": "StyleView",
            "description_width": ""
          }
        },
        "20e0bddb798649718173957a05c6d164": {
          "model_module": "@jupyter-widgets/base",
          "model_name": "LayoutModel",
          "model_module_version": "1.2.0",
          "state": {
            "_model_module": "@jupyter-widgets/base",
            "_model_module_version": "1.2.0",
            "_model_name": "LayoutModel",
            "_view_count": null,
            "_view_module": "@jupyter-widgets/base",
            "_view_module_version": "1.2.0",
            "_view_name": "LayoutView",
            "align_content": null,
            "align_items": null,
            "align_self": null,
            "border": null,
            "bottom": null,
            "display": null,
            "flex": null,
            "flex_flow": null,
            "grid_area": null,
            "grid_auto_columns": null,
            "grid_auto_flow": null,
            "grid_auto_rows": null,
            "grid_column": null,
            "grid_gap": null,
            "grid_row": null,
            "grid_template_areas": null,
            "grid_template_columns": null,
            "grid_template_rows": null,
            "height": null,
            "justify_content": null,
            "justify_items": null,
            "left": null,
            "margin": null,
            "max_height": null,
            "max_width": null,
            "min_height": null,
            "min_width": null,
            "object_fit": null,
            "object_position": null,
            "order": null,
            "overflow": null,
            "overflow_x": null,
            "overflow_y": null,
            "padding": null,
            "right": null,
            "top": null,
            "visibility": null,
            "width": null
          }
        },
        "050678cb1dda4cc2b0e312ddd275f93d": {
          "model_module": "@jupyter-widgets/controls",
          "model_name": "ProgressStyleModel",
          "model_module_version": "1.5.0",
          "state": {
            "_model_module": "@jupyter-widgets/controls",
            "_model_module_version": "1.5.0",
            "_model_name": "ProgressStyleModel",
            "_view_count": null,
            "_view_module": "@jupyter-widgets/base",
            "_view_module_version": "1.2.0",
            "_view_name": "StyleView",
            "bar_color": null,
            "description_width": ""
          }
        },
        "d317c9ad75a74dfab8b020b7adf33930": {
          "model_module": "@jupyter-widgets/base",
          "model_name": "LayoutModel",
          "model_module_version": "1.2.0",
          "state": {
            "_model_module": "@jupyter-widgets/base",
            "_model_module_version": "1.2.0",
            "_model_name": "LayoutModel",
            "_view_count": null,
            "_view_module": "@jupyter-widgets/base",
            "_view_module_version": "1.2.0",
            "_view_name": "LayoutView",
            "align_content": null,
            "align_items": null,
            "align_self": null,
            "border": null,
            "bottom": null,
            "display": null,
            "flex": null,
            "flex_flow": null,
            "grid_area": null,
            "grid_auto_columns": null,
            "grid_auto_flow": null,
            "grid_auto_rows": null,
            "grid_column": null,
            "grid_gap": null,
            "grid_row": null,
            "grid_template_areas": null,
            "grid_template_columns": null,
            "grid_template_rows": null,
            "height": null,
            "justify_content": null,
            "justify_items": null,
            "left": null,
            "margin": null,
            "max_height": null,
            "max_width": null,
            "min_height": null,
            "min_width": null,
            "object_fit": null,
            "object_position": null,
            "order": null,
            "overflow": null,
            "overflow_x": null,
            "overflow_y": null,
            "padding": null,
            "right": null,
            "top": null,
            "visibility": null,
            "width": null
          }
        },
        "9610efba72204558bdca28638bbb6bab": {
          "model_module": "@jupyter-widgets/controls",
          "model_name": "DescriptionStyleModel",
          "model_module_version": "1.5.0",
          "state": {
            "_model_module": "@jupyter-widgets/controls",
            "_model_module_version": "1.5.0",
            "_model_name": "DescriptionStyleModel",
            "_view_count": null,
            "_view_module": "@jupyter-widgets/base",
            "_view_module_version": "1.2.0",
            "_view_name": "StyleView",
            "description_width": ""
          }
        },
        "9a7c4d09a8c14e819056661757de0be3": {
          "model_module": "@jupyter-widgets/controls",
          "model_name": "HBoxModel",
          "model_module_version": "1.5.0",
          "state": {
            "_dom_classes": [],
            "_model_module": "@jupyter-widgets/controls",
            "_model_module_version": "1.5.0",
            "_model_name": "HBoxModel",
            "_view_count": null,
            "_view_module": "@jupyter-widgets/controls",
            "_view_module_version": "1.5.0",
            "_view_name": "HBoxView",
            "box_style": "",
            "children": [
              "IPY_MODEL_12cb8fe2aba74a09afcaae0c9ae39834",
              "IPY_MODEL_a77e6ed468cd475aaefbe0e2d173ae12",
              "IPY_MODEL_28168b16be7c4e5da48a92f122bcd010"
            ],
            "layout": "IPY_MODEL_762663fb669747048309bac6f2cac639"
          }
        },
        "12cb8fe2aba74a09afcaae0c9ae39834": {
          "model_module": "@jupyter-widgets/controls",
          "model_name": "HTMLModel",
          "model_module_version": "1.5.0",
          "state": {
            "_dom_classes": [],
            "_model_module": "@jupyter-widgets/controls",
            "_model_module_version": "1.5.0",
            "_model_name": "HTMLModel",
            "_view_count": null,
            "_view_module": "@jupyter-widgets/controls",
            "_view_module_version": "1.5.0",
            "_view_name": "HTMLView",
            "description": "",
            "description_tooltip": null,
            "layout": "IPY_MODEL_580a557a33f245659f64bb690139af3c",
            "placeholder": "​",
            "style": "IPY_MODEL_d24c8152bd434ae092688d162cbd60b6",
            "value": "100%"
          }
        },
        "a77e6ed468cd475aaefbe0e2d173ae12": {
          "model_module": "@jupyter-widgets/controls",
          "model_name": "FloatProgressModel",
          "model_module_version": "1.5.0",
          "state": {
            "_dom_classes": [],
            "_model_module": "@jupyter-widgets/controls",
            "_model_module_version": "1.5.0",
            "_model_name": "FloatProgressModel",
            "_view_count": null,
            "_view_module": "@jupyter-widgets/controls",
            "_view_module_version": "1.5.0",
            "_view_name": "ProgressView",
            "bar_style": "success",
            "description": "",
            "description_tooltip": null,
            "layout": "IPY_MODEL_b8c90e96a3cc4b518509263c0a238a2a",
            "max": 14981,
            "min": 0,
            "orientation": "horizontal",
            "style": "IPY_MODEL_cfed1da12f804cad84c4a89949a9520a",
            "value": 14981
          }
        },
        "28168b16be7c4e5da48a92f122bcd010": {
          "model_module": "@jupyter-widgets/controls",
          "model_name": "HTMLModel",
          "model_module_version": "1.5.0",
          "state": {
            "_dom_classes": [],
            "_model_module": "@jupyter-widgets/controls",
            "_model_module_version": "1.5.0",
            "_model_name": "HTMLModel",
            "_view_count": null,
            "_view_module": "@jupyter-widgets/controls",
            "_view_module_version": "1.5.0",
            "_view_name": "HTMLView",
            "description": "",
            "description_tooltip": null,
            "layout": "IPY_MODEL_782e6cfe43d44df9a67d874ba1d95edc",
            "placeholder": "​",
            "style": "IPY_MODEL_578e272613fd45fd83918b095c8a0732",
            "value": " 14981/14981 [11:43&lt;00:00, 18.81it/s]"
          }
        },
        "762663fb669747048309bac6f2cac639": {
          "model_module": "@jupyter-widgets/base",
          "model_name": "LayoutModel",
          "model_module_version": "1.2.0",
          "state": {
            "_model_module": "@jupyter-widgets/base",
            "_model_module_version": "1.2.0",
            "_model_name": "LayoutModel",
            "_view_count": null,
            "_view_module": "@jupyter-widgets/base",
            "_view_module_version": "1.2.0",
            "_view_name": "LayoutView",
            "align_content": null,
            "align_items": null,
            "align_self": null,
            "border": null,
            "bottom": null,
            "display": null,
            "flex": null,
            "flex_flow": null,
            "grid_area": null,
            "grid_auto_columns": null,
            "grid_auto_flow": null,
            "grid_auto_rows": null,
            "grid_column": null,
            "grid_gap": null,
            "grid_row": null,
            "grid_template_areas": null,
            "grid_template_columns": null,
            "grid_template_rows": null,
            "height": null,
            "justify_content": null,
            "justify_items": null,
            "left": null,
            "margin": null,
            "max_height": null,
            "max_width": null,
            "min_height": null,
            "min_width": null,
            "object_fit": null,
            "object_position": null,
            "order": null,
            "overflow": null,
            "overflow_x": null,
            "overflow_y": null,
            "padding": null,
            "right": null,
            "top": null,
            "visibility": null,
            "width": null
          }
        },
        "580a557a33f245659f64bb690139af3c": {
          "model_module": "@jupyter-widgets/base",
          "model_name": "LayoutModel",
          "model_module_version": "1.2.0",
          "state": {
            "_model_module": "@jupyter-widgets/base",
            "_model_module_version": "1.2.0",
            "_model_name": "LayoutModel",
            "_view_count": null,
            "_view_module": "@jupyter-widgets/base",
            "_view_module_version": "1.2.0",
            "_view_name": "LayoutView",
            "align_content": null,
            "align_items": null,
            "align_self": null,
            "border": null,
            "bottom": null,
            "display": null,
            "flex": null,
            "flex_flow": null,
            "grid_area": null,
            "grid_auto_columns": null,
            "grid_auto_flow": null,
            "grid_auto_rows": null,
            "grid_column": null,
            "grid_gap": null,
            "grid_row": null,
            "grid_template_areas": null,
            "grid_template_columns": null,
            "grid_template_rows": null,
            "height": null,
            "justify_content": null,
            "justify_items": null,
            "left": null,
            "margin": null,
            "max_height": null,
            "max_width": null,
            "min_height": null,
            "min_width": null,
            "object_fit": null,
            "object_position": null,
            "order": null,
            "overflow": null,
            "overflow_x": null,
            "overflow_y": null,
            "padding": null,
            "right": null,
            "top": null,
            "visibility": null,
            "width": null
          }
        },
        "d24c8152bd434ae092688d162cbd60b6": {
          "model_module": "@jupyter-widgets/controls",
          "model_name": "DescriptionStyleModel",
          "model_module_version": "1.5.0",
          "state": {
            "_model_module": "@jupyter-widgets/controls",
            "_model_module_version": "1.5.0",
            "_model_name": "DescriptionStyleModel",
            "_view_count": null,
            "_view_module": "@jupyter-widgets/base",
            "_view_module_version": "1.2.0",
            "_view_name": "StyleView",
            "description_width": ""
          }
        },
        "b8c90e96a3cc4b518509263c0a238a2a": {
          "model_module": "@jupyter-widgets/base",
          "model_name": "LayoutModel",
          "model_module_version": "1.2.0",
          "state": {
            "_model_module": "@jupyter-widgets/base",
            "_model_module_version": "1.2.0",
            "_model_name": "LayoutModel",
            "_view_count": null,
            "_view_module": "@jupyter-widgets/base",
            "_view_module_version": "1.2.0",
            "_view_name": "LayoutView",
            "align_content": null,
            "align_items": null,
            "align_self": null,
            "border": null,
            "bottom": null,
            "display": null,
            "flex": null,
            "flex_flow": null,
            "grid_area": null,
            "grid_auto_columns": null,
            "grid_auto_flow": null,
            "grid_auto_rows": null,
            "grid_column": null,
            "grid_gap": null,
            "grid_row": null,
            "grid_template_areas": null,
            "grid_template_columns": null,
            "grid_template_rows": null,
            "height": null,
            "justify_content": null,
            "justify_items": null,
            "left": null,
            "margin": null,
            "max_height": null,
            "max_width": null,
            "min_height": null,
            "min_width": null,
            "object_fit": null,
            "object_position": null,
            "order": null,
            "overflow": null,
            "overflow_x": null,
            "overflow_y": null,
            "padding": null,
            "right": null,
            "top": null,
            "visibility": null,
            "width": null
          }
        },
        "cfed1da12f804cad84c4a89949a9520a": {
          "model_module": "@jupyter-widgets/controls",
          "model_name": "ProgressStyleModel",
          "model_module_version": "1.5.0",
          "state": {
            "_model_module": "@jupyter-widgets/controls",
            "_model_module_version": "1.5.0",
            "_model_name": "ProgressStyleModel",
            "_view_count": null,
            "_view_module": "@jupyter-widgets/base",
            "_view_module_version": "1.2.0",
            "_view_name": "StyleView",
            "bar_color": null,
            "description_width": ""
          }
        },
        "782e6cfe43d44df9a67d874ba1d95edc": {
          "model_module": "@jupyter-widgets/base",
          "model_name": "LayoutModel",
          "model_module_version": "1.2.0",
          "state": {
            "_model_module": "@jupyter-widgets/base",
            "_model_module_version": "1.2.0",
            "_model_name": "LayoutModel",
            "_view_count": null,
            "_view_module": "@jupyter-widgets/base",
            "_view_module_version": "1.2.0",
            "_view_name": "LayoutView",
            "align_content": null,
            "align_items": null,
            "align_self": null,
            "border": null,
            "bottom": null,
            "display": null,
            "flex": null,
            "flex_flow": null,
            "grid_area": null,
            "grid_auto_columns": null,
            "grid_auto_flow": null,
            "grid_auto_rows": null,
            "grid_column": null,
            "grid_gap": null,
            "grid_row": null,
            "grid_template_areas": null,
            "grid_template_columns": null,
            "grid_template_rows": null,
            "height": null,
            "justify_content": null,
            "justify_items": null,
            "left": null,
            "margin": null,
            "max_height": null,
            "max_width": null,
            "min_height": null,
            "min_width": null,
            "object_fit": null,
            "object_position": null,
            "order": null,
            "overflow": null,
            "overflow_x": null,
            "overflow_y": null,
            "padding": null,
            "right": null,
            "top": null,
            "visibility": null,
            "width": null
          }
        },
        "578e272613fd45fd83918b095c8a0732": {
          "model_module": "@jupyter-widgets/controls",
          "model_name": "DescriptionStyleModel",
          "model_module_version": "1.5.0",
          "state": {
            "_model_module": "@jupyter-widgets/controls",
            "_model_module_version": "1.5.0",
            "_model_name": "DescriptionStyleModel",
            "_view_count": null,
            "_view_module": "@jupyter-widgets/base",
            "_view_module_version": "1.2.0",
            "_view_name": "StyleView",
            "description_width": ""
          }
        },
        "706925361e8f45389320da58d8f21756": {
          "model_module": "@jupyter-widgets/controls",
          "model_name": "HBoxModel",
          "model_module_version": "1.5.0",
          "state": {
            "_dom_classes": [],
            "_model_module": "@jupyter-widgets/controls",
            "_model_module_version": "1.5.0",
            "_model_name": "HBoxModel",
            "_view_count": null,
            "_view_module": "@jupyter-widgets/controls",
            "_view_module_version": "1.5.0",
            "_view_name": "HBoxView",
            "box_style": "",
            "children": [
              "IPY_MODEL_42a1c277f12b486bb0d0eb7901293f16",
              "IPY_MODEL_8e9857fef1534e69b4b307c189dceb4c",
              "IPY_MODEL_9d2914b58f934ed4a17ef5c111e1344b"
            ],
            "layout": "IPY_MODEL_7bfb8e9132284628aed831e150c5f6a1"
          }
        },
        "42a1c277f12b486bb0d0eb7901293f16": {
          "model_module": "@jupyter-widgets/controls",
          "model_name": "HTMLModel",
          "model_module_version": "1.5.0",
          "state": {
            "_dom_classes": [],
            "_model_module": "@jupyter-widgets/controls",
            "_model_module_version": "1.5.0",
            "_model_name": "HTMLModel",
            "_view_count": null,
            "_view_module": "@jupyter-widgets/controls",
            "_view_module_version": "1.5.0",
            "_view_name": "HTMLView",
            "description": "",
            "description_tooltip": null,
            "layout": "IPY_MODEL_2fc2fe83affa4d68a955baca58b5cd78",
            "placeholder": "​",
            "style": "IPY_MODEL_28a0dff7e1594257ad4f810a250849d1",
            "value": "100%"
          }
        },
        "8e9857fef1534e69b4b307c189dceb4c": {
          "model_module": "@jupyter-widgets/controls",
          "model_name": "FloatProgressModel",
          "model_module_version": "1.5.0",
          "state": {
            "_dom_classes": [],
            "_model_module": "@jupyter-widgets/controls",
            "_model_module_version": "1.5.0",
            "_model_name": "FloatProgressModel",
            "_view_count": null,
            "_view_module": "@jupyter-widgets/controls",
            "_view_module_version": "1.5.0",
            "_view_name": "ProgressView",
            "bar_style": "success",
            "description": "",
            "description_tooltip": null,
            "layout": "IPY_MODEL_d8795e38e812483696e251933d0237af",
            "max": 10613,
            "min": 0,
            "orientation": "horizontal",
            "style": "IPY_MODEL_d13bf532e2c74480ac66271d15ba805d",
            "value": 10613
          }
        },
        "9d2914b58f934ed4a17ef5c111e1344b": {
          "model_module": "@jupyter-widgets/controls",
          "model_name": "HTMLModel",
          "model_module_version": "1.5.0",
          "state": {
            "_dom_classes": [],
            "_model_module": "@jupyter-widgets/controls",
            "_model_module_version": "1.5.0",
            "_model_name": "HTMLModel",
            "_view_count": null,
            "_view_module": "@jupyter-widgets/controls",
            "_view_module_version": "1.5.0",
            "_view_name": "HTMLView",
            "description": "",
            "description_tooltip": null,
            "layout": "IPY_MODEL_fca444549b2a46b8bf86a39a1e9ca107",
            "placeholder": "​",
            "style": "IPY_MODEL_fc1975b87d174aa880e843893d316c4b",
            "value": " 10613/10613 [00:33&lt;00:00, 302.18it/s]"
          }
        },
        "7bfb8e9132284628aed831e150c5f6a1": {
          "model_module": "@jupyter-widgets/base",
          "model_name": "LayoutModel",
          "model_module_version": "1.2.0",
          "state": {
            "_model_module": "@jupyter-widgets/base",
            "_model_module_version": "1.2.0",
            "_model_name": "LayoutModel",
            "_view_count": null,
            "_view_module": "@jupyter-widgets/base",
            "_view_module_version": "1.2.0",
            "_view_name": "LayoutView",
            "align_content": null,
            "align_items": null,
            "align_self": null,
            "border": null,
            "bottom": null,
            "display": null,
            "flex": null,
            "flex_flow": null,
            "grid_area": null,
            "grid_auto_columns": null,
            "grid_auto_flow": null,
            "grid_auto_rows": null,
            "grid_column": null,
            "grid_gap": null,
            "grid_row": null,
            "grid_template_areas": null,
            "grid_template_columns": null,
            "grid_template_rows": null,
            "height": null,
            "justify_content": null,
            "justify_items": null,
            "left": null,
            "margin": null,
            "max_height": null,
            "max_width": null,
            "min_height": null,
            "min_width": null,
            "object_fit": null,
            "object_position": null,
            "order": null,
            "overflow": null,
            "overflow_x": null,
            "overflow_y": null,
            "padding": null,
            "right": null,
            "top": null,
            "visibility": null,
            "width": null
          }
        },
        "2fc2fe83affa4d68a955baca58b5cd78": {
          "model_module": "@jupyter-widgets/base",
          "model_name": "LayoutModel",
          "model_module_version": "1.2.0",
          "state": {
            "_model_module": "@jupyter-widgets/base",
            "_model_module_version": "1.2.0",
            "_model_name": "LayoutModel",
            "_view_count": null,
            "_view_module": "@jupyter-widgets/base",
            "_view_module_version": "1.2.0",
            "_view_name": "LayoutView",
            "align_content": null,
            "align_items": null,
            "align_self": null,
            "border": null,
            "bottom": null,
            "display": null,
            "flex": null,
            "flex_flow": null,
            "grid_area": null,
            "grid_auto_columns": null,
            "grid_auto_flow": null,
            "grid_auto_rows": null,
            "grid_column": null,
            "grid_gap": null,
            "grid_row": null,
            "grid_template_areas": null,
            "grid_template_columns": null,
            "grid_template_rows": null,
            "height": null,
            "justify_content": null,
            "justify_items": null,
            "left": null,
            "margin": null,
            "max_height": null,
            "max_width": null,
            "min_height": null,
            "min_width": null,
            "object_fit": null,
            "object_position": null,
            "order": null,
            "overflow": null,
            "overflow_x": null,
            "overflow_y": null,
            "padding": null,
            "right": null,
            "top": null,
            "visibility": null,
            "width": null
          }
        },
        "28a0dff7e1594257ad4f810a250849d1": {
          "model_module": "@jupyter-widgets/controls",
          "model_name": "DescriptionStyleModel",
          "model_module_version": "1.5.0",
          "state": {
            "_model_module": "@jupyter-widgets/controls",
            "_model_module_version": "1.5.0",
            "_model_name": "DescriptionStyleModel",
            "_view_count": null,
            "_view_module": "@jupyter-widgets/base",
            "_view_module_version": "1.2.0",
            "_view_name": "StyleView",
            "description_width": ""
          }
        },
        "d8795e38e812483696e251933d0237af": {
          "model_module": "@jupyter-widgets/base",
          "model_name": "LayoutModel",
          "model_module_version": "1.2.0",
          "state": {
            "_model_module": "@jupyter-widgets/base",
            "_model_module_version": "1.2.0",
            "_model_name": "LayoutModel",
            "_view_count": null,
            "_view_module": "@jupyter-widgets/base",
            "_view_module_version": "1.2.0",
            "_view_name": "LayoutView",
            "align_content": null,
            "align_items": null,
            "align_self": null,
            "border": null,
            "bottom": null,
            "display": null,
            "flex": null,
            "flex_flow": null,
            "grid_area": null,
            "grid_auto_columns": null,
            "grid_auto_flow": null,
            "grid_auto_rows": null,
            "grid_column": null,
            "grid_gap": null,
            "grid_row": null,
            "grid_template_areas": null,
            "grid_template_columns": null,
            "grid_template_rows": null,
            "height": null,
            "justify_content": null,
            "justify_items": null,
            "left": null,
            "margin": null,
            "max_height": null,
            "max_width": null,
            "min_height": null,
            "min_width": null,
            "object_fit": null,
            "object_position": null,
            "order": null,
            "overflow": null,
            "overflow_x": null,
            "overflow_y": null,
            "padding": null,
            "right": null,
            "top": null,
            "visibility": null,
            "width": null
          }
        },
        "d13bf532e2c74480ac66271d15ba805d": {
          "model_module": "@jupyter-widgets/controls",
          "model_name": "ProgressStyleModel",
          "model_module_version": "1.5.0",
          "state": {
            "_model_module": "@jupyter-widgets/controls",
            "_model_module_version": "1.5.0",
            "_model_name": "ProgressStyleModel",
            "_view_count": null,
            "_view_module": "@jupyter-widgets/base",
            "_view_module_version": "1.2.0",
            "_view_name": "StyleView",
            "bar_color": null,
            "description_width": ""
          }
        },
        "fca444549b2a46b8bf86a39a1e9ca107": {
          "model_module": "@jupyter-widgets/base",
          "model_name": "LayoutModel",
          "model_module_version": "1.2.0",
          "state": {
            "_model_module": "@jupyter-widgets/base",
            "_model_module_version": "1.2.0",
            "_model_name": "LayoutModel",
            "_view_count": null,
            "_view_module": "@jupyter-widgets/base",
            "_view_module_version": "1.2.0",
            "_view_name": "LayoutView",
            "align_content": null,
            "align_items": null,
            "align_self": null,
            "border": null,
            "bottom": null,
            "display": null,
            "flex": null,
            "flex_flow": null,
            "grid_area": null,
            "grid_auto_columns": null,
            "grid_auto_flow": null,
            "grid_auto_rows": null,
            "grid_column": null,
            "grid_gap": null,
            "grid_row": null,
            "grid_template_areas": null,
            "grid_template_columns": null,
            "grid_template_rows": null,
            "height": null,
            "justify_content": null,
            "justify_items": null,
            "left": null,
            "margin": null,
            "max_height": null,
            "max_width": null,
            "min_height": null,
            "min_width": null,
            "object_fit": null,
            "object_position": null,
            "order": null,
            "overflow": null,
            "overflow_x": null,
            "overflow_y": null,
            "padding": null,
            "right": null,
            "top": null,
            "visibility": null,
            "width": null
          }
        },
        "fc1975b87d174aa880e843893d316c4b": {
          "model_module": "@jupyter-widgets/controls",
          "model_name": "DescriptionStyleModel",
          "model_module_version": "1.5.0",
          "state": {
            "_model_module": "@jupyter-widgets/controls",
            "_model_module_version": "1.5.0",
            "_model_name": "DescriptionStyleModel",
            "_view_count": null,
            "_view_module": "@jupyter-widgets/base",
            "_view_module_version": "1.2.0",
            "_view_name": "StyleView",
            "description_width": ""
          }
        },
        "76e82aded4aa4efeaeb97cf7ee1a44ff": {
          "model_module": "@jupyter-widgets/controls",
          "model_name": "HBoxModel",
          "model_module_version": "1.5.0",
          "state": {
            "_dom_classes": [],
            "_model_module": "@jupyter-widgets/controls",
            "_model_module_version": "1.5.0",
            "_model_name": "HBoxModel",
            "_view_count": null,
            "_view_module": "@jupyter-widgets/controls",
            "_view_module_version": "1.5.0",
            "_view_name": "HBoxView",
            "box_style": "",
            "children": [
              "IPY_MODEL_6bb9c4b87faf4e1d8b64c53b316b0076",
              "IPY_MODEL_aefb4425af334ae6893cb88697276d53",
              "IPY_MODEL_4c573528785e4d55b16ecb537c9296c5"
            ],
            "layout": "IPY_MODEL_adcd5929a42f4598abc948abef0c01f5"
          }
        },
        "6bb9c4b87faf4e1d8b64c53b316b0076": {
          "model_module": "@jupyter-widgets/controls",
          "model_name": "HTMLModel",
          "model_module_version": "1.5.0",
          "state": {
            "_dom_classes": [],
            "_model_module": "@jupyter-widgets/controls",
            "_model_module_version": "1.5.0",
            "_model_name": "HTMLModel",
            "_view_count": null,
            "_view_module": "@jupyter-widgets/controls",
            "_view_module_version": "1.5.0",
            "_view_name": "HTMLView",
            "description": "",
            "description_tooltip": null,
            "layout": "IPY_MODEL_addf802d3ede4be5828f88b0e5e06090",
            "placeholder": "​",
            "style": "IPY_MODEL_a31669e77325481e82dfd18783840cb2",
            "value": "100%"
          }
        },
        "aefb4425af334ae6893cb88697276d53": {
          "model_module": "@jupyter-widgets/controls",
          "model_name": "FloatProgressModel",
          "model_module_version": "1.5.0",
          "state": {
            "_dom_classes": [],
            "_model_module": "@jupyter-widgets/controls",
            "_model_module_version": "1.5.0",
            "_model_name": "FloatProgressModel",
            "_view_count": null,
            "_view_module": "@jupyter-widgets/controls",
            "_view_module_version": "1.5.0",
            "_view_name": "ProgressView",
            "bar_style": "success",
            "description": "",
            "description_tooltip": null,
            "layout": "IPY_MODEL_0d5ed3601ab942f48c888a5a5c1c3466",
            "max": 3730,
            "min": 0,
            "orientation": "horizontal",
            "style": "IPY_MODEL_77765e86c48f4955bef680e63b654546",
            "value": 3730
          }
        },
        "4c573528785e4d55b16ecb537c9296c5": {
          "model_module": "@jupyter-widgets/controls",
          "model_name": "HTMLModel",
          "model_module_version": "1.5.0",
          "state": {
            "_dom_classes": [],
            "_model_module": "@jupyter-widgets/controls",
            "_model_module_version": "1.5.0",
            "_model_name": "HTMLModel",
            "_view_count": null,
            "_view_module": "@jupyter-widgets/controls",
            "_view_module_version": "1.5.0",
            "_view_name": "HTMLView",
            "description": "",
            "description_tooltip": null,
            "layout": "IPY_MODEL_1d93ad781038459a933ff32db5460306",
            "placeholder": "​",
            "style": "IPY_MODEL_e3d05ace989540af88346f5b4de51f9b",
            "value": " 3730/3730 [00:10&lt;00:00, 329.33it/s]"
          }
        },
        "adcd5929a42f4598abc948abef0c01f5": {
          "model_module": "@jupyter-widgets/base",
          "model_name": "LayoutModel",
          "model_module_version": "1.2.0",
          "state": {
            "_model_module": "@jupyter-widgets/base",
            "_model_module_version": "1.2.0",
            "_model_name": "LayoutModel",
            "_view_count": null,
            "_view_module": "@jupyter-widgets/base",
            "_view_module_version": "1.2.0",
            "_view_name": "LayoutView",
            "align_content": null,
            "align_items": null,
            "align_self": null,
            "border": null,
            "bottom": null,
            "display": null,
            "flex": null,
            "flex_flow": null,
            "grid_area": null,
            "grid_auto_columns": null,
            "grid_auto_flow": null,
            "grid_auto_rows": null,
            "grid_column": null,
            "grid_gap": null,
            "grid_row": null,
            "grid_template_areas": null,
            "grid_template_columns": null,
            "grid_template_rows": null,
            "height": null,
            "justify_content": null,
            "justify_items": null,
            "left": null,
            "margin": null,
            "max_height": null,
            "max_width": null,
            "min_height": null,
            "min_width": null,
            "object_fit": null,
            "object_position": null,
            "order": null,
            "overflow": null,
            "overflow_x": null,
            "overflow_y": null,
            "padding": null,
            "right": null,
            "top": null,
            "visibility": null,
            "width": null
          }
        },
        "addf802d3ede4be5828f88b0e5e06090": {
          "model_module": "@jupyter-widgets/base",
          "model_name": "LayoutModel",
          "model_module_version": "1.2.0",
          "state": {
            "_model_module": "@jupyter-widgets/base",
            "_model_module_version": "1.2.0",
            "_model_name": "LayoutModel",
            "_view_count": null,
            "_view_module": "@jupyter-widgets/base",
            "_view_module_version": "1.2.0",
            "_view_name": "LayoutView",
            "align_content": null,
            "align_items": null,
            "align_self": null,
            "border": null,
            "bottom": null,
            "display": null,
            "flex": null,
            "flex_flow": null,
            "grid_area": null,
            "grid_auto_columns": null,
            "grid_auto_flow": null,
            "grid_auto_rows": null,
            "grid_column": null,
            "grid_gap": null,
            "grid_row": null,
            "grid_template_areas": null,
            "grid_template_columns": null,
            "grid_template_rows": null,
            "height": null,
            "justify_content": null,
            "justify_items": null,
            "left": null,
            "margin": null,
            "max_height": null,
            "max_width": null,
            "min_height": null,
            "min_width": null,
            "object_fit": null,
            "object_position": null,
            "order": null,
            "overflow": null,
            "overflow_x": null,
            "overflow_y": null,
            "padding": null,
            "right": null,
            "top": null,
            "visibility": null,
            "width": null
          }
        },
        "a31669e77325481e82dfd18783840cb2": {
          "model_module": "@jupyter-widgets/controls",
          "model_name": "DescriptionStyleModel",
          "model_module_version": "1.5.0",
          "state": {
            "_model_module": "@jupyter-widgets/controls",
            "_model_module_version": "1.5.0",
            "_model_name": "DescriptionStyleModel",
            "_view_count": null,
            "_view_module": "@jupyter-widgets/base",
            "_view_module_version": "1.2.0",
            "_view_name": "StyleView",
            "description_width": ""
          }
        },
        "0d5ed3601ab942f48c888a5a5c1c3466": {
          "model_module": "@jupyter-widgets/base",
          "model_name": "LayoutModel",
          "model_module_version": "1.2.0",
          "state": {
            "_model_module": "@jupyter-widgets/base",
            "_model_module_version": "1.2.0",
            "_model_name": "LayoutModel",
            "_view_count": null,
            "_view_module": "@jupyter-widgets/base",
            "_view_module_version": "1.2.0",
            "_view_name": "LayoutView",
            "align_content": null,
            "align_items": null,
            "align_self": null,
            "border": null,
            "bottom": null,
            "display": null,
            "flex": null,
            "flex_flow": null,
            "grid_area": null,
            "grid_auto_columns": null,
            "grid_auto_flow": null,
            "grid_auto_rows": null,
            "grid_column": null,
            "grid_gap": null,
            "grid_row": null,
            "grid_template_areas": null,
            "grid_template_columns": null,
            "grid_template_rows": null,
            "height": null,
            "justify_content": null,
            "justify_items": null,
            "left": null,
            "margin": null,
            "max_height": null,
            "max_width": null,
            "min_height": null,
            "min_width": null,
            "object_fit": null,
            "object_position": null,
            "order": null,
            "overflow": null,
            "overflow_x": null,
            "overflow_y": null,
            "padding": null,
            "right": null,
            "top": null,
            "visibility": null,
            "width": null
          }
        },
        "77765e86c48f4955bef680e63b654546": {
          "model_module": "@jupyter-widgets/controls",
          "model_name": "ProgressStyleModel",
          "model_module_version": "1.5.0",
          "state": {
            "_model_module": "@jupyter-widgets/controls",
            "_model_module_version": "1.5.0",
            "_model_name": "ProgressStyleModel",
            "_view_count": null,
            "_view_module": "@jupyter-widgets/base",
            "_view_module_version": "1.2.0",
            "_view_name": "StyleView",
            "bar_color": null,
            "description_width": ""
          }
        },
        "1d93ad781038459a933ff32db5460306": {
          "model_module": "@jupyter-widgets/base",
          "model_name": "LayoutModel",
          "model_module_version": "1.2.0",
          "state": {
            "_model_module": "@jupyter-widgets/base",
            "_model_module_version": "1.2.0",
            "_model_name": "LayoutModel",
            "_view_count": null,
            "_view_module": "@jupyter-widgets/base",
            "_view_module_version": "1.2.0",
            "_view_name": "LayoutView",
            "align_content": null,
            "align_items": null,
            "align_self": null,
            "border": null,
            "bottom": null,
            "display": null,
            "flex": null,
            "flex_flow": null,
            "grid_area": null,
            "grid_auto_columns": null,
            "grid_auto_flow": null,
            "grid_auto_rows": null,
            "grid_column": null,
            "grid_gap": null,
            "grid_row": null,
            "grid_template_areas": null,
            "grid_template_columns": null,
            "grid_template_rows": null,
            "height": null,
            "justify_content": null,
            "justify_items": null,
            "left": null,
            "margin": null,
            "max_height": null,
            "max_width": null,
            "min_height": null,
            "min_width": null,
            "object_fit": null,
            "object_position": null,
            "order": null,
            "overflow": null,
            "overflow_x": null,
            "overflow_y": null,
            "padding": null,
            "right": null,
            "top": null,
            "visibility": null,
            "width": null
          }
        },
        "e3d05ace989540af88346f5b4de51f9b": {
          "model_module": "@jupyter-widgets/controls",
          "model_name": "DescriptionStyleModel",
          "model_module_version": "1.5.0",
          "state": {
            "_model_module": "@jupyter-widgets/controls",
            "_model_module_version": "1.5.0",
            "_model_name": "DescriptionStyleModel",
            "_view_count": null,
            "_view_module": "@jupyter-widgets/base",
            "_view_module_version": "1.2.0",
            "_view_name": "StyleView",
            "description_width": ""
          }
        },
        "9fb5a1a64ac84179a072dd44982c0158": {
          "model_module": "@jupyter-widgets/controls",
          "model_name": "HBoxModel",
          "model_module_version": "1.5.0",
          "state": {
            "_dom_classes": [],
            "_model_module": "@jupyter-widgets/controls",
            "_model_module_version": "1.5.0",
            "_model_name": "HBoxModel",
            "_view_count": null,
            "_view_module": "@jupyter-widgets/controls",
            "_view_module_version": "1.5.0",
            "_view_name": "HBoxView",
            "box_style": "",
            "children": [
              "IPY_MODEL_6da07f084919443a9cb331f69aea63e7",
              "IPY_MODEL_c6b6241a8c184087a45629ceaa47cf24",
              "IPY_MODEL_73e507ed2b3d4881bddfd0998a2c975a"
            ],
            "layout": "IPY_MODEL_7bb161514c2e47abb349fb0ee7e62b52"
          }
        },
        "6da07f084919443a9cb331f69aea63e7": {
          "model_module": "@jupyter-widgets/controls",
          "model_name": "HTMLModel",
          "model_module_version": "1.5.0",
          "state": {
            "_dom_classes": [],
            "_model_module": "@jupyter-widgets/controls",
            "_model_module_version": "1.5.0",
            "_model_name": "HTMLModel",
            "_view_count": null,
            "_view_module": "@jupyter-widgets/controls",
            "_view_module_version": "1.5.0",
            "_view_name": "HTMLView",
            "description": "",
            "description_tooltip": null,
            "layout": "IPY_MODEL_b417d55fb2bb4c20b6bb819d8e6f1211",
            "placeholder": "​",
            "style": "IPY_MODEL_0bee228388ce45968c71aea39e7fc3c2",
            "value": "100%"
          }
        },
        "c6b6241a8c184087a45629ceaa47cf24": {
          "model_module": "@jupyter-widgets/controls",
          "model_name": "FloatProgressModel",
          "model_module_version": "1.5.0",
          "state": {
            "_dom_classes": [],
            "_model_module": "@jupyter-widgets/controls",
            "_model_module_version": "1.5.0",
            "_model_name": "FloatProgressModel",
            "_view_count": null,
            "_view_module": "@jupyter-widgets/controls",
            "_view_module_version": "1.5.0",
            "_view_name": "ProgressView",
            "bar_style": "success",
            "description": "",
            "description_tooltip": null,
            "layout": "IPY_MODEL_f2b405d682d04b8dbae739bb2df4e956",
            "max": 2324,
            "min": 0,
            "orientation": "horizontal",
            "style": "IPY_MODEL_ebad24f756484730adb1112c4374f95b",
            "value": 2324
          }
        },
        "73e507ed2b3d4881bddfd0998a2c975a": {
          "model_module": "@jupyter-widgets/controls",
          "model_name": "HTMLModel",
          "model_module_version": "1.5.0",
          "state": {
            "_dom_classes": [],
            "_model_module": "@jupyter-widgets/controls",
            "_model_module_version": "1.5.0",
            "_model_name": "HTMLModel",
            "_view_count": null,
            "_view_module": "@jupyter-widgets/controls",
            "_view_module_version": "1.5.0",
            "_view_name": "HTMLView",
            "description": "",
            "description_tooltip": null,
            "layout": "IPY_MODEL_8af8c8199f1447f886f7e877c5851c95",
            "placeholder": "​",
            "style": "IPY_MODEL_02a67b5ce52144acbb1b231bdc6bb304",
            "value": " 2324/2324 [00:08&lt;00:00, 237.27it/s]"
          }
        },
        "7bb161514c2e47abb349fb0ee7e62b52": {
          "model_module": "@jupyter-widgets/base",
          "model_name": "LayoutModel",
          "model_module_version": "1.2.0",
          "state": {
            "_model_module": "@jupyter-widgets/base",
            "_model_module_version": "1.2.0",
            "_model_name": "LayoutModel",
            "_view_count": null,
            "_view_module": "@jupyter-widgets/base",
            "_view_module_version": "1.2.0",
            "_view_name": "LayoutView",
            "align_content": null,
            "align_items": null,
            "align_self": null,
            "border": null,
            "bottom": null,
            "display": null,
            "flex": null,
            "flex_flow": null,
            "grid_area": null,
            "grid_auto_columns": null,
            "grid_auto_flow": null,
            "grid_auto_rows": null,
            "grid_column": null,
            "grid_gap": null,
            "grid_row": null,
            "grid_template_areas": null,
            "grid_template_columns": null,
            "grid_template_rows": null,
            "height": null,
            "justify_content": null,
            "justify_items": null,
            "left": null,
            "margin": null,
            "max_height": null,
            "max_width": null,
            "min_height": null,
            "min_width": null,
            "object_fit": null,
            "object_position": null,
            "order": null,
            "overflow": null,
            "overflow_x": null,
            "overflow_y": null,
            "padding": null,
            "right": null,
            "top": null,
            "visibility": null,
            "width": null
          }
        },
        "b417d55fb2bb4c20b6bb819d8e6f1211": {
          "model_module": "@jupyter-widgets/base",
          "model_name": "LayoutModel",
          "model_module_version": "1.2.0",
          "state": {
            "_model_module": "@jupyter-widgets/base",
            "_model_module_version": "1.2.0",
            "_model_name": "LayoutModel",
            "_view_count": null,
            "_view_module": "@jupyter-widgets/base",
            "_view_module_version": "1.2.0",
            "_view_name": "LayoutView",
            "align_content": null,
            "align_items": null,
            "align_self": null,
            "border": null,
            "bottom": null,
            "display": null,
            "flex": null,
            "flex_flow": null,
            "grid_area": null,
            "grid_auto_columns": null,
            "grid_auto_flow": null,
            "grid_auto_rows": null,
            "grid_column": null,
            "grid_gap": null,
            "grid_row": null,
            "grid_template_areas": null,
            "grid_template_columns": null,
            "grid_template_rows": null,
            "height": null,
            "justify_content": null,
            "justify_items": null,
            "left": null,
            "margin": null,
            "max_height": null,
            "max_width": null,
            "min_height": null,
            "min_width": null,
            "object_fit": null,
            "object_position": null,
            "order": null,
            "overflow": null,
            "overflow_x": null,
            "overflow_y": null,
            "padding": null,
            "right": null,
            "top": null,
            "visibility": null,
            "width": null
          }
        },
        "0bee228388ce45968c71aea39e7fc3c2": {
          "model_module": "@jupyter-widgets/controls",
          "model_name": "DescriptionStyleModel",
          "model_module_version": "1.5.0",
          "state": {
            "_model_module": "@jupyter-widgets/controls",
            "_model_module_version": "1.5.0",
            "_model_name": "DescriptionStyleModel",
            "_view_count": null,
            "_view_module": "@jupyter-widgets/base",
            "_view_module_version": "1.2.0",
            "_view_name": "StyleView",
            "description_width": ""
          }
        },
        "f2b405d682d04b8dbae739bb2df4e956": {
          "model_module": "@jupyter-widgets/base",
          "model_name": "LayoutModel",
          "model_module_version": "1.2.0",
          "state": {
            "_model_module": "@jupyter-widgets/base",
            "_model_module_version": "1.2.0",
            "_model_name": "LayoutModel",
            "_view_count": null,
            "_view_module": "@jupyter-widgets/base",
            "_view_module_version": "1.2.0",
            "_view_name": "LayoutView",
            "align_content": null,
            "align_items": null,
            "align_self": null,
            "border": null,
            "bottom": null,
            "display": null,
            "flex": null,
            "flex_flow": null,
            "grid_area": null,
            "grid_auto_columns": null,
            "grid_auto_flow": null,
            "grid_auto_rows": null,
            "grid_column": null,
            "grid_gap": null,
            "grid_row": null,
            "grid_template_areas": null,
            "grid_template_columns": null,
            "grid_template_rows": null,
            "height": null,
            "justify_content": null,
            "justify_items": null,
            "left": null,
            "margin": null,
            "max_height": null,
            "max_width": null,
            "min_height": null,
            "min_width": null,
            "object_fit": null,
            "object_position": null,
            "order": null,
            "overflow": null,
            "overflow_x": null,
            "overflow_y": null,
            "padding": null,
            "right": null,
            "top": null,
            "visibility": null,
            "width": null
          }
        },
        "ebad24f756484730adb1112c4374f95b": {
          "model_module": "@jupyter-widgets/controls",
          "model_name": "ProgressStyleModel",
          "model_module_version": "1.5.0",
          "state": {
            "_model_module": "@jupyter-widgets/controls",
            "_model_module_version": "1.5.0",
            "_model_name": "ProgressStyleModel",
            "_view_count": null,
            "_view_module": "@jupyter-widgets/base",
            "_view_module_version": "1.2.0",
            "_view_name": "StyleView",
            "bar_color": null,
            "description_width": ""
          }
        },
        "8af8c8199f1447f886f7e877c5851c95": {
          "model_module": "@jupyter-widgets/base",
          "model_name": "LayoutModel",
          "model_module_version": "1.2.0",
          "state": {
            "_model_module": "@jupyter-widgets/base",
            "_model_module_version": "1.2.0",
            "_model_name": "LayoutModel",
            "_view_count": null,
            "_view_module": "@jupyter-widgets/base",
            "_view_module_version": "1.2.0",
            "_view_name": "LayoutView",
            "align_content": null,
            "align_items": null,
            "align_self": null,
            "border": null,
            "bottom": null,
            "display": null,
            "flex": null,
            "flex_flow": null,
            "grid_area": null,
            "grid_auto_columns": null,
            "grid_auto_flow": null,
            "grid_auto_rows": null,
            "grid_column": null,
            "grid_gap": null,
            "grid_row": null,
            "grid_template_areas": null,
            "grid_template_columns": null,
            "grid_template_rows": null,
            "height": null,
            "justify_content": null,
            "justify_items": null,
            "left": null,
            "margin": null,
            "max_height": null,
            "max_width": null,
            "min_height": null,
            "min_width": null,
            "object_fit": null,
            "object_position": null,
            "order": null,
            "overflow": null,
            "overflow_x": null,
            "overflow_y": null,
            "padding": null,
            "right": null,
            "top": null,
            "visibility": null,
            "width": null
          }
        },
        "02a67b5ce52144acbb1b231bdc6bb304": {
          "model_module": "@jupyter-widgets/controls",
          "model_name": "DescriptionStyleModel",
          "model_module_version": "1.5.0",
          "state": {
            "_model_module": "@jupyter-widgets/controls",
            "_model_module_version": "1.5.0",
            "_model_name": "DescriptionStyleModel",
            "_view_count": null,
            "_view_module": "@jupyter-widgets/base",
            "_view_module_version": "1.2.0",
            "_view_name": "StyleView",
            "description_width": ""
          }
        }
      }
    },
    "accelerator": "GPU"
  },
  "cells": [
    {
      "cell_type": "code",
      "source": [
        "from google.colab import drive\n",
        "drive.mount('/content/drive')"
      ],
      "metadata": {
        "colab": {
          "base_uri": "https://localhost:8080/"
        },
        "id": "_pBzTRa6UxoB",
        "outputId": "74b3b193-f905-48d5-9cbe-585dea88ad8c"
      },
      "execution_count": null,
      "outputs": [
        {
          "output_type": "stream",
          "name": "stdout",
          "text": [
            "Mounted at /content/drive\n"
          ]
        }
      ]
    },
    {
      "cell_type": "code",
      "source": [
        "import numpy as np\n",
        "import pandas as pd\n",
        "import warnings\n",
        "warnings.filterwarnings('ignore')"
      ],
      "metadata": {
        "id": "MYd8OZf5UfUB"
      },
      "execution_count": null,
      "outputs": []
    },
    {
      "cell_type": "code",
      "source": [
        "# Hanspell, 불용어처리 등 텍스트 전처리가 이미 된 데이터 가져오기\n",
        "train_df=pd.read_csv(\"/content/drive/MyDrive/data/train_multi_spellcheck.csv\", delimiter=',', encoding='utf-8')\n",
        "valid_df=pd.read_csv(\"/content/drive/MyDrive/data/valid_multi_spellcheck.csv\", delimiter=',', encoding='utf-8')\n",
        "test_df=pd.read_csv(\"/content/drive/MyDrive/data/test_multi_spellcheck.csv\", delimiter=',', encoding='utf-8')\n",
        "train_df.shape, valid_df.shape, test_df.shape"
      ],
      "metadata": {
        "id": "9PGxNXw6Q_8B",
        "colab": {
          "base_uri": "https://localhost:8080/"
        },
        "outputId": "42097d74-26e2-48d1-99e2-332e7fd2ce2e"
      },
      "execution_count": null,
      "outputs": [
        {
          "output_type": "execute_result",
          "data": {
            "text/plain": [
              "((14981, 12), (3737, 12), (2324, 12))"
            ]
          },
          "metadata": {},
          "execution_count": 3
        }
      ]
    },
    {
      "cell_type": "code",
      "source": [
        "train_df.문장 = train_df.문장.str.replace('[^ㄱ-ㅎㅏ-ㅣ가-힣]',' ').str.strip()\n",
        "train_df.문장.replace('', np.nan, inplace=True)\n",
        "print(train_df.문장.isna().sum())\n",
        "train_df.dropna(how='any', inplace=True)\n",
        "train_df.reset_index(drop=True, inplace=True)\n",
        "train_df.shape"
      ],
      "metadata": {
        "colab": {
          "base_uri": "https://localhost:8080/"
        },
        "id": "EnKw9kJLUgTl",
        "outputId": "7c1bc198-5427-4824-de3f-ec455a19eca4"
      },
      "execution_count": null,
      "outputs": [
        {
          "output_type": "stream",
          "name": "stdout",
          "text": [
            "0\n"
          ]
        },
        {
          "output_type": "execute_result",
          "data": {
            "text/plain": [
              "(14981, 12)"
            ]
          },
          "metadata": {},
          "execution_count": 4
        }
      ]
    },
    {
      "cell_type": "code",
      "source": [
        "valid_df.문장 = valid_df.문장.str.replace('[^ㄱ-ㅎㅏ-ㅣ가-힣]',' ').str.strip()\n",
        "valid_df.문장.replace('', np.nan, inplace=True)\n",
        "print(valid_df.문장.isna().sum())\n",
        "valid_df.dropna(how='any', inplace=True)\n",
        "valid_df.reset_index(drop=True, inplace=True)\n",
        "valid_df.shape"
      ],
      "metadata": {
        "colab": {
          "base_uri": "https://localhost:8080/"
        },
        "id": "tgzeiqu7U01N",
        "outputId": "f52a9268-b6f3-4f7d-b3f8-c58638159f2f"
      },
      "execution_count": null,
      "outputs": [
        {
          "output_type": "stream",
          "name": "stdout",
          "text": [
            "7\n"
          ]
        },
        {
          "output_type": "execute_result",
          "data": {
            "text/plain": [
              "(3730, 12)"
            ]
          },
          "metadata": {},
          "execution_count": 5
        }
      ]
    },
    {
      "cell_type": "code",
      "source": [
        "test_df.문장 = test_df.문장.str.replace('[^ㄱ-ㅎㅏ-ㅣ가-힣]',' ').str.strip()\n",
        "test_df.문장.replace('', np.nan, inplace=True)\n",
        "print(test_df.문장.isna().sum())\n",
        "test_df.dropna(how='any', inplace=True)\n",
        "test_df.reset_index(drop=True, inplace=True)\n",
        "test_df.shape"
      ],
      "metadata": {
        "colab": {
          "base_uri": "https://localhost:8080/"
        },
        "id": "bltG914VU3DS",
        "outputId": "81b2317a-7888-484a-d59f-e2c6e07989e4"
      },
      "execution_count": null,
      "outputs": [
        {
          "output_type": "stream",
          "name": "stdout",
          "text": [
            "0\n"
          ]
        },
        {
          "output_type": "execute_result",
          "data": {
            "text/plain": [
              "(2324, 12)"
            ]
          },
          "metadata": {},
          "execution_count": 6
        }
      ]
    },
    {
      "cell_type": "markdown",
      "metadata": {
        "id": "33P0880-Ltj4"
      },
      "source": [
        "### 데이터 전처리\n",
        "- 레이블링\n",
        "  - clean인 문장은 1\n",
        "  - clean이 아닌 문장은 0"
      ]
    },
    {
      "cell_type": "code",
      "execution_count": null,
      "metadata": {
        "id": "lkLpLOdONFdz"
      },
      "outputs": [],
      "source": [
        "binary_train = train_df.copy()\n",
        "binary_valid = valid_df.copy()\n",
        "binary_test = test_df.copy()"
      ]
    },
    {
      "cell_type": "code",
      "execution_count": null,
      "metadata": {
        "id": "FAgffsTuLsi3"
      },
      "outputs": [],
      "source": [
        "binary_train.loc[binary_train[binary_train.clean == 1].index, '라벨'] = 1\n",
        "binary_train.loc[binary_train[binary_train.clean != 1].index, '라벨'] = 0\n",
        "\n",
        "binary_valid.loc[binary_valid[binary_valid.clean == 1].index, '라벨'] = 1\n",
        "binary_valid.loc[binary_valid[binary_valid.clean != 1].index, '라벨'] = 0\n",
        "\n",
        "binary_test.loc[binary_test[binary_test.clean == 1].index, '라벨'] = 1\n",
        "binary_test.loc[binary_test[binary_test.clean != 1].index, '라벨'] = 0"
      ]
    },
    {
      "cell_type": "code",
      "execution_count": null,
      "metadata": {
        "id": "FodTZLUUMgBR"
      },
      "outputs": [],
      "source": [
        "binary_train = binary_train[['문장', '라벨']]\n",
        "binary_valid = binary_valid[['문장', '라벨']]\n",
        "binary_test = binary_test[['문장', '라벨']]"
      ]
    },
    {
      "cell_type": "code",
      "execution_count": null,
      "metadata": {
        "id": "sguoc9VuTV25"
      },
      "outputs": [],
      "source": [
        "import matplotlib.pyplot as plt\n",
        "plt.rc('font', family='NanumGothic')"
      ]
    },
    {
      "cell_type": "code",
      "execution_count": null,
      "metadata": {
        "colab": {
          "base_uri": "https://localhost:8080/",
          "height": 284
        },
        "id": "2tmQu6lkTV26",
        "outputId": "c378d150-ab1e-45b6-c439-c83d9cd6f9ca"
      },
      "outputs": [
        {
          "output_type": "stream",
          "name": "stderr",
          "text": [
            "findfont: Font family ['NanumGothic'] not found. Falling back to DejaVu Sans.\n"
          ]
        },
        {
          "output_type": "display_data",
          "data": {
            "text/plain": [
              "<Figure size 432x288 with 1 Axes>"
            ],
            "image/png": "[encoded data removed]"
          },
          "metadata": {
            "needs_background": "light"
          }
        }
      ],
      "source": [
        "plt.bar([0, 1], binary_train['라벨'].value_counts())\n",
        "plt.xticks([0, 1], ['악플', 'clean'])\n",
        "plt.show()"
      ]
    },
    {
      "cell_type": "code",
      "execution_count": null,
      "metadata": {
        "id": "HGtC9fCsTV26"
      },
      "outputs": [],
      "source": [
        "# 오버샘플링\n",
        "from imblearn.over_sampling import RandomOverSampler\n",
        "binary_train_X, binary_train_y = RandomOverSampler(random_state=0).fit_resample(binary_train['문장'].values.reshape(-1, 1), binary_train['라벨'].values.reshape(-1, 1))"
      ]
    },
    {
      "cell_type": "code",
      "execution_count": null,
      "metadata": {
        "colab": {
          "base_uri": "https://localhost:8080/",
          "height": 265
        },
        "id": "C4C-jC_NTV27",
        "outputId": "dc90abcf-4def-4211-a6ff-060c41ba14e2"
      },
      "outputs": [
        {
          "output_type": "display_data",
          "data": {
            "text/plain": [
              "<Figure size 432x288 with 1 Axes>"
            ],
            "image/png": "[encoded data removed]"
          },
          "metadata": {
            "needs_background": "light"
          }
        }
      ],
      "source": [
        "from collections import Counter\n",
        "counter = Counter(binary_train_y)\n",
        "plt.bar(counter.keys(), counter.values())\n",
        "plt.xticks([0, 1], ['악플', 'clean'])\n",
        "plt.show()"
      ]
    },
    {
      "cell_type": "markdown",
      "metadata": {
        "id": "0Z5MSfC9Nfwi"
      },
      "source": [
        "### 형태소 분석"
      ]
    },
    {
      "cell_type": "code",
      "source": [
        "!pip install konlpy"
      ],
      "metadata": {
        "colab": {
          "base_uri": "https://localhost:8080/"
        },
        "id": "FaT5PLXNdsCo",
        "outputId": "4271808d-9ee3-4735-e8c0-4c73b69b8cde"
      },
      "execution_count": null,
      "outputs": [
        {
          "output_type": "stream",
          "name": "stdout",
          "text": [
            "Looking in indexes: https://pypi.org/simple, https://us-python.pkg.dev/colab-wheels/public/simple/\n",
            "Collecting konlpy\n",
            "  Downloading konlpy-0.6.0-py2.py3-none-any.whl (19.4 MB)\n",
            "\u001b[K     |████████████████████████████████| 19.4 MB 1.2 MB/s \n",
            "\u001b[?25hRequirement already satisfied: numpy>=1.6 in /usr/local/lib/python3.7/dist-packages (from konlpy) (1.21.6)\n",
            "Collecting JPype1>=0.7.0\n",
            "  Downloading JPype1-1.4.0-cp37-cp37m-manylinux_2_5_x86_64.manylinux1_x86_64.whl (453 kB)\n",
            "\u001b[K     |████████████████████████████████| 453 kB 62.1 MB/s \n",
            "\u001b[?25hRequirement already satisfied: lxml>=4.1.0 in /usr/local/lib/python3.7/dist-packages (from konlpy) (4.2.6)\n",
            "Requirement already satisfied: typing-extensions in /usr/local/lib/python3.7/dist-packages (from JPype1>=0.7.0->konlpy) (4.2.0)\n",
            "Installing collected packages: JPype1, konlpy\n",
            "Successfully installed JPype1-1.4.0 konlpy-0.6.0\n"
          ]
        }
      ]
    },
    {
      "cell_type": "code",
      "source": [
        "from konlpy.tag import Okt\n",
        "from tqdm.notebook import tqdm\n",
        "\n",
        "okt = Okt()\n",
        "stopwords = ['의','가','이','은','들','는','좀','잘','걍','과','도','를','으로','자','에','와','한','하다','을','ㅋㅋ','ㅠㅠ','ㅎㅎ']"
      ],
      "metadata": {
        "id": "1So1G81afGSY"
      },
      "execution_count": null,
      "outputs": []
    },
    {
      "cell_type": "code",
      "source": [
        "X_train = []\n",
        "for sentence in tqdm(binary_train_X):\n",
        "  morphs = okt.morphs(sentence[0])\n",
        "  tmp_X = [word for word in morphs if word not in stopwords]\n",
        "  X_train.append(tmp_X)"
      ],
      "metadata": {
        "colab": {
          "base_uri": "https://localhost:8080/",
          "height": 49,
          "referenced_widgets": [
            "d5b231bcc5a7479f88792ed8e4ccc4bc",
            "2b08892cdd6140b6a68ce507ad496cee",
            "ffdb7840ca394ac0833194be5ecf3528",
            "d6ed873b6f59418ab3929856d42c32e5",
            "44c6dbd4e92249dab9bb0b98383baa46",
            "76c5d625d8684ec9a2b35c8fe3502f8b",
            "2c71386a0d194b6ea709560780f7c07d",
            "f1e5ca0616b54923b1ad4387a68bd1e9",
            "7e17ad0380d1478e80b67ff20159e76a",
            "d6ace7e623a7405380869438fea662a9",
            "37c39e0d852442c38a9d729fd7693df6"
          ]
        },
        "outputId": "4f37f37a-f93b-4f58-c0d3-74d93f305d36",
        "id": "M8-cTHnOfGSY"
      },
      "execution_count": null,
      "outputs": [
        {
          "output_type": "display_data",
          "data": {
            "text/plain": [
              "  0%|          | 0/22524 [00:00<?, ?it/s]"
            ],
            "application/vnd.jupyter.widget-view+json": {
              "version_major": 2,
              "version_minor": 0,
              "model_id": "d5b231bcc5a7479f88792ed8e4ccc4bc"
            }
          },
          "metadata": {}
        }
      ]
    },
    {
      "cell_type": "code",
      "source": [
        "X_valid = []\n",
        "for sentence in tqdm(binary_valid.문장):\n",
        "  morphs = okt.morphs(sentence)\n",
        "  tmp_X = [word for word in morphs if word not in stopwords]\n",
        "  X_valid.append(tmp_X)"
      ],
      "metadata": {
        "id": "aVZVn7ZIRbvh",
        "colab": {
          "base_uri": "https://localhost:8080/",
          "height": 49,
          "referenced_widgets": [
            "8f8627d8ff714164bca1cf71112b7fa3",
            "facb4a6a113f4220a000df402671ebf4",
            "5d058d95b1444fa684ee53c786920c18",
            "e215523fbc51480ebd843a8638a52368",
            "907545d0fed54356a2fec9d5358e506b",
            "5c9274cca6124b89b3d8f9895ae49c3b",
            "a3d36c47243a487fbac88123bbe28aad",
            "a94efee4070743e8bf42a93565b2de88",
            "c1e575a40276491cbf155a5c3cf327b9",
            "29f1369771c94e3898346347cb407a6d",
            "16a0507e1b8a4c43a3cd4fade34c87e0"
          ]
        },
        "outputId": "836193b6-0a6d-4dce-e675-0e44863bb228"
      },
      "execution_count": null,
      "outputs": [
        {
          "output_type": "display_data",
          "data": {
            "text/plain": [
              "  0%|          | 0/3730 [00:00<?, ?it/s]"
            ],
            "application/vnd.jupyter.widget-view+json": {
              "version_major": 2,
              "version_minor": 0,
              "model_id": "8f8627d8ff714164bca1cf71112b7fa3"
            }
          },
          "metadata": {}
        }
      ]
    },
    {
      "cell_type": "code",
      "source": [
        "X_test = []\n",
        "for sentence in tqdm(binary_test.문장):\n",
        "  morphs = okt.morphs(sentence)\n",
        "  tmp_X = [word for word in morphs if word not in stopwords]\n",
        "  X_test.append(tmp_X)"
      ],
      "metadata": {
        "colab": {
          "base_uri": "https://localhost:8080/",
          "height": 49,
          "referenced_widgets": [
            "991913d7adeb4bca865ff812500b242b",
            "ef64b397c7f64697b413845b51dc34a2",
            "efbd428d2f8b49e8bf6b47e9e96980ac",
            "ee653aa87645480bb52f2c4809981f00",
            "38c27eac389244f0a13905297fcae32d",
            "f8349e75cc5b4510a6a4dc60551dd116",
            "2665e6ebf1c34464bb31fcd40f651eca",
            "20e0bddb798649718173957a05c6d164",
            "050678cb1dda4cc2b0e312ddd275f93d",
            "d317c9ad75a74dfab8b020b7adf33930",
            "9610efba72204558bdca28638bbb6bab"
          ]
        },
        "outputId": "f8c953e0-2bac-4d64-956f-415d11aba4af",
        "id": "mbqJiNARfGSY"
      },
      "execution_count": null,
      "outputs": [
        {
          "output_type": "display_data",
          "data": {
            "text/plain": [
              "  0%|          | 0/2324 [00:00<?, ?it/s]"
            ],
            "application/vnd.jupyter.widget-view+json": {
              "version_major": 2,
              "version_minor": 0,
              "model_id": "991913d7adeb4bca865ff812500b242b"
            }
          },
          "metadata": {}
        }
      ]
    },
    {
      "cell_type": "code",
      "source": [
        "from tensorflow.keras.preprocessing.text import Tokenizer\n",
        "t = Tokenizer()\n",
        "t.fit_on_texts(X_train)\n",
        "\n",
        "threshold = 10\n",
        "total_cnt = len(t.word_index) # 단어의 수\n",
        "rare_cnt = 0 # 등장 빈도수가 threshold보다 작은 단어의 개수를 카운트\n",
        "total_freq = 0 # 훈련 데이터의 전체 단어 빈도수 총 합\n",
        "rare_freq = 0 # 등장 빈도수가 threshold보다 작은 단어의 등장 빈도수의 총 합\n",
        "\n",
        "# 단어와 빈도수의 쌍(pair)을 key와 value로 받는다.\n",
        "for key, value in t.word_counts.items():\n",
        "    total_freq = total_freq + value\n",
        "\n",
        "    # 단어의 등장 빈도수가 threshold보다 작으면\n",
        "    if(value < threshold):\n",
        "        rare_cnt = rare_cnt + 1\n",
        "        rare_freq = rare_freq + value\n",
        "\n",
        "print('단어 집합(vocabulary)의 크기 :',total_cnt)\n",
        "print('등장 빈도가 %s번 이하인 희귀 단어의 수: %s'%(threshold - 1, rare_cnt))\n",
        "print(\"단어 집합에서 희귀 단어의 비율:\", (rare_cnt / total_cnt)*100)\n",
        "print(\"전체 등장 빈도에서 희귀 단어 등장 빈도 비율:\", (rare_freq / total_freq)*100)"
      ],
      "metadata": {
        "colab": {
          "base_uri": "https://localhost:8080/"
        },
        "outputId": "e1dd1754-0e0a-4e53-9c31-6590f664ad7a",
        "id": "a2S0ZiZ7fGSZ"
      },
      "execution_count": null,
      "outputs": [
        {
          "output_type": "stream",
          "name": "stdout",
          "text": [
            "단어 집합(vocabulary)의 크기 : 28096\n",
            "등장 빈도가 9번 이하인 희귀 단어의 수: 24229\n",
            "단어 집합에서 희귀 단어의 비율: 86.23647494305239\n",
            "전체 등장 빈도에서 희귀 단어 등장 빈도 비율: 20.327324809613636\n"
          ]
        }
      ]
    },
    {
      "cell_type": "code",
      "source": [
        "# 모든 단어를 사용하기로 결정\n",
        "vocab_size = total_cnt + 1\n",
        "print(vocab_size)"
      ],
      "metadata": {
        "colab": {
          "base_uri": "https://localhost:8080/"
        },
        "outputId": "949018d4-5b24-4a90-d5f3-b705d99e6bc7",
        "id": "NvqdEHF5fGSZ"
      },
      "execution_count": null,
      "outputs": [
        {
          "output_type": "stream",
          "name": "stdout",
          "text": [
            "28097\n"
          ]
        }
      ]
    },
    {
      "cell_type": "code",
      "source": [
        "t = Tokenizer()\n",
        "t.fit_on_texts(X_train)\n",
        "\n",
        "X_binary_train = t.texts_to_sequences(X_train)\n",
        "X_binary_valid = t.texts_to_sequences(X_valid)\n",
        "X_binary_test = t.texts_to_sequences(X_test)\n",
        "\n",
        "y_binary_train = binary_train_y\n",
        "y_binary_valid = binary_valid['라벨'].values\n",
        "y_binary_test = binary_test['라벨'].values\n",
        "\n",
        "y_binary_train.shape, y_binary_valid.shape, y_binary_test.shape"
      ],
      "metadata": {
        "colab": {
          "base_uri": "https://localhost:8080/"
        },
        "outputId": "02f22ef3-6427-4a96-bfd3-6c37d6b8c1e0",
        "id": "h2_LNN7QfGSa"
      },
      "execution_count": null,
      "outputs": [
        {
          "output_type": "execute_result",
          "data": {
            "text/plain": [
              "((22524,), (3730,), (2324,))"
            ]
          },
          "metadata": {},
          "execution_count": 21
        }
      ]
    },
    {
      "cell_type": "code",
      "source": [
        "# 빈 샘플들을 제거\n",
        "drop_train = [index for index, sentence in enumerate(X_train) if len(sentence) < 1]\n",
        "X_binary_train = np.delete(X_binary_train, drop_train, axis=0)\n",
        "y_binary_train = np.delete(y_binary_train, drop_train, axis=0)\n",
        "print(len(X_binary_train))\n",
        "print(len(y_binary_train))"
      ],
      "metadata": {
        "colab": {
          "base_uri": "https://localhost:8080/"
        },
        "outputId": "bb1ba6e1-2f4d-4beb-fde8-0037569d983e",
        "id": "4kSUJdWxfGSa"
      },
      "execution_count": null,
      "outputs": [
        {
          "output_type": "stream",
          "name": "stdout",
          "text": [
            "22519\n",
            "22519\n"
          ]
        }
      ]
    },
    {
      "cell_type": "markdown",
      "source": [
        "### 패딩"
      ],
      "metadata": {
        "id": "WBpDjLy7Gay4"
      }
    },
    {
      "cell_type": "code",
      "source": [
        "import matplotlib.pyplot as plt\n",
        "print('리뷰의 최대 길이_Okt ver :',max(len(review) for review in X_binary_train))\n",
        "print('리뷰의 평균 길이_Okt ver :',sum(map(len, X_binary_train))/len(X_binary_train))\n",
        "plt.hist([len(review) for review in X_binary_train], bins=50)\n",
        "plt.xlabel('length of samples')\n",
        "plt.ylabel('number of samples')\n",
        "plt.show()"
      ],
      "metadata": {
        "id": "n5XBwF7dGcT3",
        "colab": {
          "base_uri": "https://localhost:8080/",
          "height": 317
        },
        "outputId": "e394fdb7-3a4c-4850-fb67-7432fe989018"
      },
      "execution_count": null,
      "outputs": [
        {
          "output_type": "stream",
          "name": "stdout",
          "text": [
            "리뷰의 최대 길이_Okt ver : 77\n",
            "리뷰의 평균 길이_Okt ver : 12.711932146187664\n"
          ]
        },
        {
          "output_type": "display_data",
          "data": {
            "text/plain": [
              "<Figure size 432x288 with 1 Axes>"
            ],
            "image/png": "[encoded data removed]"
          },
          "metadata": {
            "needs_background": "light"
          }
        }
      ]
    },
    {
      "cell_type": "code",
      "source": [
        "def below_threshold_len(max_len, nested_list):\n",
        "  count = 0\n",
        "  for sentence in nested_list:\n",
        "    if(len(sentence) <= max_len):\n",
        "        count = count + 1\n",
        "  print('전체 샘플 중 길이가 %s 이하인 샘플의 비율: %s'%(max_len, (count / len(nested_list))*100))"
      ],
      "metadata": {
        "id": "mCRl4IiuGpD-"
      },
      "execution_count": null,
      "outputs": []
    },
    {
      "cell_type": "code",
      "source": [
        "max_len = 30\n",
        "below_threshold_len(max_len, X_binary_train)"
      ],
      "metadata": {
        "id": "tytq9ZHz5MO4",
        "colab": {
          "base_uri": "https://localhost:8080/"
        },
        "outputId": "be29e9d8-9a6e-42d0-ceae-a667d0b3e688"
      },
      "execution_count": null,
      "outputs": [
        {
          "output_type": "stream",
          "name": "stdout",
          "text": [
            "전체 샘플 중 길이가 30 이하인 샘플의 비율: 92.83271903725743\n"
          ]
        }
      ]
    },
    {
      "cell_type": "code",
      "source": [
        "from tensorflow.keras.preprocessing.sequence import pad_sequences\n",
        "X_binary_train = pad_sequences(X_binary_train, maxlen=max_len)\n",
        "X_binary_valid = pad_sequences(X_binary_valid, maxlen=max_len)\n",
        "X_binary_test = pad_sequences(X_binary_test, maxlen=max_len)\n",
        "X_binary_train.shape, X_binary_valid.shape, X_binary_test.shape"
      ],
      "metadata": {
        "id": "nKFZ06qMHThJ",
        "colab": {
          "base_uri": "https://localhost:8080/"
        },
        "outputId": "1dd12c07-6775-48b4-ee3a-a1d5d44fb743"
      },
      "execution_count": null,
      "outputs": [
        {
          "output_type": "execute_result",
          "data": {
            "text/plain": [
              "((22519, 30), (3730, 30), (2324, 30))"
            ]
          },
          "metadata": {},
          "execution_count": 26
        }
      ]
    },
    {
      "cell_type": "markdown",
      "source": [
        "### 악플 유무 분류 모델 생성"
      ],
      "metadata": {
        "id": "ZYQtw3CCXtGS"
      }
    },
    {
      "cell_type": "code",
      "source": [
        "from tensorflow.keras.models import Sequential, load_model, Model\n",
        "from tensorflow.keras.layers import SimpleRNN, Embedding, Dense, Dropout, GlobalMaxPooling1D\n",
        "from tensorflow.keras.callbacks import ModelCheckpoint, EarlyStopping"
      ],
      "metadata": {
        "id": "DwJuGfUKX0Ml"
      },
      "execution_count": null,
      "outputs": []
    },
    {
      "cell_type": "code",
      "execution_count": null,
      "metadata": {
        "id": "LWKDhm-nTV3C",
        "outputId": "340ba1c7-7dd3-4e4d-d366-367eb05ee03c",
        "colab": {
          "base_uri": "https://localhost:8080/"
        }
      },
      "outputs": [
        {
          "output_type": "stream",
          "name": "stdout",
          "text": [
            "Model: \"sequential\"\n",
            "_________________________________________________________________\n",
            " Layer (type)                Output Shape              Param #   \n",
            "=================================================================\n",
            " embedding (Embedding)       (None, 30, 128)           3596416   \n",
            "                                                                 \n",
            " simple_rnn (SimpleRNN)      (None, 128)               32896     \n",
            "                                                                 \n",
            " dense (Dense)               (None, 1)                 129       \n",
            "                                                                 \n",
            "=================================================================\n",
            "Total params: 3,629,441\n",
            "Trainable params: 3,629,441\n",
            "Non-trainable params: 0\n",
            "_________________________________________________________________\n"
          ]
        }
      ],
      "source": [
        "model = Sequential([ \n",
        "  Embedding(vocab_size, 128, input_length=max_len),\n",
        "  SimpleRNN(128, activation='relu'),\n",
        "  Dense(1, activation='sigmoid')\n",
        "])\n",
        "model.summary()"
      ]
    },
    {
      "cell_type": "code",
      "execution_count": null,
      "metadata": {
        "id": "ZTbz07n_TV3C"
      },
      "outputs": [],
      "source": [
        "model.compile(loss='binary_crossentropy', optimizer='adam', metrics=['accuracy'])\n",
        "model_path = 'best-binary.h5'\n",
        "mc = ModelCheckpoint(model_path, verbose=1, save_best_only=True)\n",
        "es = EarlyStopping(patience=5)"
      ]
    },
    {
      "cell_type": "code",
      "execution_count": null,
      "metadata": {
        "id": "eUbpEDJkTV3D",
        "outputId": "bdbefd98-6cee-4c8b-cc7f-a506a8839eda",
        "colab": {
          "base_uri": "https://localhost:8080/"
        }
      },
      "outputs": [
        {
          "output_type": "stream",
          "name": "stdout",
          "text": [
            "Epoch 1/30\n",
            "352/352 [==============================] - ETA: 0s - loss: 0.3904 - accuracy: 0.8182\n",
            "Epoch 1: val_loss improved from inf to 1.22212, saving model to best-binary.h5\n",
            "352/352 [==============================] - 17s 38ms/step - loss: 0.3904 - accuracy: 0.8182 - val_loss: 1.2221 - val_accuracy: 0.6375\n",
            "Epoch 2/30\n",
            "351/352 [============================>.] - ETA: 0s - loss: 0.1015 - accuracy: 0.9644\n",
            "Epoch 2: val_loss did not improve from 1.22212\n",
            "352/352 [==============================] - 11s 33ms/step - loss: 0.1014 - accuracy: 0.9644 - val_loss: 1.4989 - val_accuracy: 0.6579\n",
            "Epoch 3/30\n",
            "352/352 [==============================] - ETA: 0s - loss: 0.0240 - accuracy: 0.9928\n",
            "Epoch 3: val_loss did not improve from 1.22212\n",
            "352/352 [==============================] - 12s 34ms/step - loss: 0.0240 - accuracy: 0.9928 - val_loss: 2.8256 - val_accuracy: 0.6584\n",
            "Epoch 4/30\n",
            "351/352 [============================>.] - ETA: 0s - loss: 0.0074 - accuracy: 0.9982\n",
            "Epoch 4: val_loss did not improve from 1.22212\n",
            "352/352 [==============================] - 11s 32ms/step - loss: 0.0074 - accuracy: 0.9982 - val_loss: 3.3750 - val_accuracy: 0.6625\n",
            "Epoch 5/30\n",
            "351/352 [============================>.] - ETA: 0s - loss: 0.0052 - accuracy: 0.9987\n",
            "Epoch 5: val_loss did not improve from 1.22212\n",
            "352/352 [==============================] - 11s 32ms/step - loss: 0.0053 - accuracy: 0.9987 - val_loss: 3.9039 - val_accuracy: 0.6579\n",
            "Epoch 6/30\n",
            "351/352 [============================>.] - ETA: 0s - loss: 0.0082 - accuracy: 0.9977\n",
            "Epoch 6: val_loss did not improve from 1.22212\n",
            "352/352 [==============================] - 13s 37ms/step - loss: 0.0082 - accuracy: 0.9977 - val_loss: 2.6302 - val_accuracy: 0.6029\n"
          ]
        }
      ],
      "source": [
        "hist = model.fit(\n",
        "    X_binary_train, y_binary_train, validation_data=[X_binary_valid, y_binary_valid],\n",
        "    epochs=30, batch_size=64, callbacks=[mc, es]\n",
        ")"
      ]
    },
    {
      "cell_type": "code",
      "execution_count": null,
      "metadata": {
        "id": "Wgx5v-nSTV3D",
        "colab": {
          "base_uri": "https://localhost:8080/"
        },
        "outputId": "cf403b68-f33b-4a5e-9a5f-683984b42982"
      },
      "outputs": [
        {
          "output_type": "stream",
          "name": "stdout",
          "text": [
            "73/73 [==============================] - 1s 5ms/step - loss: 0.8944 - accuracy: 0.6132\n"
          ]
        },
        {
          "output_type": "execute_result",
          "data": {
            "text/plain": [
              "[0.8944021463394165, 0.6131669282913208]"
            ]
          },
          "metadata": {},
          "execution_count": 31
        }
      ],
      "source": [
        "best_model = load_model(model_path)\n",
        "best_model.evaluate(X_binary_test, y_binary_test)"
      ]
    },
    {
      "cell_type": "markdown",
      "source": [
        "### 악플로 예측되는 데이터만을 가지고 악플 종류 분류"
      ],
      "metadata": {
        "id": "vdBEW_0I4Y7z"
      }
    },
    {
      "cell_type": "markdown",
      "source": [
        "#### 데이터 전처리"
      ],
      "metadata": {
        "id": "uBkV0A7sG5rE"
      }
    },
    {
      "cell_type": "code",
      "source": [
        "import re\n",
        "def unsmile_predict(model, new_sentence):\n",
        "  new_sentence = re.sub(r'[^ㄱ-ㅎㅏ-ㅣ가-힣 ]','', new_sentence)\n",
        "  new_sentence = okt.morphs(new_sentence, stem=True) # 토큰화\n",
        "  new_sentence = [word for word in new_sentence if not word in stopwords] # 불용어 제거\n",
        "  encoded = t.texts_to_sequences([new_sentence]) # 정수 인코딩\n",
        "  pad_new = pad_sequences(encoded, maxlen = max_len) # 패딩\n",
        "  predicted = model.predict(pad_new) # 예측\n",
        "\n",
        "  return predicted"
      ],
      "metadata": {
        "id": "uZdp30INBfIS"
      },
      "execution_count": null,
      "outputs": []
    },
    {
      "cell_type": "code",
      "execution_count": null,
      "metadata": {
        "id": "3UtPMGFjTV3D",
        "colab": {
          "base_uri": "https://localhost:8080/",
          "height": 49,
          "referenced_widgets": [
            "9a7c4d09a8c14e819056661757de0be3",
            "12cb8fe2aba74a09afcaae0c9ae39834",
            "a77e6ed468cd475aaefbe0e2d173ae12",
            "28168b16be7c4e5da48a92f122bcd010",
            "762663fb669747048309bac6f2cac639",
            "580a557a33f245659f64bb690139af3c",
            "d24c8152bd434ae092688d162cbd60b6",
            "b8c90e96a3cc4b518509263c0a238a2a",
            "cfed1da12f804cad84c4a89949a9520a",
            "782e6cfe43d44df9a67d874ba1d95edc",
            "578e272613fd45fd83918b095c8a0732"
          ]
        },
        "outputId": "b4d4dbb9-bdea-464a-81e8-818518cce694"
      },
      "outputs": [
        {
          "output_type": "display_data",
          "data": {
            "text/plain": [
              "  0%|          | 0/14981 [00:00<?, ?it/s]"
            ],
            "application/vnd.jupyter.widget-view+json": {
              "version_major": 2,
              "version_minor": 0,
              "model_id": "9a7c4d09a8c14e819056661757de0be3"
            }
          },
          "metadata": {}
        }
      ],
      "source": [
        "X_unsmile_train = []\n",
        "y_unsmile_train=[]\n",
        "for i in tqdm(range(len(train_df))):\n",
        "#for i in range(10000):\n",
        "  try:\n",
        "    if unsmile_predict(best_model, train_df.loc[i,'문장']) <= 0.5 :\n",
        "      X_unsmile_train.append(train_df.loc[i,'문장'])\n",
        "      y_unsmile_train.append(train_df.loc[i,['여성/가족', '남성', '성소수자', '인종/국적', '연령', '지역', '종교', '기타 혐오', '악플/욕설', '분쟁유발']])\n",
        "  except:\n",
        "    pass\n",
        "    "
      ]
    },
    {
      "cell_type": "code",
      "source": [
        "X_unsmile_train[:10]\n",
        "print(len(X_unsmile_train))"
      ],
      "metadata": {
        "colab": {
          "base_uri": "https://localhost:8080/"
        },
        "id": "k0SR7N3xLkxP",
        "outputId": "7feb8a7c-1822-4057-bf01-77fc356dba02"
      },
      "execution_count": null,
      "outputs": [
        {
          "output_type": "stream",
          "name": "stdout",
          "text": [
            "10613\n"
          ]
        }
      ]
    },
    {
      "cell_type": "code",
      "source": [
        "len(y_unsmile_train)"
      ],
      "metadata": {
        "colab": {
          "base_uri": "https://localhost:8080/"
        },
        "id": "qHijOME69zRE",
        "outputId": "f083b618-8afd-42b4-e3b1-c7d0537d57f0"
      },
      "execution_count": null,
      "outputs": [
        {
          "output_type": "execute_result",
          "data": {
            "text/plain": [
              "10613"
            ]
          },
          "metadata": {},
          "execution_count": 35
        }
      ]
    },
    {
      "cell_type": "markdown",
      "source": [
        "#### 데이터 증강"
      ],
      "metadata": {
        "id": "ZPsokopDxBvd"
      }
    },
    {
      "cell_type": "code",
      "source": [
        "# import random\n",
        "# import pickle\n",
        "# import re\n",
        "\n",
        "# wordnet = {}\n",
        "# with open(\"/content/drive/MyDrive/data/wordnet.pickle\", \"rb\") as f:\n",
        "# \twordnet = pickle.load(f)\n",
        "\n",
        "\n",
        "# # 한글만 남기고 나머지는 삭제\n",
        "# def get_only_hangul(line):\n",
        "# \tparseText= re.compile('/ ^[ㄱ-ㅎㅏ-ㅣ가-힣]*$/').sub('',line)\n",
        "\n",
        "# \treturn parseText\n",
        "\n",
        "\n",
        "\n",
        "# ########################################################################\n",
        "# # Synonym replacement\n",
        "# # Replace n words in the sentence with synonyms from wordnet\n",
        "# ########################################################################\n",
        "# def synonym_replacement(words, n):\n",
        "# \tnew_words = words.copy()\n",
        "# \trandom_word_list = list(set([word for word in words]))\n",
        "# \trandom.shuffle(random_word_list)\n",
        "# \tnum_replaced = 0\n",
        "# \tfor random_word in random_word_list:\n",
        "# \t\tsynonyms = get_synonyms(random_word)\n",
        "# \t\tif len(synonyms) >= 1:\n",
        "# \t\t\tsynonym = random.choice(list(synonyms))\n",
        "# \t\t\tnew_words = [synonym if word == random_word else word for word in new_words]\n",
        "# \t\t\tnum_replaced += 1\n",
        "# \t\tif num_replaced >= n:\n",
        "# \t\t\tbreak\n",
        "\n",
        "# \tif len(new_words) != 0:\n",
        "# \t\tsentence = ' '.join(new_words)\n",
        "# \t\tnew_words = sentence.split(\" \")\n",
        "\n",
        "# \telse:\n",
        "# \t\tnew_words = \"\"\n",
        "\n",
        "# \treturn new_words\n",
        "\n",
        "\n",
        "# def get_synonyms(word):\n",
        "# \tsynomyms = []\n",
        "\n",
        "# \ttry:\n",
        "# \t\tfor syn in wordnet[word]:\n",
        "# \t\t\tfor s in syn:\n",
        "# \t\t\t\tsynomyms.append(s)\n",
        "# \texcept:\n",
        "# \t\tpass\n",
        "\n",
        "# \treturn synomyms\n",
        "\n",
        "# ########################################################################\n",
        "# # Random deletion\n",
        "# # Randomly delete words from the sentence with probability p\n",
        "# ########################################################################\n",
        "# def random_deletion(words, p):\n",
        "# \tif len(words) == 1:\n",
        "# \t\treturn words\n",
        "\n",
        "# \tnew_words = []\n",
        "# \tfor word in words:\n",
        "# \t\tr = random.uniform(0, 1)\n",
        "# \t\tif r > p:\n",
        "# \t\t\tnew_words.append(word)\n",
        "\n",
        "# \tif len(new_words) == 0:\n",
        "# \t\trand_int = random.randint(0, len(words)-1)\n",
        "# \t\treturn [words[rand_int]]\n",
        "\n",
        "# \treturn new_words\n",
        "\n",
        "# ########################################################################\n",
        "# # Random swap\n",
        "# # Randomly swap two words in the sentence n times\n",
        "# ########################################################################\n",
        "# def random_swap(words, n):\n",
        "# \tnew_words = words.copy()\n",
        "# \tfor _ in range(n):\n",
        "# \t\tnew_words = swap_word(new_words)\n",
        "\n",
        "# \treturn new_words\n",
        "\n",
        "# def swap_word(new_words):\n",
        "# \trandom_idx_1 = random.randint(0, len(new_words)-1)\n",
        "# \trandom_idx_2 = random_idx_1\n",
        "# \tcounter = 0\n",
        "\n",
        "# \twhile random_idx_2 == random_idx_1:\n",
        "# \t\trandom_idx_2 = random.randint(0, len(new_words)-1)\n",
        "# \t\tcounter += 1\n",
        "# \t\tif counter > 3:\n",
        "# \t\t\treturn new_words\n",
        "\n",
        "# \tnew_words[random_idx_1], new_words[random_idx_2] = new_words[random_idx_2], new_words[random_idx_1]\n",
        "# \treturn new_words\n",
        "\n",
        "# ########################################################################\n",
        "# # Random insertion\n",
        "# # Randomly insert n words into the sentence\n",
        "# ########################################################################\n",
        "# def random_insertion(words, n):\n",
        "# \tnew_words = words.copy()\n",
        "# \tfor _ in range(n):\n",
        "# \t\tadd_word(new_words)\n",
        "\t\n",
        "# \treturn new_words\n",
        "\n",
        "\n",
        "# def add_word(new_words):\n",
        "# \tsynonyms = []\n",
        "# \tcounter = 0\n",
        "# \twhile len(synonyms) < 1:\n",
        "# \t\tif len(new_words) >= 1:\n",
        "# \t\t\trandom_word = new_words[random.randint(0, len(new_words)-1)]\n",
        "# \t\t\tsynonyms = get_synonyms(random_word)\n",
        "# \t\t\tcounter += 1\n",
        "# \t\telse:\n",
        "# \t\t\trandom_word = \"\"\n",
        "\n",
        "# \t\tif counter >= 10:\n",
        "# \t\t\treturn\n",
        "\t\t\n",
        "# \trandom_synonym = synonyms[0]\n",
        "# \trandom_idx = random.randint(0, len(new_words)-1)\n",
        "# \tnew_words.insert(random_idx, random_synonym)\n",
        "\n",
        "\n",
        "\n",
        "# def EDA(sentence, alpha_sr=0.1, alpha_ri=0.1, alpha_rs=0.1, p_rd=0.1, num_aug=9):\n",
        "# \tsentence = get_only_hangul(sentence)\n",
        "# \twords = sentence.split(' ')\n",
        "# \twords = [word for word in words if word is not \"\"]\n",
        "# \tnum_words = len(words)\n",
        "\n",
        "# \taugmented_sentences = []\n",
        "# \tnum_new_per_technique = int(num_aug/4) + 1\n",
        "\n",
        "# \tn_sr = max(1, int(alpha_sr*num_words))\n",
        "# \tn_ri = max(1, int(alpha_ri*num_words))\n",
        "# \tn_rs = max(1, int(alpha_rs*num_words))\n",
        "\n",
        "# \t# sr\n",
        "# \tfor _ in range(num_new_per_technique):\n",
        "# \t\ta_words = synonym_replacement(words, n_sr)\n",
        "# \t\taugmented_sentences.append(' '.join(a_words))\n",
        "\n",
        "# \t# ri\n",
        "# \tfor _ in range(num_new_per_technique):\n",
        "# \t\ta_words = random_insertion(words, n_ri)\n",
        "# \t\taugmented_sentences.append(' '.join(a_words))\n",
        "\n",
        "# \t# rs\n",
        "# \tfor _ in range(num_new_per_technique):\n",
        "# \t\ta_words = random_swap(words, n_rs)\n",
        "# \t\taugmented_sentences.append(\" \".join(a_words))\n",
        "\n",
        "# \t# rd\n",
        "# \tfor _ in range(num_new_per_technique):\n",
        "# \t\ta_words = random_deletion(words, p_rd)\n",
        "# \t\taugmented_sentences.append(\" \".join(a_words))\n",
        "\n",
        "# \taugmented_sentences = [get_only_hangul(sentence) for sentence in augmented_sentences]\n",
        "# \trandom.shuffle(augmented_sentences)\n",
        "\n",
        "# \tif num_aug >= 1:\n",
        "# \t\taugmented_sentences = augmented_sentences[:num_aug]\n",
        "# \telse:\n",
        "# \t\tkeep_prob = num_aug / len(augmented_sentences)\n",
        "# \t\taugmented_sentences = [s for s in augmented_sentences if random.uniform(0, 1) < keep_prob]\n",
        "\n",
        "# \taugmented_sentences.append(sentence)\n",
        "\n",
        "# \treturn augmented_sentences"
      ],
      "metadata": {
        "id": "c5Co02Na7X79"
      },
      "execution_count": null,
      "outputs": []
    },
    {
      "cell_type": "code",
      "source": [
        "# EDA_X_train = []\n",
        "# EDA_y_train = []\n",
        "# for i in tqdm(range(len(X_unsmile_train))):\n",
        "#   eda = EDA(X_unsmile_train[i])\n",
        "#   for s in eda:\n",
        "#     EDA_X_train.append(s)\n",
        "\n",
        "#   for _ in range(len(eda)):\n",
        "#     EDA_y_train.append(y_unsmile_train[i])"
      ],
      "metadata": {
        "id": "briOQKUe8-HE"
      },
      "execution_count": null,
      "outputs": []
    },
    {
      "cell_type": "markdown",
      "source": [
        "#### 형태소 분석기"
      ],
      "metadata": {
        "id": "GLNi0YIOJN0Y"
      }
    },
    {
      "cell_type": "code",
      "source": [
        "X_train = []\n",
        "for sentence in tqdm(X_unsmile_train):\n",
        "  morphs = okt.morphs(sentence, stem=True)\n",
        "  tmp_X = [word for word in morphs if word not in stopwords]\n",
        "  X_train.append(tmp_X)"
      ],
      "metadata": {
        "colab": {
          "base_uri": "https://localhost:8080/",
          "height": 49,
          "referenced_widgets": [
            "706925361e8f45389320da58d8f21756",
            "42a1c277f12b486bb0d0eb7901293f16",
            "8e9857fef1534e69b4b307c189dceb4c",
            "9d2914b58f934ed4a17ef5c111e1344b",
            "7bfb8e9132284628aed831e150c5f6a1",
            "2fc2fe83affa4d68a955baca58b5cd78",
            "28a0dff7e1594257ad4f810a250849d1",
            "d8795e38e812483696e251933d0237af",
            "d13bf532e2c74480ac66271d15ba805d",
            "fca444549b2a46b8bf86a39a1e9ca107",
            "fc1975b87d174aa880e843893d316c4b"
          ]
        },
        "outputId": "751e8f3b-7ff7-4551-e673-a954a9cdc8a1",
        "id": "CVt9VYddJDes"
      },
      "execution_count": null,
      "outputs": [
        {
          "output_type": "display_data",
          "data": {
            "text/plain": [
              "  0%|          | 0/10613 [00:00<?, ?it/s]"
            ],
            "application/vnd.jupyter.widget-view+json": {
              "version_major": 2,
              "version_minor": 0,
              "model_id": "706925361e8f45389320da58d8f21756"
            }
          },
          "metadata": {}
        }
      ]
    },
    {
      "cell_type": "code",
      "source": [
        "X_valid = []\n",
        "for sentence in tqdm(valid_df.문장):\n",
        "  morphs = okt.morphs(sentence)\n",
        "  tmp_X = [word for word in morphs if word not in stopwords]\n",
        "  X_valid.append(tmp_X)"
      ],
      "metadata": {
        "colab": {
          "base_uri": "https://localhost:8080/",
          "height": 49,
          "referenced_widgets": [
            "76e82aded4aa4efeaeb97cf7ee1a44ff",
            "6bb9c4b87faf4e1d8b64c53b316b0076",
            "aefb4425af334ae6893cb88697276d53",
            "4c573528785e4d55b16ecb537c9296c5",
            "adcd5929a42f4598abc948abef0c01f5",
            "addf802d3ede4be5828f88b0e5e06090",
            "a31669e77325481e82dfd18783840cb2",
            "0d5ed3601ab942f48c888a5a5c1c3466",
            "77765e86c48f4955bef680e63b654546",
            "1d93ad781038459a933ff32db5460306",
            "e3d05ace989540af88346f5b4de51f9b"
          ]
        },
        "id": "Vapf-PNrdgN9",
        "outputId": "acf7728a-0d7d-42b8-a80b-a2f5ed9afa00"
      },
      "execution_count": null,
      "outputs": [
        {
          "output_type": "display_data",
          "data": {
            "text/plain": [
              "  0%|          | 0/3730 [00:00<?, ?it/s]"
            ],
            "application/vnd.jupyter.widget-view+json": {
              "version_major": 2,
              "version_minor": 0,
              "model_id": "76e82aded4aa4efeaeb97cf7ee1a44ff"
            }
          },
          "metadata": {}
        }
      ]
    },
    {
      "cell_type": "code",
      "source": [
        "X_test = []\n",
        "for sentence in tqdm(test_df.문장):\n",
        "  morphs = okt.morphs(sentence, stem=True)\n",
        "  tmp_X = [word for word in morphs if word not in stopwords]\n",
        "  X_test.append(tmp_X)"
      ],
      "metadata": {
        "colab": {
          "base_uri": "https://localhost:8080/",
          "height": 49,
          "referenced_widgets": [
            "9fb5a1a64ac84179a072dd44982c0158",
            "6da07f084919443a9cb331f69aea63e7",
            "c6b6241a8c184087a45629ceaa47cf24",
            "73e507ed2b3d4881bddfd0998a2c975a",
            "7bb161514c2e47abb349fb0ee7e62b52",
            "b417d55fb2bb4c20b6bb819d8e6f1211",
            "0bee228388ce45968c71aea39e7fc3c2",
            "f2b405d682d04b8dbae739bb2df4e956",
            "ebad24f756484730adb1112c4374f95b",
            "8af8c8199f1447f886f7e877c5851c95",
            "02a67b5ce52144acbb1b231bdc6bb304"
          ]
        },
        "outputId": "014d3fe7-5d03-403a-a362-001f5c8dee39",
        "id": "S6q5iQTBJDes"
      },
      "execution_count": null,
      "outputs": [
        {
          "output_type": "display_data",
          "data": {
            "text/plain": [
              "  0%|          | 0/2324 [00:00<?, ?it/s]"
            ],
            "application/vnd.jupyter.widget-view+json": {
              "version_major": 2,
              "version_minor": 0,
              "model_id": "9fb5a1a64ac84179a072dd44982c0158"
            }
          },
          "metadata": {}
        }
      ]
    },
    {
      "cell_type": "code",
      "source": [
        "from tensorflow.keras.preprocessing.text import Tokenizer\n",
        "t = Tokenizer()\n",
        "t.fit_on_texts(X_train)\n",
        "\n",
        "threshold = 10\n",
        "total_cnt = len(t.word_index) # 단어의 수\n",
        "rare_cnt = 0 # 등장 빈도수가 threshold보다 작은 단어의 개수를 카운트\n",
        "total_freq = 0 # 훈련 데이터의 전체 단어 빈도수 총 합\n",
        "rare_freq = 0 # 등장 빈도수가 threshold보다 작은 단어의 등장 빈도수의 총 합\n",
        "\n",
        "# 단어와 빈도수의 쌍(pair)을 key와 value로 받는다.\n",
        "for key, value in t.word_counts.items():\n",
        "    total_freq = total_freq + value\n",
        "\n",
        "    # 단어의 등장 빈도수가 threshold보다 작으면\n",
        "    if(value < threshold):\n",
        "        rare_cnt = rare_cnt + 1\n",
        "        rare_freq = rare_freq + value\n",
        "\n",
        "print('단어 집합(vocabulary)의 크기 :',total_cnt)\n",
        "print('등장 빈도가 %s번 이하인 희귀 단어의 수: %s'%(threshold - 1, rare_cnt))\n",
        "print(\"단어 집합에서 희귀 단어의 비율:\", (rare_cnt / total_cnt)*100)\n",
        "print(\"전체 등장 빈도에서 희귀 단어 등장 빈도 비율:\", (rare_freq / total_freq)*100)"
      ],
      "metadata": {
        "colab": {
          "base_uri": "https://localhost:8080/"
        },
        "outputId": "f867fcf2-0fb7-481b-e00b-3616fca09f98",
        "id": "AgBLbXGNJDet"
      },
      "execution_count": null,
      "outputs": [
        {
          "output_type": "stream",
          "name": "stdout",
          "text": [
            "단어 집합(vocabulary)의 크기 : 14838\n",
            "등장 빈도가 9번 이하인 희귀 단어의 수: 12634\n",
            "단어 집합에서 희귀 단어의 비율: 85.14624612481467\n",
            "전체 등장 빈도에서 희귀 단어 등장 빈도 비율: 16.916309743989096\n"
          ]
        }
      ]
    },
    {
      "cell_type": "code",
      "source": [
        "# 토크나이저 저장\n",
        "# import joblib\n",
        "# joblib.dump(t, '/content/drive/MyDrive/data/unsmile_tokenizer.pkl')"
      ],
      "metadata": {
        "id": "KSuLhromZcun"
      },
      "execution_count": null,
      "outputs": []
    },
    {
      "cell_type": "code",
      "source": [
        "# 모든 단어를 사용하기로 결정\n",
        "vocab_size = total_cnt + 1\n",
        "print(vocab_size)"
      ],
      "metadata": {
        "id": "Vuu2o3EgJDeu",
        "colab": {
          "base_uri": "https://localhost:8080/"
        },
        "outputId": "6057d9d4-c7df-4019-d0d3-2c7ab74a1a5e"
      },
      "execution_count": null,
      "outputs": [
        {
          "output_type": "stream",
          "name": "stdout",
          "text": [
            "14839\n"
          ]
        }
      ]
    },
    {
      "cell_type": "code",
      "source": [
        "t = Tokenizer(num_words=vocab_size)\n",
        "t.fit_on_texts(X_train)\n",
        "X_unsmile_train = t.texts_to_sequences(X_train)\n",
        "X_unsmile_valid = t.texts_to_sequences(X_valid)\n",
        "X_unsmile_test = t.texts_to_sequences(X_test)\n",
        "\n",
        "y_unsmile_train = np.array(y_unsmile_train)\n",
        "y_unsmile_valid = np.array(valid_df[['여성/가족', '남성', '성소수자', '인종/국적', '연령', '지역', '종교', '기타 혐오', '악플/욕설', '분쟁유발']])\n",
        "y_unsmile_test = np.array(test_df[['여성/가족', '남성', '성소수자', '인종/국적', '연령', '지역', '종교', '기타 혐오', '악플/욕설', '분쟁유발']])\n",
        "\n",
        "y_unsmile_train.shape, y_unsmile_valid.shape, y_unsmile_test.shape"
      ],
      "metadata": {
        "id": "EtXAPxMvJDeu",
        "colab": {
          "base_uri": "https://localhost:8080/"
        },
        "outputId": "090d1dd5-a9ba-4745-bdbd-db0c5f087d29"
      },
      "execution_count": null,
      "outputs": [
        {
          "output_type": "execute_result",
          "data": {
            "text/plain": [
              "((10613, 10), (3730, 10), (2324, 10))"
            ]
          },
          "metadata": {},
          "execution_count": 44
        }
      ]
    },
    {
      "cell_type": "code",
      "source": [
        "# 빈 샘플들을 제거\n",
        "drop_train = [index for index, sentence in enumerate(X_train) if len(sentence) < 1]\n",
        "X_unsmile_train = np.delete(X_unsmile_train, drop_train, axis=0)\n",
        "y_unsmile_train = np.delete(y_unsmile_train, drop_train, axis=0)\n",
        "print(len(X_unsmile_train))\n",
        "print(len(y_unsmile_train))"
      ],
      "metadata": {
        "id": "xbLUtgxnJDev",
        "colab": {
          "base_uri": "https://localhost:8080/"
        },
        "outputId": "8787facd-4dee-409a-fe7e-71fe748a6564"
      },
      "execution_count": null,
      "outputs": [
        {
          "output_type": "stream",
          "name": "stdout",
          "text": [
            "10613\n",
            "10613\n"
          ]
        }
      ]
    },
    {
      "cell_type": "markdown",
      "source": [
        "#### 패딩"
      ],
      "metadata": {
        "id": "-f4YmFNdVt-D"
      }
    },
    {
      "cell_type": "code",
      "source": [
        "import matplotlib.pyplot as plt\n",
        "print('리뷰의 최대 길이_Okt ver :',max(len(review) for review in X_unsmile_train))\n",
        "print('리뷰의 평균 길이_Okt ver :',sum(map(len, X_unsmile_train))/len(X_unsmile_train))\n",
        "plt.hist([len(review) for review in X_unsmile_train], bins=50)\n",
        "plt.xlabel('length of samples')\n",
        "plt.ylabel('number of samples')\n",
        "plt.show()"
      ],
      "metadata": {
        "id": "N2bo-tVmVt-R",
        "colab": {
          "base_uri": "https://localhost:8080/",
          "height": 317
        },
        "outputId": "3a2bda1c-6b3d-49b9-d6ab-538a0b3ab88c"
      },
      "execution_count": null,
      "outputs": [
        {
          "output_type": "stream",
          "name": "stdout",
          "text": [
            "리뷰의 최대 길이_Okt ver : 77\n",
            "리뷰의 평균 길이_Okt ver : 15.487421087345709\n"
          ]
        },
        {
          "output_type": "display_data",
          "data": {
            "text/plain": [
              "<Figure size 432x288 with 1 Axes>"
            ],
            "image/png": "[encoded data removed]"
          },
          "metadata": {
            "needs_background": "light"
          }
        }
      ]
    },
    {
      "cell_type": "code",
      "source": [
        "def below_threshold_len(max_len, nested_list):\n",
        "  count = 0\n",
        "  for sentence in nested_list:\n",
        "    if(len(sentence) <= max_len):\n",
        "        count = count + 1\n",
        "  print('전체 샘플 중 길이가 %s 이하인 샘플의 비율: %s'%(max_len, (count / len(nested_list))*100))"
      ],
      "metadata": {
        "id": "Wq4cjCp2Vt-R"
      },
      "execution_count": null,
      "outputs": []
    },
    {
      "cell_type": "code",
      "source": [
        "max_len = 30\n",
        "below_threshold_len(max_len, X_unsmile_train)"
      ],
      "metadata": {
        "id": "4G5nI4tDVt-S",
        "colab": {
          "base_uri": "https://localhost:8080/"
        },
        "outputId": "fe9e5db9-9177-429c-a15a-f17f01ffcd05"
      },
      "execution_count": null,
      "outputs": [
        {
          "output_type": "stream",
          "name": "stdout",
          "text": [
            "전체 샘플 중 길이가 30 이하인 샘플의 비율: 90.50221426552342\n"
          ]
        }
      ]
    },
    {
      "cell_type": "code",
      "source": [
        "from tensorflow.keras.preprocessing.sequence import pad_sequences\n",
        "X_unsmile_train = pad_sequences(X_unsmile_train, maxlen=max_len)\n",
        "X_unsmile_valid = pad_sequences(X_unsmile_valid, maxlen=max_len)\n",
        "X_unsmile_test = pad_sequences(X_unsmile_test, maxlen=max_len)\n",
        "X_unsmile_train.shape, X_unsmile_valid.shape, X_unsmile_test.shape"
      ],
      "metadata": {
        "id": "FJ3D7B66Vt-S",
        "colab": {
          "base_uri": "https://localhost:8080/"
        },
        "outputId": "eea0b0d1-fc2d-4dbc-9063-757795a9f365"
      },
      "execution_count": null,
      "outputs": [
        {
          "output_type": "execute_result",
          "data": {
            "text/plain": [
              "((10613, 30), (3730, 30), (2324, 30))"
            ]
          },
          "metadata": {},
          "execution_count": 49
        }
      ]
    },
    {
      "cell_type": "markdown",
      "source": [
        "#### 모델 생성 및 분류하기"
      ],
      "metadata": {
        "id": "6GbRs5vvkqRu"
      }
    },
    {
      "cell_type": "markdown",
      "source": [
        "- LSTM"
      ],
      "metadata": {
        "id": "167RvTy83Rz5"
      }
    },
    {
      "cell_type": "code",
      "source": [
        "from tensorflow.keras.layers import Embedding, Dense, LSTM, Conv1D\n",
        "from tensorflow.keras.models import Sequential, load_model\n",
        "from tensorflow.keras.callbacks import EarlyStopping, ModelCheckpoint"
      ],
      "metadata": {
        "id": "piYYKjMRkUF3"
      },
      "execution_count": null,
      "outputs": []
    },
    {
      "cell_type": "code",
      "source": [
        "model1 = Sequential([ \n",
        "    Embedding(vocab_size, 128, input_length=max_len),\n",
        "    LSTM(128),\n",
        "    Dense(10, activation='softmax')\n",
        "])\n",
        "model1.summary()"
      ],
      "metadata": {
        "id": "k1_luYv8k1zK",
        "colab": {
          "base_uri": "https://localhost:8080/"
        },
        "outputId": "e2315074-575f-4f5e-ab7a-4e72e58de921"
      },
      "execution_count": null,
      "outputs": [
        {
          "output_type": "stream",
          "name": "stdout",
          "text": [
            "Model: \"sequential_1\"\n",
            "_________________________________________________________________\n",
            " Layer (type)                Output Shape              Param #   \n",
            "=================================================================\n",
            " embedding_1 (Embedding)     (None, 30, 128)           1899392   \n",
            "                                                                 \n",
            " lstm (LSTM)                 (None, 128)               131584    \n",
            "                                                                 \n",
            " dense_1 (Dense)             (None, 10)                1290      \n",
            "                                                                 \n",
            "=================================================================\n",
            "Total params: 2,032,266\n",
            "Trainable params: 2,032,266\n",
            "Non-trainable params: 0\n",
            "_________________________________________________________________\n"
          ]
        }
      ]
    },
    {
      "cell_type": "code",
      "source": [
        "model1.compile('adam', 'categorical_crossentropy', ['accuracy'])\n",
        "model1_path = 'unsmile_lstm.h5'\n",
        "mc1 = ModelCheckpoint(model1_path, verbose=1, save_best_only=True)\n",
        "es1 = EarlyStopping(patience=5)"
      ],
      "metadata": {
        "id": "FoKMwaPmKi8M"
      },
      "execution_count": null,
      "outputs": []
    },
    {
      "cell_type": "code",
      "source": [
        "X_unsmile_train = np.asarray(X_unsmile_train).astype(np.float32)\n",
        "y_unsmile_train = np.asarray(y_unsmile_train).astype(np.float32)"
      ],
      "metadata": {
        "id": "VEpZJtY-p85x"
      },
      "execution_count": null,
      "outputs": []
    },
    {
      "cell_type": "code",
      "source": [
        "hist1 = model1.fit(\n",
        "    X_unsmile_train, y_unsmile_train, validation_data=[X_unsmile_valid, y_unsmile_valid],\n",
        "    epochs=100, batch_size=64, callbacks=[mc1, es1]\n",
        ")"
      ],
      "metadata": {
        "id": "KkGjNxGlKkIf",
        "colab": {
          "base_uri": "https://localhost:8080/"
        },
        "outputId": "cc4c1f91-7dc3-4bfc-dc58-2da9c0814b90"
      },
      "execution_count": null,
      "outputs": [
        {
          "output_type": "stream",
          "name": "stdout",
          "text": [
            "Epoch 1/100\n",
            "159/166 [===========================>..] - ETA: 0s - loss: 2.1781 - accuracy: 0.2597\n",
            "Epoch 1: val_loss improved from inf to 1.94859, saving model to unsmile_lstm.h5\n",
            "166/166 [==============================] - 7s 14ms/step - loss: 2.1609 - accuracy: 0.2666 - val_loss: 1.9486 - val_accuracy: 0.1853\n",
            "Epoch 2/100\n",
            "162/166 [============================>.] - ETA: 0s - loss: 1.3310 - accuracy: 0.6222\n",
            "Epoch 2: val_loss did not improve from 1.94859\n",
            "166/166 [==============================] - 1s 9ms/step - loss: 1.3285 - accuracy: 0.6238 - val_loss: 2.5260 - val_accuracy: 0.1802\n",
            "Epoch 3/100\n",
            "159/166 [===========================>..] - ETA: 0s - loss: 0.8974 - accuracy: 0.7734\n",
            "Epoch 3: val_loss did not improve from 1.94859\n",
            "166/166 [==============================] - 1s 8ms/step - loss: 0.8968 - accuracy: 0.7742 - val_loss: 3.0190 - val_accuracy: 0.1780\n",
            "Epoch 4/100\n",
            "166/166 [==============================] - ETA: 0s - loss: 0.7368 - accuracy: 0.8127\n",
            "Epoch 4: val_loss did not improve from 1.94859\n",
            "166/166 [==============================] - 2s 10ms/step - loss: 0.7368 - accuracy: 0.8127 - val_loss: 3.4002 - val_accuracy: 0.1842\n",
            "Epoch 5/100\n",
            "163/166 [============================>.] - ETA: 0s - loss: 0.6658 - accuracy: 0.8378\n",
            "Epoch 5: val_loss did not improve from 1.94859\n",
            "166/166 [==============================] - 2s 13ms/step - loss: 0.6658 - accuracy: 0.8382 - val_loss: 3.7948 - val_accuracy: 0.1694\n",
            "Epoch 6/100\n",
            "165/166 [============================>.] - ETA: 0s - loss: 0.6621 - accuracy: 0.8413\n",
            "Epoch 6: val_loss did not improve from 1.94859\n",
            "166/166 [==============================] - 2s 13ms/step - loss: 0.6621 - accuracy: 0.8411 - val_loss: 4.0784 - val_accuracy: 0.1855\n"
          ]
        }
      ]
    },
    {
      "cell_type": "code",
      "source": [
        "X_unsmile_test = np.asarray(X_unsmile_test).astype(np.float32)\n",
        "y_unsmile_test = np.asarray(y_unsmile_test).astype(np.float32)"
      ],
      "metadata": {
        "id": "Wf9Kw9XnqLGD"
      },
      "execution_count": null,
      "outputs": []
    },
    {
      "cell_type": "code",
      "source": [
        "best_model1 = load_model(model1_path)\n",
        "loss1, acc1 = best_model1.evaluate(X_unsmile_test, y_unsmile_test)\n",
        "loss1, acc1"
      ],
      "metadata": {
        "id": "kRtGXU-oKljU",
        "colab": {
          "base_uri": "https://localhost:8080/"
        },
        "outputId": "afc129ce-076b-4163-e881-dbe9ed826baa"
      },
      "execution_count": null,
      "outputs": [
        {
          "output_type": "stream",
          "name": "stdout",
          "text": [
            "73/73 [==============================] - 1s 6ms/step - loss: 2.3743 - accuracy: 0.4350\n"
          ]
        },
        {
          "output_type": "execute_result",
          "data": {
            "text/plain": [
              "(2.3742728233337402, 0.43502581119537354)"
            ]
          },
          "metadata": {},
          "execution_count": 56
        }
      ]
    },
    {
      "cell_type": "markdown",
      "source": [
        "- Conv1D + LSTM"
      ],
      "metadata": {
        "id": "nU9GU_yfHegL"
      }
    },
    {
      "cell_type": "code",
      "source": [
        "from keras.layers import Flatten, Dropout\n",
        "from keras.layers import Conv1D, MaxPooling1D"
      ],
      "metadata": {
        "id": "YeDaFL9bHgUN"
      },
      "execution_count": null,
      "outputs": []
    },
    {
      "cell_type": "code",
      "source": [
        "model2 = Sequential([\n",
        "    Embedding(vocab_size, 128, input_length=max_len),\n",
        "    Dropout(0.2),\n",
        "    Conv1D(256, 3, padding='valid', activation='relu', strides=1),\n",
        "    MaxPooling1D(pool_size=4),\n",
        "    LSTM(128),\n",
        "    Dense(10, activation='softmax')\n",
        "])\n",
        "model2.summary()"
      ],
      "metadata": {
        "id": "XUSGUWz1Jnw9",
        "colab": {
          "base_uri": "https://localhost:8080/"
        },
        "outputId": "a3fa0e24-4a55-4715-99f3-3cde4509d66f"
      },
      "execution_count": null,
      "outputs": [
        {
          "output_type": "stream",
          "name": "stdout",
          "text": [
            "Model: \"sequential_2\"\n",
            "_________________________________________________________________\n",
            " Layer (type)                Output Shape              Param #   \n",
            "=================================================================\n",
            " embedding_2 (Embedding)     (None, 30, 128)           1899392   \n",
            "                                                                 \n",
            " dropout (Dropout)           (None, 30, 128)           0         \n",
            "                                                                 \n",
            " conv1d (Conv1D)             (None, 28, 256)           98560     \n",
            "                                                                 \n",
            " max_pooling1d (MaxPooling1D  (None, 7, 256)           0         \n",
            " )                                                               \n",
            "                                                                 \n",
            " lstm_1 (LSTM)               (None, 128)               197120    \n",
            "                                                                 \n",
            " dense_2 (Dense)             (None, 10)                1290      \n",
            "                                                                 \n",
            "=================================================================\n",
            "Total params: 2,196,362\n",
            "Trainable params: 2,196,362\n",
            "Non-trainable params: 0\n",
            "_________________________________________________________________\n"
          ]
        }
      ]
    },
    {
      "cell_type": "code",
      "source": [
        "model2.compile('adam', 'categorical_crossentropy', ['accuracy'])\n",
        "model2_path = 'unsmile_conv1d_lstm.h5'\n",
        "mc2 = ModelCheckpoint(model2_path, verbose=1, save_best_only=True)\n",
        "es2 = EarlyStopping(patience=5)"
      ],
      "metadata": {
        "id": "Owgdikn8LHhE"
      },
      "execution_count": null,
      "outputs": []
    },
    {
      "cell_type": "code",
      "source": [
        "hist2 = model2.fit(\n",
        "    X_unsmile_train, y_unsmile_train, validation_data=[X_unsmile_valid, y_unsmile_valid],\n",
        "    epochs=100, batch_size=64, callbacks=[mc2, es2]\n",
        ")"
      ],
      "metadata": {
        "id": "UY3WLuHyLO74",
        "colab": {
          "base_uri": "https://localhost:8080/"
        },
        "outputId": "8487228a-ebd3-4581-a4d2-2b4f33823427"
      },
      "execution_count": null,
      "outputs": [
        {
          "output_type": "stream",
          "name": "stdout",
          "text": [
            "Epoch 1/100\n",
            "166/166 [==============================] - ETA: 0s - loss: 1.9665 - accuracy: 0.3741\n",
            "Epoch 1: val_loss improved from inf to 2.37189, saving model to unsmile_conv1d_lstm.h5\n",
            "166/166 [==============================] - 13s 13ms/step - loss: 1.9665 - accuracy: 0.3741 - val_loss: 2.3719 - val_accuracy: 0.1936\n",
            "Epoch 2/100\n",
            "159/166 [===========================>..] - ETA: 0s - loss: 0.9819 - accuracy: 0.7438\n",
            "Epoch 2: val_loss did not improve from 2.37189\n",
            "166/166 [==============================] - 1s 8ms/step - loss: 0.9773 - accuracy: 0.7443 - val_loss: 3.0019 - val_accuracy: 0.1866\n",
            "Epoch 3/100\n",
            "165/166 [============================>.] - ETA: 0s - loss: 0.6923 - accuracy: 0.8214\n",
            "Epoch 3: val_loss did not improve from 2.37189\n",
            "166/166 [==============================] - 1s 7ms/step - loss: 0.6935 - accuracy: 0.8213 - val_loss: 3.5599 - val_accuracy: 0.1845\n",
            "Epoch 4/100\n",
            "161/166 [============================>.] - ETA: 0s - loss: 0.5461 - accuracy: 0.8601\n",
            "Epoch 4: val_loss did not improve from 2.37189\n",
            "166/166 [==============================] - 1s 7ms/step - loss: 0.5458 - accuracy: 0.8594 - val_loss: 3.9232 - val_accuracy: 0.1724\n",
            "Epoch 5/100\n",
            "165/166 [============================>.] - ETA: 0s - loss: 0.4827 - accuracy: 0.8711\n",
            "Epoch 5: val_loss did not improve from 2.37189\n",
            "166/166 [==============================] - 1s 8ms/step - loss: 0.4819 - accuracy: 0.8712 - val_loss: 4.2114 - val_accuracy: 0.1767\n",
            "Epoch 6/100\n",
            "158/166 [===========================>..] - ETA: 0s - loss: 0.4338 - accuracy: 0.8819\n",
            "Epoch 6: val_loss did not improve from 2.37189\n",
            "166/166 [==============================] - 1s 9ms/step - loss: 0.4337 - accuracy: 0.8823 - val_loss: 4.6008 - val_accuracy: 0.1735\n"
          ]
        }
      ]
    },
    {
      "cell_type": "code",
      "source": [
        "best_model2 = load_model(model2_path)\n",
        "loss2, acc2 = best_model2.evaluate(X_unsmile_test, y_unsmile_test)\n",
        "loss2, acc2"
      ],
      "metadata": {
        "id": "vHAKiPwdLSdV",
        "colab": {
          "base_uri": "https://localhost:8080/"
        },
        "outputId": "d3ed862b-2e61-489c-930d-106f07381335"
      },
      "execution_count": null,
      "outputs": [
        {
          "output_type": "stream",
          "name": "stdout",
          "text": [
            "73/73 [==============================] - 1s 3ms/step - loss: 1.9275 - accuracy: 0.4918\n"
          ]
        },
        {
          "output_type": "execute_result",
          "data": {
            "text/plain": [
              "(1.9274927377700806, 0.4918244481086731)"
            ]
          },
          "metadata": {},
          "execution_count": 61
        }
      ]
    },
    {
      "cell_type": "markdown",
      "source": [
        "- BiLSTM\n",
        "  - Embedding Layer\n",
        "  - Bidirectional LSTM (Dropout: 10%)\n",
        "  - 1-Dimension Global Max Pooling\n",
        "  - 1-Dimension Fully Connected Layer\n",
        "  - Sigmoid Activation"
      ],
      "metadata": {
        "id": "AOHZI8kKHp4F"
      }
    },
    {
      "cell_type": "code",
      "source": [
        "from tensorflow.keras.layers import Bidirectional, GlobalMaxPooling1D"
      ],
      "metadata": {
        "id": "NEf__cMw5-d5"
      },
      "execution_count": null,
      "outputs": []
    },
    {
      "cell_type": "code",
      "source": [
        "model3 = Sequential([\n",
        "    Embedding(vocab_size, 128, input_length=max_len),\n",
        "    Bidirectional(LSTM(128, return_sequences=True)),\n",
        "    GlobalMaxPooling1D(),\n",
        "    Dense(10, activation='softmax')\n",
        "])\n",
        "\n",
        "model3.summary()"
      ],
      "metadata": {
        "id": "qO1Mx76YHsFh",
        "colab": {
          "base_uri": "https://localhost:8080/"
        },
        "outputId": "70165c19-f6a6-465c-9eb9-8a8679199462"
      },
      "execution_count": null,
      "outputs": [
        {
          "output_type": "stream",
          "name": "stdout",
          "text": [
            "Model: \"sequential_3\"\n",
            "_________________________________________________________________\n",
            " Layer (type)                Output Shape              Param #   \n",
            "=================================================================\n",
            " embedding_3 (Embedding)     (None, 30, 128)           1899392   \n",
            "                                                                 \n",
            " bidirectional (Bidirectiona  (None, 30, 256)          263168    \n",
            " l)                                                              \n",
            "                                                                 \n",
            " global_max_pooling1d (Globa  (None, 256)              0         \n",
            " lMaxPooling1D)                                                  \n",
            "                                                                 \n",
            " dense_3 (Dense)             (None, 10)                2570      \n",
            "                                                                 \n",
            "=================================================================\n",
            "Total params: 2,165,130\n",
            "Trainable params: 2,165,130\n",
            "Non-trainable params: 0\n",
            "_________________________________________________________________\n"
          ]
        }
      ]
    },
    {
      "cell_type": "code",
      "source": [
        "model3.compile('adam', 'categorical_crossentropy', ['accuracy'])\n",
        "model3_path = 'unsmile_bilstm.h5'\n",
        "mc3 = ModelCheckpoint(model3_path, verbose=1, save_best_only=True)\n",
        "es3 = EarlyStopping(patience=5)"
      ],
      "metadata": {
        "id": "e3-PJpa_B1Pq"
      },
      "execution_count": null,
      "outputs": []
    },
    {
      "cell_type": "code",
      "source": [
        "hist3 = model3.fit(\n",
        "    X_unsmile_train, y_unsmile_train, validation_data=[X_unsmile_valid, y_unsmile_valid],\n",
        "    epochs=100, batch_size=64, callbacks=[mc3, es3]\n",
        ")"
      ],
      "metadata": {
        "id": "o7iTOhGQB374",
        "colab": {
          "base_uri": "https://localhost:8080/"
        },
        "outputId": "776c1888-7461-4a5d-e8c8-cf52a8a34f67"
      },
      "execution_count": null,
      "outputs": [
        {
          "output_type": "stream",
          "name": "stdout",
          "text": [
            "Epoch 1/100\n",
            "162/166 [============================>.] - ETA: 0s - loss: 2.1132 - accuracy: 0.2987\n",
            "Epoch 1: val_loss improved from inf to 2.05759, saving model to unsmile_bilstm.h5\n",
            "166/166 [==============================] - 8s 26ms/step - loss: 2.0980 - accuracy: 0.3043 - val_loss: 2.0576 - val_accuracy: 0.1828\n",
            "Epoch 2/100\n",
            "162/166 [============================>.] - ETA: 0s - loss: 1.0998 - accuracy: 0.6993\n",
            "Epoch 2: val_loss did not improve from 2.05759\n",
            "166/166 [==============================] - 2s 11ms/step - loss: 1.0953 - accuracy: 0.7001 - val_loss: 2.8201 - val_accuracy: 0.1863\n",
            "Epoch 3/100\n",
            "161/166 [============================>.] - ETA: 0s - loss: 0.7935 - accuracy: 0.7945\n",
            "Epoch 3: val_loss did not improve from 2.05759\n",
            "166/166 [==============================] - 2s 11ms/step - loss: 0.7939 - accuracy: 0.7940 - val_loss: 3.1256 - val_accuracy: 0.1786\n",
            "Epoch 4/100\n",
            "164/166 [============================>.] - ETA: 0s - loss: 0.6962 - accuracy: 0.8150\n",
            "Epoch 4: val_loss did not improve from 2.05759\n",
            "166/166 [==============================] - 2s 12ms/step - loss: 0.6968 - accuracy: 0.8153 - val_loss: 3.7553 - val_accuracy: 0.1753\n",
            "Epoch 5/100\n",
            "166/166 [==============================] - ETA: 0s - loss: 0.6238 - accuracy: 0.8358\n",
            "Epoch 5: val_loss did not improve from 2.05759\n",
            "166/166 [==============================] - 2s 12ms/step - loss: 0.6238 - accuracy: 0.8358 - val_loss: 4.2768 - val_accuracy: 0.1748\n",
            "Epoch 6/100\n",
            "161/166 [============================>.] - ETA: 0s - loss: 0.6221 - accuracy: 0.8337\n",
            "Epoch 6: val_loss did not improve from 2.05759\n",
            "166/166 [==============================] - 2s 12ms/step - loss: 0.6194 - accuracy: 0.8335 - val_loss: 4.6442 - val_accuracy: 0.1780\n"
          ]
        }
      ]
    },
    {
      "cell_type": "code",
      "source": [
        "best_model3 = load_model(model3_path)\n",
        "loss3, acc3 = best_model3.evaluate(X_unsmile_test, y_unsmile_test)\n",
        "loss3, acc3"
      ],
      "metadata": {
        "id": "rtK57BNTDayB",
        "colab": {
          "base_uri": "https://localhost:8080/"
        },
        "outputId": "723014e5-2130-460e-f72d-182202a8c260"
      },
      "execution_count": null,
      "outputs": [
        {
          "output_type": "stream",
          "name": "stdout",
          "text": [
            "73/73 [==============================] - 1s 5ms/step - loss: 2.2269 - accuracy: 0.4880\n"
          ]
        },
        {
          "output_type": "execute_result",
          "data": {
            "text/plain": [
              "(2.2268686294555664, 0.4879518151283264)"
            ]
          },
          "metadata": {},
          "execution_count": 66
        }
      ]
    },
    {
      "cell_type": "markdown",
      "source": [
        "- Conv1D + BiLSTM"
      ],
      "metadata": {
        "id": "uDqVNtZ_Hsi3"
      }
    },
    {
      "cell_type": "code",
      "source": [
        "model4 = Sequential([                 \n",
        "                     \n",
        "    Embedding(vocab_size, 128, input_length=max_len),\n",
        "    Dropout(0.2),\n",
        "    Conv1D(256, 3, padding='valid', activation='relu', strides=1),\n",
        "    MaxPooling1D(pool_size=4),\n",
        "    Bidirectional(LSTM(128, return_sequences=True)),\n",
        "    GlobalMaxPooling1D(),\n",
        "    Dense(10, activation='softmax')\n",
        "])\n",
        "\n",
        "model4.summary()"
      ],
      "metadata": {
        "id": "obaZIa5QgELF",
        "colab": {
          "base_uri": "https://localhost:8080/"
        },
        "outputId": "7e81880a-c1d8-4f83-a836-356e03e530ea"
      },
      "execution_count": null,
      "outputs": [
        {
          "output_type": "stream",
          "name": "stdout",
          "text": [
            "Model: \"sequential_4\"\n",
            "_________________________________________________________________\n",
            " Layer (type)                Output Shape              Param #   \n",
            "=================================================================\n",
            " embedding_4 (Embedding)     (None, 30, 128)           1899392   \n",
            "                                                                 \n",
            " dropout_1 (Dropout)         (None, 30, 128)           0         \n",
            "                                                                 \n",
            " conv1d_1 (Conv1D)           (None, 28, 256)           98560     \n",
            "                                                                 \n",
            " max_pooling1d_1 (MaxPooling  (None, 7, 256)           0         \n",
            " 1D)                                                             \n",
            "                                                                 \n",
            " bidirectional_1 (Bidirectio  (None, 7, 256)           394240    \n",
            " nal)                                                            \n",
            "                                                                 \n",
            " global_max_pooling1d_1 (Glo  (None, 256)              0         \n",
            " balMaxPooling1D)                                                \n",
            "                                                                 \n",
            " dense_4 (Dense)             (None, 10)                2570      \n",
            "                                                                 \n",
            "=================================================================\n",
            "Total params: 2,394,762\n",
            "Trainable params: 2,394,762\n",
            "Non-trainable params: 0\n",
            "_________________________________________________________________\n"
          ]
        }
      ]
    },
    {
      "cell_type": "code",
      "source": [
        "model4.compile('adam', 'categorical_crossentropy', ['accuracy'])\n",
        "model4_path = 'unsmile_conv1d_bilstm.h5'\n",
        "mc4 = ModelCheckpoint(model4_path, verbose=1, save_best_only=True)\n",
        "es4 = EarlyStopping(patience=5)"
      ],
      "metadata": {
        "id": "TS36CKehgELG"
      },
      "execution_count": null,
      "outputs": []
    },
    {
      "cell_type": "code",
      "source": [
        "hist4 = model4.fit(\n",
        "    X_unsmile_train, y_unsmile_train, validation_data=[X_unsmile_valid, y_unsmile_valid],\n",
        "    epochs=100, batch_size=64, callbacks=[mc4, es4]\n",
        ")"
      ],
      "metadata": {
        "id": "8gzTJbSYgELG",
        "colab": {
          "base_uri": "https://localhost:8080/"
        },
        "outputId": "b6c076f1-0029-4f2b-b190-d93518606b67"
      },
      "execution_count": null,
      "outputs": [
        {
          "output_type": "stream",
          "name": "stdout",
          "text": [
            "Epoch 1/100\n",
            "166/166 [==============================] - ETA: 0s - loss: 2.0968 - accuracy: 0.3008\n",
            "Epoch 1: val_loss improved from inf to 2.17660, saving model to unsmile_conv1d_bilstm.h5\n",
            "166/166 [==============================] - 8s 24ms/step - loss: 2.0968 - accuracy: 0.3008 - val_loss: 2.1766 - val_accuracy: 0.2011\n",
            "Epoch 2/100\n",
            "165/166 [============================>.] - ETA: 0s - loss: 1.1577 - accuracy: 0.6922\n",
            "Epoch 2: val_loss did not improve from 2.17660\n",
            "166/166 [==============================] - 2s 10ms/step - loss: 1.1552 - accuracy: 0.6925 - val_loss: 2.8494 - val_accuracy: 0.1925\n",
            "Epoch 3/100\n",
            "163/166 [============================>.] - ETA: 0s - loss: 0.7974 - accuracy: 0.7936\n",
            "Epoch 3: val_loss did not improve from 2.17660\n",
            "166/166 [==============================] - 2s 10ms/step - loss: 0.7947 - accuracy: 0.7936 - val_loss: 3.3434 - val_accuracy: 0.1727\n",
            "Epoch 4/100\n",
            "163/166 [============================>.] - ETA: 0s - loss: 0.6663 - accuracy: 0.8279\n",
            "Epoch 4: val_loss did not improve from 2.17660\n",
            "166/166 [==============================] - 2s 10ms/step - loss: 0.6658 - accuracy: 0.8282 - val_loss: 3.4379 - val_accuracy: 0.1834\n",
            "Epoch 5/100\n",
            "166/166 [==============================] - ETA: 0s - loss: 0.5994 - accuracy: 0.8411\n",
            "Epoch 5: val_loss did not improve from 2.17660\n",
            "166/166 [==============================] - 2s 10ms/step - loss: 0.5994 - accuracy: 0.8411 - val_loss: 4.0554 - val_accuracy: 0.1735\n",
            "Epoch 6/100\n",
            "163/166 [============================>.] - ETA: 0s - loss: 0.5292 - accuracy: 0.8595\n",
            "Epoch 6: val_loss did not improve from 2.17660\n",
            "166/166 [==============================] - 2s 10ms/step - loss: 0.5311 - accuracy: 0.8596 - val_loss: 4.7729 - val_accuracy: 0.1756\n"
          ]
        }
      ]
    },
    {
      "cell_type": "code",
      "source": [
        "best_model4 = load_model(model4_path)\n",
        "loss4, acc4 = best_model4.evaluate(X_unsmile_test, y_unsmile_test)\n",
        "loss4, acc4"
      ],
      "metadata": {
        "id": "FJ4DPRvvgELG",
        "colab": {
          "base_uri": "https://localhost:8080/"
        },
        "outputId": "31d8ef1e-f477-4c97-cc84-d70d9baf3699"
      },
      "execution_count": null,
      "outputs": [
        {
          "output_type": "stream",
          "name": "stdout",
          "text": [
            "73/73 [==============================] - 1s 4ms/step - loss: 2.5488 - accuracy: 0.5000\n"
          ]
        },
        {
          "output_type": "execute_result",
          "data": {
            "text/plain": [
              "(2.5487771034240723, 0.5)"
            ]
          },
          "metadata": {},
          "execution_count": 70
        }
      ]
    },
    {
      "cell_type": "markdown",
      "source": [
        "- GRU"
      ],
      "metadata": {
        "id": "Hy_wfp7NgKhU"
      }
    },
    {
      "cell_type": "code",
      "source": [
        "from tensorflow.keras.layers import GRU"
      ],
      "metadata": {
        "id": "MF2APyrjEWJj"
      },
      "execution_count": null,
      "outputs": []
    },
    {
      "cell_type": "code",
      "source": [
        "model5 = Sequential([ \n",
        "    Embedding(vocab_size, 128, input_length=max_len),\n",
        "    GRU(128),\n",
        "    Dense(10, activation='softmax')\n",
        "])\n",
        "model5.summary()"
      ],
      "metadata": {
        "id": "DtvOQSUlEWGO",
        "colab": {
          "base_uri": "https://localhost:8080/"
        },
        "outputId": "cfb6235f-0e56-4d23-b910-e41b3b915f43"
      },
      "execution_count": null,
      "outputs": [
        {
          "output_type": "stream",
          "name": "stdout",
          "text": [
            "Model: \"sequential_5\"\n",
            "_________________________________________________________________\n",
            " Layer (type)                Output Shape              Param #   \n",
            "=================================================================\n",
            " embedding_5 (Embedding)     (None, 30, 128)           1899392   \n",
            "                                                                 \n",
            " gru (GRU)                   (None, 128)               99072     \n",
            "                                                                 \n",
            " dense_5 (Dense)             (None, 10)                1290      \n",
            "                                                                 \n",
            "=================================================================\n",
            "Total params: 1,999,754\n",
            "Trainable params: 1,999,754\n",
            "Non-trainable params: 0\n",
            "_________________________________________________________________\n"
          ]
        }
      ]
    },
    {
      "cell_type": "code",
      "source": [
        "model5.compile('adam', 'categorical_crossentropy', ['accuracy'])\n",
        "model5_path = 'unsmile_gru.h5'\n",
        "mc5 = ModelCheckpoint(model5_path, verbose=1, save_best_only=True)\n",
        "es5 = EarlyStopping(patience=5)"
      ],
      "metadata": {
        "id": "vCH6gLVyEVpy"
      },
      "execution_count": null,
      "outputs": []
    },
    {
      "cell_type": "code",
      "source": [
        "hist5 = model5.fit(\n",
        "    X_unsmile_train, y_unsmile_train, validation_data=[X_unsmile_valid, y_unsmile_valid],\n",
        "    epochs=100, batch_size=64, callbacks=[mc5, es5]\n",
        ")"
      ],
      "metadata": {
        "id": "940rbU7yEpfu",
        "colab": {
          "base_uri": "https://localhost:8080/"
        },
        "outputId": "0c9e7fa8-b98c-41a3-cf59-707fe7ca5ba3"
      },
      "execution_count": null,
      "outputs": [
        {
          "output_type": "stream",
          "name": "stdout",
          "text": [
            "Epoch 1/100\n",
            "163/166 [============================>.] - ETA: 0s - loss: 2.2053 - accuracy: 0.2562\n",
            "Epoch 1: val_loss improved from inf to 1.84401, saving model to unsmile_gru.h5\n",
            "166/166 [==============================] - 4s 14ms/step - loss: 2.2008 - accuracy: 0.2570 - val_loss: 1.8440 - val_accuracy: 0.1909\n",
            "Epoch 2/100\n",
            "158/166 [===========================>..] - ETA: 0s - loss: 1.2144 - accuracy: 0.6644\n",
            "Epoch 2: val_loss did not improve from 1.84401\n",
            "166/166 [==============================] - 1s 8ms/step - loss: 1.2012 - accuracy: 0.6676 - val_loss: 3.2137 - val_accuracy: 0.1863\n",
            "Epoch 3/100\n",
            "162/166 [============================>.] - ETA: 0s - loss: 0.8173 - accuracy: 0.7843\n",
            "Epoch 3: val_loss did not improve from 1.84401\n",
            "166/166 [==============================] - 1s 8ms/step - loss: 0.8165 - accuracy: 0.7849 - val_loss: 3.6591 - val_accuracy: 0.1794\n",
            "Epoch 4/100\n",
            "158/166 [===========================>..] - ETA: 0s - loss: 0.6895 - accuracy: 0.8264\n",
            "Epoch 4: val_loss did not improve from 1.84401\n",
            "166/166 [==============================] - 2s 10ms/step - loss: 0.6951 - accuracy: 0.8247 - val_loss: 4.2915 - val_accuracy: 0.1807\n",
            "Epoch 5/100\n",
            "162/166 [============================>.] - ETA: 0s - loss: 0.6460 - accuracy: 0.8353\n",
            "Epoch 5: val_loss did not improve from 1.84401\n",
            "166/166 [==============================] - 1s 8ms/step - loss: 0.6489 - accuracy: 0.8344 - val_loss: 4.8958 - val_accuracy: 0.1850\n",
            "Epoch 6/100\n",
            "163/166 [============================>.] - ETA: 0s - loss: 0.5944 - accuracy: 0.8455\n",
            "Epoch 6: val_loss did not improve from 1.84401\n",
            "166/166 [==============================] - 1s 8ms/step - loss: 0.5966 - accuracy: 0.8454 - val_loss: 5.2449 - val_accuracy: 0.1708\n"
          ]
        }
      ]
    },
    {
      "cell_type": "code",
      "source": [
        "best_model5 = load_model(model5_path)\n",
        "loss5, acc5 = best_model5.evaluate(X_unsmile_test, y_unsmile_test)\n",
        "loss5, acc5"
      ],
      "metadata": {
        "id": "Z59UpepqEq20",
        "colab": {
          "base_uri": "https://localhost:8080/"
        },
        "outputId": "46404ece-6fde-4b8c-8305-0cde14c87d3a"
      },
      "execution_count": null,
      "outputs": [
        {
          "output_type": "stream",
          "name": "stdout",
          "text": [
            "73/73 [==============================] - 1s 3ms/step - loss: 2.4951 - accuracy: 0.4656\n"
          ]
        },
        {
          "output_type": "execute_result",
          "data": {
            "text/plain": [
              "(2.495100736618042, 0.4655765891075134)"
            ]
          },
          "metadata": {},
          "execution_count": 75
        }
      ]
    },
    {
      "cell_type": "markdown",
      "source": [
        "- Conv1D + GRU"
      ],
      "metadata": {
        "id": "00cg1LWJiJco"
      }
    },
    {
      "cell_type": "code",
      "source": [
        "model6 = Sequential([ \n",
        "    Embedding(vocab_size, 128, input_length=max_len),\n",
        "    GRU(128),\n",
        "    Dense(10, activation='softmax')\n",
        "])\n",
        "model6.summary()"
      ],
      "metadata": {
        "id": "RQ9pa1IViNHZ",
        "colab": {
          "base_uri": "https://localhost:8080/"
        },
        "outputId": "199167d6-676a-496a-c720-dd5afa7da5e7"
      },
      "execution_count": null,
      "outputs": [
        {
          "output_type": "stream",
          "name": "stdout",
          "text": [
            "Model: \"sequential_6\"\n",
            "_________________________________________________________________\n",
            " Layer (type)                Output Shape              Param #   \n",
            "=================================================================\n",
            " embedding_6 (Embedding)     (None, 30, 128)           1899392   \n",
            "                                                                 \n",
            " gru_1 (GRU)                 (None, 128)               99072     \n",
            "                                                                 \n",
            " dense_6 (Dense)             (None, 10)                1290      \n",
            "                                                                 \n",
            "=================================================================\n",
            "Total params: 1,999,754\n",
            "Trainable params: 1,999,754\n",
            "Non-trainable params: 0\n",
            "_________________________________________________________________\n"
          ]
        }
      ]
    },
    {
      "cell_type": "code",
      "source": [
        "model6.compile('adam', 'categorical_crossentropy', ['accuracy'])\n",
        "model6_path = 'unsmile_conv1d_gru.h5'\n",
        "mc6 = ModelCheckpoint(model6_path, verbose=1, save_best_only=True)\n",
        "es6 = EarlyStopping(patience=5)"
      ],
      "metadata": {
        "id": "5frAfEYTiNEz"
      },
      "execution_count": null,
      "outputs": []
    },
    {
      "cell_type": "code",
      "source": [
        "hist6 = model6.fit(\n",
        "    X_unsmile_train, y_unsmile_train, validation_data=[X_unsmile_valid, y_unsmile_valid],\n",
        "    epochs=100, batch_size=64, callbacks=[mc6, es6]\n",
        ")"
      ],
      "metadata": {
        "id": "_wCik7M2iNCK",
        "colab": {
          "base_uri": "https://localhost:8080/"
        },
        "outputId": "0e3f88fc-cdd3-4273-cd2d-0f2ea3ca0bdb"
      },
      "execution_count": null,
      "outputs": [
        {
          "output_type": "stream",
          "name": "stdout",
          "text": [
            "Epoch 1/100\n",
            "161/166 [============================>.] - ETA: 0s - loss: 2.2104 - accuracy: 0.2527\n",
            "Epoch 1: val_loss improved from inf to 1.86176, saving model to unsmile_conv1d_gru.h5\n",
            "166/166 [==============================] - 4s 14ms/step - loss: 2.2038 - accuracy: 0.2557 - val_loss: 1.8618 - val_accuracy: 0.1794\n",
            "Epoch 2/100\n",
            "163/166 [============================>.] - ETA: 0s - loss: 1.2473 - accuracy: 0.6542\n",
            "Epoch 2: val_loss did not improve from 1.86176\n",
            "166/166 [==============================] - 2s 10ms/step - loss: 1.2418 - accuracy: 0.6559 - val_loss: 3.1632 - val_accuracy: 0.1796\n",
            "Epoch 3/100\n",
            "159/166 [===========================>..] - ETA: 0s - loss: 0.7875 - accuracy: 0.7872\n",
            "Epoch 3: val_loss did not improve from 1.86176\n",
            "166/166 [==============================] - 2s 10ms/step - loss: 0.7915 - accuracy: 0.7867 - val_loss: 3.6032 - val_accuracy: 0.1807\n",
            "Epoch 4/100\n",
            "164/166 [============================>.] - ETA: 0s - loss: 0.6788 - accuracy: 0.8199\n",
            "Epoch 4: val_loss did not improve from 1.86176\n",
            "166/166 [==============================] - 2s 10ms/step - loss: 0.6799 - accuracy: 0.8197 - val_loss: 4.1592 - val_accuracy: 0.1836\n",
            "Epoch 5/100\n",
            "166/166 [==============================] - ETA: 0s - loss: 0.6180 - accuracy: 0.8411\n",
            "Epoch 5: val_loss did not improve from 1.86176\n",
            "166/166 [==============================] - 1s 8ms/step - loss: 0.6180 - accuracy: 0.8411 - val_loss: 4.5192 - val_accuracy: 0.1812\n",
            "Epoch 6/100\n",
            "162/166 [============================>.] - ETA: 0s - loss: 0.5727 - accuracy: 0.8473\n",
            "Epoch 6: val_loss did not improve from 1.86176\n",
            "166/166 [==============================] - 1s 9ms/step - loss: 0.5739 - accuracy: 0.8485 - val_loss: 5.1565 - val_accuracy: 0.1788\n"
          ]
        }
      ]
    },
    {
      "cell_type": "code",
      "source": [
        "best_model6 = load_model(model6_path)\n",
        "loss6, acc6 = best_model6.evaluate(X_unsmile_test, y_unsmile_test)\n",
        "loss6, acc6"
      ],
      "metadata": {
        "id": "6gPjcDW8iM_8",
        "colab": {
          "base_uri": "https://localhost:8080/"
        },
        "outputId": "dc05d876-7e4a-4824-81fb-a50ddb79dde9"
      },
      "execution_count": null,
      "outputs": [
        {
          "output_type": "stream",
          "name": "stdout",
          "text": [
            "73/73 [==============================] - 1s 3ms/step - loss: 2.7109 - accuracy: 0.4359\n"
          ]
        },
        {
          "output_type": "execute_result",
          "data": {
            "text/plain": [
              "(2.710928440093994, 0.435886412858963)"
            ]
          },
          "metadata": {},
          "execution_count": 79
        }
      ]
    },
    {
      "cell_type": "markdown",
      "source": [
        "- SelfAttention"
      ],
      "metadata": {
        "id": "T_Q2epK-gZbl"
      }
    },
    {
      "cell_type": "code",
      "source": [
        "import tensorflow as tf\n",
        "\n",
        "class MultiHeadAttention(tf.keras.layers.Layer):\n",
        "    def __init__(self, embedding_dim, num_heads=8):\n",
        "        super(MultiHeadAttention, self).__init__()\n",
        "        self.embedding_dim = embedding_dim # d_model\n",
        "        self.num_heads = num_heads\n",
        "\n",
        "        assert embedding_dim % self.num_heads == 0\n",
        "\n",
        "        self.projection_dim = embedding_dim // num_heads\n",
        "        self.query_dense = tf.keras.layers.Dense(embedding_dim)\n",
        "        self.key_dense = tf.keras.layers.Dense(embedding_dim)\n",
        "        self.value_dense = tf.keras.layers.Dense(embedding_dim)\n",
        "        self.dense = tf.keras.layers.Dense(embedding_dim)\n",
        "\n",
        "    def scaled_dot_product_attention(self, query, key, value):\n",
        "        matmul_qk = tf.matmul(query, key, transpose_b=True)\n",
        "        depth = tf.cast(tf.shape(key)[-1], tf.float32)\n",
        "        logits = matmul_qk / tf.math.sqrt(depth)\n",
        "        attention_weights = tf.nn.softmax(logits, axis=-1)\n",
        "        output = tf.matmul(attention_weights, value)\n",
        "        return output, attention_weights\n",
        "\n",
        "    def split_heads(self, x, batch_size):\n",
        "        x = tf.reshape(x, (batch_size, -1, self.num_heads, self.projection_dim))\n",
        "        return tf.transpose(x, perm=[0, 2, 1, 3])\n",
        "\n",
        "    def call(self, inputs):\n",
        "        # x.shape = [batch_size, seq_len, embedding_dim]\n",
        "        batch_size = tf.shape(inputs)[0]\n",
        "\n",
        "        # (batch_size, seq_len, embedding_dim)\n",
        "        query = self.query_dense(inputs)\n",
        "        key = self.key_dense(inputs)\n",
        "        value = self.value_dense(inputs)\n",
        "\n",
        "        # (batch_size, num_heads, seq_len, projection_dim)\n",
        "        query = self.split_heads(query, batch_size)  \n",
        "        key = self.split_heads(key, batch_size)\n",
        "        value = self.split_heads(value, batch_size)\n",
        "\n",
        "        scaled_attention, _ = self.scaled_dot_product_attention(query, key, value)\n",
        "        # (batch_size, seq_len, num_heads, projection_dim)\n",
        "        scaled_attention = tf.transpose(scaled_attention, perm=[0, 2, 1, 3])  \n",
        "\n",
        "        # (batch_size, seq_len, embedding_dim)\n",
        "        concat_attention = tf.reshape(scaled_attention, (batch_size, -1, self.embedding_dim))\n",
        "        outputs = self.dense(concat_attention)\n",
        "        return outputs"
      ],
      "metadata": {
        "id": "qHmwVEYc2JzH"
      },
      "execution_count": null,
      "outputs": []
    },
    {
      "cell_type": "code",
      "source": [
        "# 인코더 설계\n",
        "class TransformerBlock(tf.keras.layers.Layer):\n",
        "    def __init__(self, embedding_dim, num_heads, dff, rate=0.1):\n",
        "        super(TransformerBlock, self).__init__()\n",
        "        self.att = MultiHeadAttention(embedding_dim, num_heads)\n",
        "        self.ffn = tf.keras.Sequential(\n",
        "            [tf.keras.layers.Dense(dff, activation=\"relu\"),\n",
        "             tf.keras.layers.Dense(embedding_dim),]\n",
        "        )\n",
        "        self.layernorm1 = tf.keras.layers.LayerNormalization(epsilon=1e-6)\n",
        "        self.layernorm2 = tf.keras.layers.LayerNormalization(epsilon=1e-6)\n",
        "        self.dropout1 = tf.keras.layers.Dropout(rate)\n",
        "        self.dropout2 = tf.keras.layers.Dropout(rate)\n",
        "\n",
        "    def call(self, inputs, training):\n",
        "        attn_output = self.att(inputs) # 첫번째 서브층 : 멀티 헤드 어텐션\n",
        "        attn_output = self.dropout1(attn_output, training=training)\n",
        "        out1 = self.layernorm1(inputs + attn_output) # Add & Norm\n",
        "        ffn_output = self.ffn(out1) # 두번째 서브층 : 포지션 와이즈 피드 포워드 신경망\n",
        "        ffn_output = self.dropout2(ffn_output, training=training)\n",
        "        return self.layernorm2(out1 + ffn_output) # Add & Norm"
      ],
      "metadata": {
        "id": "CaVyVBAK2Jw1"
      },
      "execution_count": null,
      "outputs": []
    },
    {
      "cell_type": "code",
      "source": [
        "# 포지션 임베딩\n",
        "class TokenAndPositionEmbedding(tf.keras.layers.Layer):\n",
        "    def __init__(self, max_len, vocab_size, embedding_dim):\n",
        "        super(TokenAndPositionEmbedding, self).__init__()\n",
        "        self.token_emb = tf.keras.layers.Embedding(vocab_size, embedding_dim)\n",
        "        self.pos_emb = tf.keras.layers.Embedding(max_len, embedding_dim)\n",
        "\n",
        "    def call(self, x):\n",
        "        max_len = tf.shape(x)[-1]\n",
        "        positions = tf.range(start=0, limit=max_len, delta=1)\n",
        "        positions = self.pos_emb(positions)\n",
        "        x = self.token_emb(x)\n",
        "        return x + positions"
      ],
      "metadata": {
        "id": "tOtP-tXR2JuY"
      },
      "execution_count": null,
      "outputs": []
    },
    {
      "cell_type": "code",
      "source": [
        "from tensorflow.keras.models import load_model\n",
        "from tensorflow.keras.callbacks import EarlyStopping, ModelCheckpoint"
      ],
      "metadata": {
        "id": "YycccUWX2Jrr"
      },
      "execution_count": null,
      "outputs": []
    },
    {
      "cell_type": "code",
      "source": [
        "embedding_dim = 32  # 각 단어의 임베딩 벡터의 차원\n",
        "num_heads = 2  # 어텐션 헤드의 수\n",
        "dff = 32  # 포지션 와이즈 피드 포워드 신경망의 은닉층의 크기\n",
        "\n",
        "inputs = tf.keras.layers.Input(shape=(max_len,))\n",
        "embedding_layer = TokenAndPositionEmbedding(max_len, vocab_size, embedding_dim)\n",
        "x = embedding_layer(inputs)\n",
        "transformer_block = TransformerBlock(embedding_dim, num_heads, dff)\n",
        "x = transformer_block(x)\n",
        "x = tf.keras.layers.GlobalMaxPooling1D()(x)\n",
        "x = tf.keras.layers.Dropout(0.1)(x)\n",
        "x = tf.keras.layers.Dense(20, activation=\"relu\")(x)\n",
        "x = tf.keras.layers.Dropout(0.1)(x)\n",
        "outputs = tf.keras.layers.Dense(10, activation=\"softmax\")(x)\n",
        "\n",
        "model7 = tf.keras.Model(inputs=inputs, outputs=outputs)\n",
        "model7.summary()"
      ],
      "metadata": {
        "id": "HcdgmRKk2kq4",
        "colab": {
          "base_uri": "https://localhost:8080/"
        },
        "outputId": "ac76063f-350d-473e-a0d3-84920a1fd8f8"
      },
      "execution_count": null,
      "outputs": [
        {
          "output_type": "stream",
          "name": "stdout",
          "text": [
            "Model: \"model\"\n",
            "_________________________________________________________________\n",
            " Layer (type)                Output Shape              Param #   \n",
            "=================================================================\n",
            " input_1 (InputLayer)        [(None, 30)]              0         \n",
            "                                                                 \n",
            " token_and_position_embeddin  (None, 30, 32)           475808    \n",
            " g (TokenAndPositionEmbeddin                                     \n",
            " g)                                                              \n",
            "                                                                 \n",
            " transformer_block (Transfor  (None, 30, 32)           6464      \n",
            " merBlock)                                                       \n",
            "                                                                 \n",
            " global_max_pooling1d_2 (Glo  (None, 32)               0         \n",
            " balMaxPooling1D)                                                \n",
            "                                                                 \n",
            " dropout_4 (Dropout)         (None, 32)                0         \n",
            "                                                                 \n",
            " dense_13 (Dense)            (None, 20)                660       \n",
            "                                                                 \n",
            " dropout_5 (Dropout)         (None, 20)                0         \n",
            "                                                                 \n",
            " dense_14 (Dense)            (None, 10)                210       \n",
            "                                                                 \n",
            "=================================================================\n",
            "Total params: 483,142\n",
            "Trainable params: 483,142\n",
            "Non-trainable params: 0\n",
            "_________________________________________________________________\n"
          ]
        }
      ]
    },
    {
      "cell_type": "code",
      "source": [
        "model7.compile(\"adam\", \"categorical_crossentropy\", metrics=[\"accuracy\"])\n",
        "model7_path = 'best-transforemr-attention.h5py'\n",
        "mc7 = ModelCheckpoint(model7_path, verbose=1, save_best_only=True)\n",
        "es7 = EarlyStopping(patience=5)\n",
        "\n",
        "history7 = model7.fit(X_unsmile_train, y_unsmile_train, batch_size=64, epochs=100, validation_data=[X_unsmile_valid, y_unsmile_valid], callbacks=[mc7, es7])"
      ],
      "metadata": {
        "id": "OHR_hUX12mxw",
        "colab": {
          "base_uri": "https://localhost:8080/"
        },
        "outputId": "aa6777e6-381b-4c63-d0d8-4c5b83ba5a04"
      },
      "execution_count": null,
      "outputs": [
        {
          "output_type": "stream",
          "name": "stdout",
          "text": [
            "Epoch 1/100\n",
            "166/166 [==============================] - ETA: 0s - loss: 2.4421 - accuracy: 0.1550\n",
            "Epoch 1: val_loss improved from inf to 1.80946, saving model to best-transforemr-attention.h5py\n"
          ]
        },
        {
          "output_type": "stream",
          "name": "stderr",
          "text": [
            "WARNING:absl:Found untraced functions such as embedding_7_layer_call_fn, embedding_7_layer_call_and_return_conditional_losses, embedding_8_layer_call_fn, embedding_8_layer_call_and_return_conditional_losses, multi_head_attention_layer_call_fn while saving (showing 5 of 22). These functions will not be directly callable after loading.\n"
          ]
        },
        {
          "output_type": "stream",
          "name": "stdout",
          "text": [
            "INFO:tensorflow:Assets written to: best-transforemr-attention.h5py/assets\n"
          ]
        },
        {
          "output_type": "stream",
          "name": "stderr",
          "text": [
            "INFO:tensorflow:Assets written to: best-transforemr-attention.h5py/assets\n",
            "WARNING:absl:<__main__.MultiHeadAttention object at 0x7faddc48ec50> has the same name 'MultiHeadAttention' as a built-in Keras object. Consider renaming <class '__main__.MultiHeadAttention'> to avoid naming conflicts when loading with `tf.keras.models.load_model`. If renaming is not possible, pass the object in the `custom_objects` parameter of the load function.\n"
          ]
        },
        {
          "output_type": "stream",
          "name": "stdout",
          "text": [
            "\b\b\b\b\b\b\b\b\b\b\b\b\b\b\b\b\b\b\b\b\b\b\b\b\b\b\b\b\b\b\b\b\b\b\b\b\b\b\b\b\b\b\b\b\b\b\b\b\b\b\b\b\b\b\b\b\b\b\b\b\b\b\b\b\b\b\b\b\b\b\b\b\b\b\b\b\b\b\b\b\b\b\b\b\r166/166 [==============================] - 12s 49ms/step - loss: 2.4421 - accuracy: 0.1550 - val_loss: 1.8095 - val_accuracy: 0.1826\n",
            "Epoch 2/100\n",
            "166/166 [==============================] - ETA: 0s - loss: 1.9067 - accuracy: 0.4011\n",
            "Epoch 2: val_loss did not improve from 1.80946\n",
            "166/166 [==============================] - 1s 8ms/step - loss: 1.9067 - accuracy: 0.4011 - val_loss: 2.2196 - val_accuracy: 0.1855\n",
            "Epoch 3/100\n",
            "163/166 [============================>.] - ETA: 0s - loss: 1.4430 - accuracy: 0.6048\n",
            "Epoch 3: val_loss did not improve from 1.80946\n",
            "166/166 [==============================] - 1s 8ms/step - loss: 1.4436 - accuracy: 0.6046 - val_loss: 2.9885 - val_accuracy: 0.1839\n",
            "Epoch 4/100\n",
            "166/166 [==============================] - ETA: 0s - loss: 1.7569 - accuracy: 0.6222\n",
            "Epoch 4: val_loss did not improve from 1.80946\n",
            "166/166 [==============================] - 1s 8ms/step - loss: 1.7569 - accuracy: 0.6222 - val_loss: 3.4796 - val_accuracy: 0.1836\n",
            "Epoch 5/100\n",
            "165/166 [============================>.] - ETA: 0s - loss: 4.9631 - accuracy: 0.4658\n",
            "Epoch 5: val_loss did not improve from 1.80946\n",
            "166/166 [==============================] - 1s 8ms/step - loss: 4.9970 - accuracy: 0.4646 - val_loss: 5.6419 - val_accuracy: 0.1799\n",
            "Epoch 6/100\n",
            "165/166 [============================>.] - ETA: 0s - loss: 9.6840 - accuracy: 0.3228\n",
            "Epoch 6: val_loss did not improve from 1.80946\n",
            "166/166 [==============================] - 1s 8ms/step - loss: 9.6713 - accuracy: 0.3223 - val_loss: 4.9874 - val_accuracy: 0.1968\n"
          ]
        }
      ]
    },
    {
      "cell_type": "code",
      "source": [
        "best_model7 = load_model(model7_path)\n",
        "loss7, acc7 = best_model7.evaluate(X_unsmile_test, y_unsmile_test)\n",
        "loss7, acc7"
      ],
      "metadata": {
        "id": "B085uUUwhI9d",
        "colab": {
          "base_uri": "https://localhost:8080/"
        },
        "outputId": "8d50fd7f-e7ee-4f51-b7ff-a47a4c777a2b"
      },
      "execution_count": null,
      "outputs": [
        {
          "output_type": "stream",
          "name": "stdout",
          "text": [
            "73/73 [==============================] - 1s 4ms/step - loss: 1.5409 - accuracy: 0.3472\n"
          ]
        },
        {
          "output_type": "execute_result",
          "data": {
            "text/plain": [
              "(1.540872573852539, 0.3472461402416229)"
            ]
          },
          "metadata": {},
          "execution_count": 86
        }
      ]
    },
    {
      "cell_type": "markdown",
      "source": [
        "- BiLSTM with Attention"
      ],
      "metadata": {
        "id": "HYMSN5OZQcPP"
      }
    },
    {
      "cell_type": "code",
      "source": [
        "from tensorflow.keras.models import Sequential, load_model, Model\n",
        "from tensorflow.keras.layers import Embedding, LSTM, Dense, Conv1D, GlobalMaxPooling1D, Dropout, Concatenate, Input\n",
        "from tensorflow.keras.callbacks import ModelCheckpoint, EarlyStopping"
      ],
      "metadata": {
        "id": "UHywHDeaQ34f"
      },
      "execution_count": null,
      "outputs": []
    },
    {
      "cell_type": "code",
      "source": [
        "class BahdanauAttention(tf.keras.Model):\n",
        "  def __init__(self, units):\n",
        "    super(BahdanauAttention, self).__init__()\n",
        "    self.W1 = Dense(units)\n",
        "    self.W2 = Dense(units)\n",
        "    self.V = Dense(1)\n",
        "\n",
        "  def call(self, values, query): # 단, key와 value는 같음\n",
        "    # query shape == (batch_size, hidden size)\n",
        "    # hidden_with_time_axis shape == (batch_size, 1, hidden size)\n",
        "    # score 계산을 위해 뒤에서 할 덧셈을 위해서 차원을 변경해줍니다.\n",
        "    hidden_with_time_axis = tf.expand_dims(query, 1)\n",
        "\n",
        "    # score shape == (batch_size, max_length, 1)\n",
        "    # we get 1 at the last axis because we are applying score to self.V\n",
        "    # the shape of the tensor before applying self.V is (batch_size, max_length, units)\n",
        "    score = self.V(tf.nn.tanh(\n",
        "        self.W1(values) + self.W2(hidden_with_time_axis)))\n",
        "\n",
        "    # attention_weights shape == (batch_size, max_length, 1)\n",
        "    attention_weights = tf.nn.softmax(score, axis=1)\n",
        "\n",
        "    # context_vector shape after sum == (batch_size, hidden_size)\n",
        "    context_vector = attention_weights * values\n",
        "    context_vector = tf.reduce_sum(context_vector, axis=1)\n",
        "\n",
        "    return context_vector, attention_weights"
      ],
      "metadata": {
        "id": "cuRnXcFLQlBd"
      },
      "execution_count": null,
      "outputs": []
    },
    {
      "cell_type": "code",
      "source": [
        "sequence_input = Input(shape=(max_len,), dtype='int32')\n",
        "embedded_sequences = Embedding(vocab_size, 128, input_length=max_len, mask_zero = True)(sequence_input)\n",
        "lstm = Bidirectional(LSTM(64, dropout=0.5, return_sequences = True))(embedded_sequences)\n",
        "lstm, forward_h, forward_c, backward_h, backward_c = Bidirectional \\\n",
        "  (LSTM(64, dropout=0.5, return_sequences=True, return_state=True))(lstm)\n",
        "state_h = Concatenate()([forward_h, backward_h]) # 은닉 상태\n",
        "state_c = Concatenate()([forward_c, backward_c]) # 셀 상태\n",
        "attention = BahdanauAttention(64) # 가중치 크기 정의\n",
        "context_vector, attention_weights = attention(lstm, state_h)\n",
        "dense1 = Dense(20, activation=\"relu\")(context_vector)\n",
        "dropout = Dropout(0.5)(dense1)\n",
        "output = Dense(10, activation=\"softmax\")(dropout)\n",
        "model8 = Model(inputs=sequence_input, outputs=output)\n",
        "model8.summary()"
      ],
      "metadata": {
        "id": "8vS4cnd9Qk_Q",
        "colab": {
          "base_uri": "https://localhost:8080/"
        },
        "outputId": "4058f063-072f-4989-9a8c-e0781f524928"
      },
      "execution_count": null,
      "outputs": [
        {
          "output_type": "stream",
          "name": "stdout",
          "text": [
            "Model: \"model_1\"\n",
            "__________________________________________________________________________________________________\n",
            " Layer (type)                   Output Shape         Param #     Connected to                     \n",
            "==================================================================================================\n",
            " input_2 (InputLayer)           [(None, 30)]         0           []                               \n",
            "                                                                                                  \n",
            " embedding_9 (Embedding)        (None, 30, 128)      1899392     ['input_2[0][0]']                \n",
            "                                                                                                  \n",
            " bidirectional_2 (Bidirectional  (None, 30, 128)     98816       ['embedding_9[0][0]']            \n",
            " )                                                                                                \n",
            "                                                                                                  \n",
            " bidirectional_3 (Bidirectional  [(None, 30, 128),   98816       ['bidirectional_2[0][0]']        \n",
            " )                               (None, 64),                                                      \n",
            "                                 (None, 64),                                                      \n",
            "                                 (None, 64),                                                      \n",
            "                                 (None, 64)]                                                      \n",
            "                                                                                                  \n",
            " concatenate (Concatenate)      (None, 128)          0           ['bidirectional_3[0][1]',        \n",
            "                                                                  'bidirectional_3[0][3]']        \n",
            "                                                                                                  \n",
            " bahdanau_attention (BahdanauAt  ((None, 128),       16577       ['bidirectional_3[0][0]',        \n",
            " tention)                        (None, 30, 1))                   'concatenate[0][0]']            \n",
            "                                                                                                  \n",
            " dense_18 (Dense)               (None, 20)           2580        ['bahdanau_attention[0][0]']     \n",
            "                                                                                                  \n",
            " dropout_6 (Dropout)            (None, 20)           0           ['dense_18[0][0]']               \n",
            "                                                                                                  \n",
            " dense_19 (Dense)               (None, 10)           210         ['dropout_6[0][0]']              \n",
            "                                                                                                  \n",
            "==================================================================================================\n",
            "Total params: 2,116,391\n",
            "Trainable params: 2,116,391\n",
            "Non-trainable params: 0\n",
            "__________________________________________________________________________________________________\n"
          ]
        }
      ]
    },
    {
      "cell_type": "code",
      "source": [
        "model8.compile(loss='categorical_crossentropy', optimizer='adam', metrics=['accuracy'])\n",
        "model8_path = 'best-lstm-attention.h5py'\n",
        "mc8 = ModelCheckpoint(model8_path, verbose=1, save_best_only=True)\n",
        "es8 = EarlyStopping(patience=5)"
      ],
      "metadata": {
        "id": "K_J0z88LQk9W"
      },
      "execution_count": null,
      "outputs": []
    },
    {
      "cell_type": "code",
      "source": [
        "hist8 = model8.fit(X_unsmile_train, y_unsmile_train, epochs = 100, batch_size = 64, \n",
        "                     validation_data=[X_unsmile_valid, y_unsmile_valid], verbose=1, \n",
        "                     callbacks=[mc8, es8])"
      ],
      "metadata": {
        "id": "r5W7gbYWQk7M",
        "colab": {
          "base_uri": "https://localhost:8080/"
        },
        "outputId": "c19a33a7-fc71-4d4c-851f-5a2057e44146"
      },
      "execution_count": null,
      "outputs": [
        {
          "output_type": "stream",
          "name": "stdout",
          "text": [
            "Epoch 1/100\n",
            "166/166 [==============================] - ETA: 0s - loss: 2.2731 - accuracy: 0.2193\n",
            "Epoch 1: val_loss improved from inf to 1.86306, saving model to best-lstm-attention.h5py\n"
          ]
        },
        {
          "output_type": "stream",
          "name": "stderr",
          "text": [
            "WARNING:absl:Found untraced functions such as lstm_cell_17_layer_call_fn, lstm_cell_17_layer_call_and_return_conditional_losses, lstm_cell_18_layer_call_fn, lstm_cell_18_layer_call_and_return_conditional_losses, lstm_cell_20_layer_call_fn while saving (showing 5 of 8). These functions will not be directly callable after loading.\n"
          ]
        },
        {
          "output_type": "stream",
          "name": "stdout",
          "text": [
            "INFO:tensorflow:Assets written to: best-lstm-attention.h5py/assets\n"
          ]
        },
        {
          "output_type": "stream",
          "name": "stderr",
          "text": [
            "INFO:tensorflow:Assets written to: best-lstm-attention.h5py/assets\n",
            "WARNING:absl:<keras.layers.recurrent.LSTMCell object at 0x7fadca2d2410> has the same name 'LSTMCell' as a built-in Keras object. Consider renaming <class 'keras.layers.recurrent.LSTMCell'> to avoid naming conflicts when loading with `tf.keras.models.load_model`. If renaming is not possible, pass the object in the `custom_objects` parameter of the load function.\n",
            "WARNING:absl:<keras.layers.recurrent.LSTMCell object at 0x7fadca2c52d0> has the same name 'LSTMCell' as a built-in Keras object. Consider renaming <class 'keras.layers.recurrent.LSTMCell'> to avoid naming conflicts when loading with `tf.keras.models.load_model`. If renaming is not possible, pass the object in the `custom_objects` parameter of the load function.\n",
            "WARNING:absl:<keras.layers.recurrent.LSTMCell object at 0x7fadca2b8f10> has the same name 'LSTMCell' as a built-in Keras object. Consider renaming <class 'keras.layers.recurrent.LSTMCell'> to avoid naming conflicts when loading with `tf.keras.models.load_model`. If renaming is not possible, pass the object in the `custom_objects` parameter of the load function.\n",
            "WARNING:absl:<keras.layers.recurrent.LSTMCell object at 0x7fad2d351d10> has the same name 'LSTMCell' as a built-in Keras object. Consider renaming <class 'keras.layers.recurrent.LSTMCell'> to avoid naming conflicts when loading with `tf.keras.models.load_model`. If renaming is not possible, pass the object in the `custom_objects` parameter of the load function.\n"
          ]
        },
        {
          "output_type": "stream",
          "name": "stdout",
          "text": [
            "\b\b\b\b\b\b\b\b\b\b\b\b\b\b\b\b\b\b\b\b\b\b\b\b\b\b\b\b\b\b\b\b\b\b\b\b\b\b\b\b\b\b\b\b\b\b\b\b\b\b\b\b\b\b\b\b\b\b\b\b\b\b\b\b\b\b\b\b\b\b\b\b\b\b\b\b\b\b\b\b\b\b\b\b\r166/166 [==============================] - 246s 1s/step - loss: 2.2731 - accuracy: 0.2193 - val_loss: 1.8631 - val_accuracy: 0.1946\n",
            "Epoch 2/100\n",
            "166/166 [==============================] - ETA: 0s - loss: 1.7913 - accuracy: 0.4412\n",
            "Epoch 2: val_loss did not improve from 1.86306\n",
            "166/166 [==============================] - 53s 317ms/step - loss: 1.7913 - accuracy: 0.4412 - val_loss: 2.5736 - val_accuracy: 0.1651\n",
            "Epoch 3/100\n",
            "166/166 [==============================] - ETA: 0s - loss: 1.6612 - accuracy: 0.5623\n",
            "Epoch 3: val_loss did not improve from 1.86306\n",
            "166/166 [==============================] - 53s 318ms/step - loss: 1.6612 - accuracy: 0.5623 - val_loss: 3.5842 - val_accuracy: 0.1751\n",
            "Epoch 4/100\n",
            "166/166 [==============================] - ETA: 0s - loss: 1.8994 - accuracy: 0.6355\n",
            "Epoch 4: val_loss did not improve from 1.86306\n",
            "166/166 [==============================] - 53s 318ms/step - loss: 1.8994 - accuracy: 0.6355 - val_loss: 5.5212 - val_accuracy: 0.1772\n",
            "Epoch 5/100\n",
            "166/166 [==============================] - ETA: 0s - loss: 2.9408 - accuracy: 0.5994\n",
            "Epoch 5: val_loss did not improve from 1.86306\n",
            "166/166 [==============================] - 53s 320ms/step - loss: 2.9408 - accuracy: 0.5994 - val_loss: 7.9791 - val_accuracy: 0.1732\n",
            "Epoch 6/100\n",
            "166/166 [==============================] - ETA: 0s - loss: 4.0760 - accuracy: 0.5446\n",
            "Epoch 6: val_loss did not improve from 1.86306\n",
            "166/166 [==============================] - 53s 318ms/step - loss: 4.0760 - accuracy: 0.5446 - val_loss: 8.7591 - val_accuracy: 0.1796\n"
          ]
        }
      ]
    },
    {
      "cell_type": "code",
      "source": [
        "best_model8 = load_model(model8_path)\n",
        "loss8, acc8 = best_model8.evaluate(X_unsmile_test, y_unsmile_test)\n",
        "loss8, acc8"
      ],
      "metadata": {
        "id": "pOh1aXGrQxtd",
        "colab": {
          "base_uri": "https://localhost:8080/"
        },
        "outputId": "82eae171-3dfa-4444-a71c-21a7f369fa2c"
      },
      "execution_count": null,
      "outputs": [
        {
          "output_type": "stream",
          "name": "stdout",
          "text": [
            "73/73 [==============================] - 7s 37ms/step - loss: 1.5103 - accuracy: 0.4540\n"
          ]
        },
        {
          "output_type": "execute_result",
          "data": {
            "text/plain": [
              "(1.510287880897522, 0.4539586901664734)"
            ]
          },
          "metadata": {},
          "execution_count": 92
        }
      ]
    },
    {
      "cell_type": "markdown",
      "source": [
        "- 정확도 비교"
      ],
      "metadata": {
        "id": "ldMqPamVhM47"
      }
    },
    {
      "cell_type": "code",
      "source": [
        "print(f\"LSTM : {loss1} / {acc1}\")\n",
        "print(f\"Conv1D + LSTM : {loss2} / {acc2}\")\n",
        "print(f\"BiLSTM : {loss3} / {acc3}\")\n",
        "print(f\"Conv1D + BiLSTM : {loss4} / {acc4}\")\n",
        "print(f\"GRU : {loss5} / {acc5}\")\n",
        "print(f\"Conv1D + GRU : {loss6} / {acc6}\")\n",
        "print(f\"SelfAttention : {loss7} / {acc7}\")\n",
        "print(f\"BiLSTM with Attetion : {loss8} / {acc8}\")"
      ],
      "metadata": {
        "id": "HNjyy6r42u9q",
        "colab": {
          "base_uri": "https://localhost:8080/"
        },
        "outputId": "041b466f-adac-478f-93e4-1a4dc6749734"
      },
      "execution_count": null,
      "outputs": [
        {
          "output_type": "stream",
          "name": "stdout",
          "text": [
            "LSTM : 2.3742728233337402 / 0.43502581119537354\n",
            "Conv1D + LSTM : 1.9274927377700806 / 0.4918244481086731\n",
            "BiLSTM : 2.2268686294555664 / 0.4879518151283264\n",
            "Conv1D + BiLSTM : 2.5487771034240723 / 0.5\n",
            "GRU : 2.495100736618042 / 0.4655765891075134\n",
            "Conv1D + GRU : 2.710928440093994 / 0.435886412858963\n",
            "SelfAttention : 1.540872573852539 / 0.3472461402416229\n",
            "BiLSTM with Attetion : 1.510287880897522 / 0.4539586901664734\n"
          ]
        }
      ]
    }
  ]
}